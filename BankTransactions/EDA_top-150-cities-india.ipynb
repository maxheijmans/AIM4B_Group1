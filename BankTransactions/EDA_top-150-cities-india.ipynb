{
 "cells": [
  {
   "cell_type": "code",
   "execution_count": 21,
   "metadata": {},
   "outputs": [
    {
     "ename": "ModuleNotFoundError",
     "evalue": "No module named 'geopandas'",
     "output_type": "error",
     "traceback": [
      "\u001b[1;31m---------------------------------------------------------------------------\u001b[0m",
      "\u001b[1;31mModuleNotFoundError\u001b[0m                       Traceback (most recent call last)",
      "\u001b[1;32mc:\\Users\\maheijmans\\OneDrive - Deloitte (O365D)\\Documents\\GitHub\\DBM_Group1\\BankTransactions\\EDA_top-150-cities-india.ipynb Cell 1\u001b[0m line \u001b[0;36m4\n\u001b[0;32m      <a href='vscode-notebook-cell:/c%3A/Users/maheijmans/OneDrive%20-%20Deloitte%20%28O365D%29/Documents/GitHub/DBM_Group1/BankTransactions/EDA_top-150-cities-india.ipynb#W1sZmlsZQ%3D%3D?line=1'>2</a>\u001b[0m \u001b[39mimport\u001b[39;00m \u001b[39mpandas\u001b[39;00m \u001b[39mas\u001b[39;00m \u001b[39mpd\u001b[39;00m\n\u001b[0;32m      <a href='vscode-notebook-cell:/c%3A/Users/maheijmans/OneDrive%20-%20Deloitte%20%28O365D%29/Documents/GitHub/DBM_Group1/BankTransactions/EDA_top-150-cities-india.ipynb#W1sZmlsZQ%3D%3D?line=2'>3</a>\u001b[0m \u001b[39mimport\u001b[39;00m \u001b[39municodedata\u001b[39;00m\n\u001b[1;32m----> <a href='vscode-notebook-cell:/c%3A/Users/maheijmans/OneDrive%20-%20Deloitte%20%28O365D%29/Documents/GitHub/DBM_Group1/BankTransactions/EDA_top-150-cities-india.ipynb#W1sZmlsZQ%3D%3D?line=3'>4</a>\u001b[0m \u001b[39mimport\u001b[39;00m \u001b[39mgeopandas\u001b[39;00m \u001b[39mas\u001b[39;00m \u001b[39mgpd\u001b[39;00m \u001b[39m#pip install geopandas\u001b[39;00m\n\u001b[0;32m      <a href='vscode-notebook-cell:/c%3A/Users/maheijmans/OneDrive%20-%20Deloitte%20%28O365D%29/Documents/GitHub/DBM_Group1/BankTransactions/EDA_top-150-cities-india.ipynb#W1sZmlsZQ%3D%3D?line=4'>5</a>\u001b[0m \u001b[39mimport\u001b[39;00m \u001b[39mmatplotlib\u001b[39;00m\u001b[39m.\u001b[39;00m\u001b[39mpyplot\u001b[39;00m \u001b[39mas\u001b[39;00m \u001b[39mplt\u001b[39;00m\n",
      "\u001b[1;31mModuleNotFoundError\u001b[0m: No module named 'geopandas'"
     ]
    }
   ],
   "source": [
    "# Import all necessary packages/libraries\n",
    "import pandas as pd\n",
    "import unicodedata\n",
    "import geopandas as gpd #pip install geopandas\n",
    "import matplotlib.pyplot as plt"
   ]
  },
  {
   "cell_type": "code",
   "execution_count": 17,
   "metadata": {},
   "outputs": [
    {
     "name": "stdout",
     "output_type": "stream",
     "text": [
      "Original length of dataframe: 150\n",
      "There are 150 rows and 9 columns in the dataset\n"
     ]
    }
   ],
   "source": [
    "# Reading the data\n",
    "top_150_cities = pd.read_csv(r\"top_150_cities_india.csv\", delimiter=',')\n",
    "df_original_len = len(top_150_cities)\n",
    "print('Original length of dataframe:', df_original_len)\n",
    "print(\"There are {} rows and {} columns in the dataset\".format(top_150_cities.shape[0], top_150_cities.shape[1]))"
   ]
  },
  {
   "cell_type": "code",
   "execution_count": 18,
   "metadata": {},
   "outputs": [],
   "source": [
    "# Function to normalize text; replace ā, ī, etcetera\n",
    "def normalize_text(text):\n",
    "    return unicodedata.normalize('NFKD', text).encode('ascii', 'ignore').decode('utf-8', 'ignore')\n",
    "\n",
    "# Columns the function should apply to\n",
    "columns_to_clean = ['city', 'admin_name']\n",
    "\n",
    "# For loop in order to apply function to each column specified\n",
    "for column in columns_to_clean:\n",
    "    top_150_cities[column] = top_150_cities[column].apply(normalize_text)\n",
    "\n",
    "# Apply function to columns\n",
    "top_150_cities['city'] = top_150_cities['city'].apply(normalize_text)"
   ]
  },
  {
   "cell_type": "code",
   "execution_count": 19,
   "metadata": {},
   "outputs": [
    {
     "name": "stdout",
     "output_type": "stream",
     "text": [
      "        city      lat      lng country iso2   admin_name capital  population  \\\n",
      "0      Delhi  28.6100  77.2300   India   IN        Delhi   admin    32226000   \n",
      "1     Mumbai  19.0761  72.8775   India   IN  Maharashtra   admin    24973000   \n",
      "2    Kolkata  22.5675  88.3700   India   IN  West Bengal   admin    18502000   \n",
      "3  Bangalore  12.9789  77.5917   India   IN    Karnataka   admin    15386000   \n",
      "4    Chennai  13.0825  80.2750   India   IN   Tamil Nadu   admin    12395000   \n",
      "\n",
      "   population_proper  \n",
      "0           16753235  \n",
      "1           12478447  \n",
      "2            4496694  \n",
      "3            8443675  \n",
      "4            6727000  \n",
      "             city      lat      lng country iso2 admin_name capital  \\\n",
      "145    Bendravadi  12.3636  76.9137   India   IN  Karnataka     NaN   \n",
      "146   Kodagihalli  12.9771  77.4651   India   IN  Karnataka     NaN   \n",
      "147  Harna Buzurg  25.0981  87.0148   India   IN      Bihar     NaN   \n",
      "148   Mailanhalli  13.1863  77.6963   India   IN  Karnataka     NaN   \n",
      "149     Sultanpur  25.5248  85.2507   India   IN      Bihar     NaN   \n",
      "\n",
      "     population  population_proper  \n",
      "145        2684               2684  \n",
      "146        2585               2585  \n",
      "147        2579               2579  \n",
      "148        2543               2543  \n",
      "149        2473               2473  \n"
     ]
    }
   ],
   "source": [
    "print(top_150_cities.head())\n",
    "print(top_150_cities.tail())"
   ]
  },
  {
   "cell_type": "code",
   "execution_count": 20,
   "metadata": {},
   "outputs": [
    {
     "ename": "NameError",
     "evalue": "name 'gpd' is not defined",
     "output_type": "error",
     "traceback": [
      "\u001b[1;31m---------------------------------------------------------------------------\u001b[0m",
      "\u001b[1;31mNameError\u001b[0m                                 Traceback (most recent call last)",
      "\u001b[1;32mc:\\Users\\maheijmans\\OneDrive - Deloitte (O365D)\\Documents\\GitHub\\DBM_Group1\\BankTransactions\\EDA_top-150-cities-india.ipynb Cell 5\u001b[0m line \u001b[0;36m2\n\u001b[0;32m      <a href='vscode-notebook-cell:/c%3A/Users/maheijmans/OneDrive%20-%20Deloitte%20%28O365D%29/Documents/GitHub/DBM_Group1/BankTransactions/EDA_top-150-cities-india.ipynb#X10sZmlsZQ%3D%3D?line=0'>1</a>\u001b[0m \u001b[39m# Convert the DataFrame to a GeoDataFrame\u001b[39;00m\n\u001b[1;32m----> <a href='vscode-notebook-cell:/c%3A/Users/maheijmans/OneDrive%20-%20Deloitte%20%28O365D%29/Documents/GitHub/DBM_Group1/BankTransactions/EDA_top-150-cities-india.ipynb#X10sZmlsZQ%3D%3D?line=1'>2</a>\u001b[0m gdf \u001b[39m=\u001b[39m gpd\u001b[39m.\u001b[39mGeoDataFrame(top_150_cities, geometry\u001b[39m=\u001b[39mgpd\u001b[39m.\u001b[39mpoints_from_xy(top_150_cities\u001b[39m.\u001b[39mlng, top_150_cities\u001b[39m.\u001b[39mlat))\n\u001b[0;32m      <a href='vscode-notebook-cell:/c%3A/Users/maheijmans/OneDrive%20-%20Deloitte%20%28O365D%29/Documents/GitHub/DBM_Group1/BankTransactions/EDA_top-150-cities-india.ipynb#X10sZmlsZQ%3D%3D?line=3'>4</a>\u001b[0m \u001b[39m# Plotting\u001b[39;00m\n\u001b[0;32m      <a href='vscode-notebook-cell:/c%3A/Users/maheijmans/OneDrive%20-%20Deloitte%20%28O365D%29/Documents/GitHub/DBM_Group1/BankTransactions/EDA_top-150-cities-india.ipynb#X10sZmlsZQ%3D%3D?line=4'>5</a>\u001b[0m fig, ax \u001b[39m=\u001b[39m plt\u001b[39m.\u001b[39msubplots(figsize\u001b[39m=\u001b[39m(\u001b[39m10\u001b[39m, \u001b[39m10\u001b[39m))\n",
      "\u001b[1;31mNameError\u001b[0m: name 'gpd' is not defined"
     ]
    }
   ],
   "source": [
    "# Convert the DataFrame to a GeoDataFrame\n",
    "gdf = gpd.GeoDataFrame(top_150_cities, geometry=gpd.points_from_xy(top_150_cities.lng, top_150_cities.lat))\n",
    "\n",
    "# Plotting\n",
    "fig, ax = plt.subplots(figsize=(10, 10))\n",
    "world = gpd.read_file(gpd.datasets.get_path('naturalearth_lowres'))\n",
    "world[world.name == \"India\"].plot(ax=ax, color='white', edgecolor='black')\n",
    "\n",
    "# Plotting the cities on the map\n",
    "gdf.plot(ax=ax, marker='o', color='red', markersize=5)\n",
    "\n",
    "# Adding city names as labels\n",
    "for x, y, label in zip(gdf.geometry.x, gdf.geometry.y, gdf.city):\n",
    "    ax.text(x, y, label)\n",
    "\n",
    "plt.title('Major Cities in India')\n",
    "plt.show()"
   ]
  }
 ],
 "metadata": {
  "kernelspec": {
   "display_name": "Python 3",
   "language": "python",
   "name": "python3"
  },
  "language_info": {
   "codemirror_mode": {
    "name": "ipython",
    "version": 3
   },
   "file_extension": ".py",
   "mimetype": "text/x-python",
   "name": "python",
   "nbconvert_exporter": "python",
   "pygments_lexer": "ipython3",
   "version": "3.11.5"
  }
 },
 "nbformat": 4,
 "nbformat_minor": 2
}
