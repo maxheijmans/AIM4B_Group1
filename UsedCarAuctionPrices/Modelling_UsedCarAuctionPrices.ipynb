{
 "cells": [
  {
   "cell_type": "markdown",
   "metadata": {},
   "source": [
    "Predicting finally"
   ]
  },
  {
   "cell_type": "markdown",
   "metadata": {},
   "source": [
    "<div style=\"position: relative; background: #3567A8; color: white; padding: 10px 15px; text-align: center; border-radius: 6px;\">\n",
    "    <span style=\"position: absolute; left: -25px; top: 10px; transform: rotate(-45deg); background: #3567A8; padding: 5px 10px; border-radius: 3px;\">Section 1</span>\n",
    "    <h1 style=\"font-size: 30px;\">Dataset Preperation </h1>\n",
    "</div>"
   ]
  },
  {
   "cell_type": "code",
   "execution_count": 2,
   "metadata": {},
   "outputs": [],
   "source": [
    "import pyarrow.feather as feather\n",
    "import pandas as pd\n",
    "import pandas as pd\n",
    "import numpy as np\n",
    "import matplotlib.pyplot as plt\n",
    "from xgboost import XGBRegressor\n",
    "from sklearn.neighbors import KNeighborsRegressor\n",
    "from sklearn.model_selection import RandomizedSearchCV, GridSearchCV\n",
    "from sklearn.model_selection import cross_val_score, train_test_split\n",
    "from sklearn.metrics import mean_squared_error, mean_absolute_error\n",
    "from sklearn.linear_model import LinearRegression\n",
    "from sklearn.ensemble import RandomForestRegressor\n",
    "from scipy.stats import randint"
   ]
  },
  {
   "cell_type": "code",
   "execution_count": 3,
   "metadata": {},
   "outputs": [],
   "source": [
    "#Load the feather file into a car_df\n",
    "car_df = feather.read_feather('processed_data.feather')"
   ]
  },
  {
   "cell_type": "code",
   "execution_count": 4,
   "metadata": {},
   "outputs": [
    {
     "data": {
      "text/plain": [
       "Index(['year', 'brand', 'model', 'trim', 'body', 'transmission', 'condition',\n",
       "       'odometer', 'color', 'interior', 'sellingprice', 'brand_model',\n",
       "       'car_age', 'mileage_per_year', 'market_price_deviation', 'brand_label',\n",
       "       'trim_label', 'body_label', 'color_label', 'interior_label',\n",
       "       'transmission_label'],\n",
       "      dtype='object')"
      ]
     },
     "execution_count": 4,
     "metadata": {},
     "output_type": "execute_result"
    }
   ],
   "source": [
    "car_df.columns"
   ]
  },
  {
   "cell_type": "code",
   "execution_count": 5,
   "metadata": {},
   "outputs": [
    {
     "data": {
      "text/html": [
       "<div>\n",
       "<style scoped>\n",
       "    .dataframe tbody tr th:only-of-type {\n",
       "        vertical-align: middle;\n",
       "    }\n",
       "\n",
       "    .dataframe tbody tr th {\n",
       "        vertical-align: top;\n",
       "    }\n",
       "\n",
       "    .dataframe thead th {\n",
       "        text-align: right;\n",
       "    }\n",
       "</style>\n",
       "<table border=\"1\" class=\"dataframe\">\n",
       "  <thead>\n",
       "    <tr style=\"text-align: right;\">\n",
       "      <th></th>\n",
       "      <th>year</th>\n",
       "      <th>brand</th>\n",
       "      <th>model</th>\n",
       "      <th>trim</th>\n",
       "      <th>body</th>\n",
       "      <th>transmission</th>\n",
       "      <th>condition</th>\n",
       "      <th>odometer</th>\n",
       "      <th>color</th>\n",
       "      <th>interior</th>\n",
       "      <th>...</th>\n",
       "      <th>brand_model</th>\n",
       "      <th>car_age</th>\n",
       "      <th>mileage_per_year</th>\n",
       "      <th>market_price_deviation</th>\n",
       "      <th>brand_label</th>\n",
       "      <th>trim_label</th>\n",
       "      <th>body_label</th>\n",
       "      <th>color_label</th>\n",
       "      <th>interior_label</th>\n",
       "      <th>transmission_label</th>\n",
       "    </tr>\n",
       "  </thead>\n",
       "  <tbody>\n",
       "    <tr>\n",
       "      <th>2</th>\n",
       "      <td>2014</td>\n",
       "      <td>Bmw</td>\n",
       "      <td>3 Series</td>\n",
       "      <td>Others</td>\n",
       "      <td>Sedan</td>\n",
       "      <td>Automatic</td>\n",
       "      <td>1.145277</td>\n",
       "      <td>-1.364964</td>\n",
       "      <td>Silver</td>\n",
       "      <td>Black</td>\n",
       "      <td>...</td>\n",
       "      <td>Bmw_3 Series</td>\n",
       "      <td>-1.021999</td>\n",
       "      <td>-2.023111</td>\n",
       "      <td>-1.773132</td>\n",
       "      <td>8</td>\n",
       "      <td>0</td>\n",
       "      <td>1</td>\n",
       "      <td>1</td>\n",
       "      <td>1</td>\n",
       "      <td>0</td>\n",
       "    </tr>\n",
       "    <tr>\n",
       "      <th>3</th>\n",
       "      <td>2015</td>\n",
       "      <td>Others</td>\n",
       "      <td>Others</td>\n",
       "      <td>Others</td>\n",
       "      <td>Sedan</td>\n",
       "      <td>Automatic</td>\n",
       "      <td>0.719401</td>\n",
       "      <td>-1.086219</td>\n",
       "      <td>White</td>\n",
       "      <td>Black</td>\n",
       "      <td>...</td>\n",
       "      <td>Others_Others</td>\n",
       "      <td>-1.311799</td>\n",
       "      <td>-0.107857</td>\n",
       "      <td>0.287817</td>\n",
       "      <td>0</td>\n",
       "      <td>0</td>\n",
       "      <td>1</td>\n",
       "      <td>3</td>\n",
       "      <td>1</td>\n",
       "      <td>0</td>\n",
       "    </tr>\n",
       "    <tr>\n",
       "      <th>4</th>\n",
       "      <td>2014</td>\n",
       "      <td>Bmw</td>\n",
       "      <td>Others</td>\n",
       "      <td>Others</td>\n",
       "      <td>Sedan</td>\n",
       "      <td>Automatic</td>\n",
       "      <td>0.932339</td>\n",
       "      <td>-1.336769</td>\n",
       "      <td>Silver</td>\n",
       "      <td>Black</td>\n",
       "      <td>...</td>\n",
       "      <td>Bmw_Others</td>\n",
       "      <td>-1.311799</td>\n",
       "      <td>-0.107857</td>\n",
       "      <td>1.006753</td>\n",
       "      <td>8</td>\n",
       "      <td>0</td>\n",
       "      <td>1</td>\n",
       "      <td>1</td>\n",
       "      <td>1</td>\n",
       "      <td>0</td>\n",
       "    </tr>\n",
       "    <tr>\n",
       "      <th>6</th>\n",
       "      <td>2014</td>\n",
       "      <td>Bmw</td>\n",
       "      <td>Others</td>\n",
       "      <td>Base</td>\n",
       "      <td>Sedan</td>\n",
       "      <td>Automatic</td>\n",
       "      <td>-0.025882</td>\n",
       "      <td>-1.071992</td>\n",
       "      <td>Black</td>\n",
       "      <td>Black</td>\n",
       "      <td>...</td>\n",
       "      <td>Bmw_Others</td>\n",
       "      <td>-1.311799</td>\n",
       "      <td>-0.107857</td>\n",
       "      <td>0.000243</td>\n",
       "      <td>8</td>\n",
       "      <td>1</td>\n",
       "      <td>1</td>\n",
       "      <td>2</td>\n",
       "      <td>1</td>\n",
       "      <td>0</td>\n",
       "    </tr>\n",
       "    <tr>\n",
       "      <th>7</th>\n",
       "      <td>2014</td>\n",
       "      <td>Chevrolet</td>\n",
       "      <td>Others</td>\n",
       "      <td>Others</td>\n",
       "      <td>Sedan</td>\n",
       "      <td>Automatic</td>\n",
       "      <td>-1.516450</td>\n",
       "      <td>-0.777685</td>\n",
       "      <td>Black</td>\n",
       "      <td>Black</td>\n",
       "      <td>...</td>\n",
       "      <td>Chevrolet_Others</td>\n",
       "      <td>-1.311799</td>\n",
       "      <td>-0.107857</td>\n",
       "      <td>-1.964848</td>\n",
       "      <td>2</td>\n",
       "      <td>0</td>\n",
       "      <td>1</td>\n",
       "      <td>2</td>\n",
       "      <td>1</td>\n",
       "      <td>0</td>\n",
       "    </tr>\n",
       "  </tbody>\n",
       "</table>\n",
       "<p>5 rows × 21 columns</p>\n",
       "</div>"
      ],
      "text/plain": [
       "   year      brand     model    trim   body transmission  condition  odometer  \\\n",
       "2  2014        Bmw  3 Series  Others  Sedan    Automatic   1.145277 -1.364964   \n",
       "3  2015     Others    Others  Others  Sedan    Automatic   0.719401 -1.086219   \n",
       "4  2014        Bmw    Others  Others  Sedan    Automatic   0.932339 -1.336769   \n",
       "6  2014        Bmw    Others    Base  Sedan    Automatic  -0.025882 -1.071992   \n",
       "7  2014  Chevrolet    Others  Others  Sedan    Automatic  -1.516450 -0.777685   \n",
       "\n",
       "    color interior  ...       brand_model   car_age  mileage_per_year  \\\n",
       "2  Silver    Black  ...      Bmw_3 Series -1.021999         -2.023111   \n",
       "3   White    Black  ...     Others_Others -1.311799         -0.107857   \n",
       "4  Silver    Black  ...        Bmw_Others -1.311799         -0.107857   \n",
       "6   Black    Black  ...        Bmw_Others -1.311799         -0.107857   \n",
       "7   Black    Black  ...  Chevrolet_Others -1.311799         -0.107857   \n",
       "\n",
       "   market_price_deviation  brand_label  trim_label  body_label  color_label  \\\n",
       "2               -1.773132            8           0           1            1   \n",
       "3                0.287817            0           0           1            3   \n",
       "4                1.006753            8           0           1            1   \n",
       "6                0.000243            8           1           1            2   \n",
       "7               -1.964848            2           0           1            2   \n",
       "\n",
       "   interior_label  transmission_label  \n",
       "2               1                   0  \n",
       "3               1                   0  \n",
       "4               1                   0  \n",
       "6               1                   0  \n",
       "7               1                   0  \n",
       "\n",
       "[5 rows x 21 columns]"
      ]
     },
     "execution_count": 5,
     "metadata": {},
     "output_type": "execute_result"
    }
   ],
   "source": [
    "car_df.head()"
   ]
  },
  {
   "cell_type": "markdown",
   "metadata": {},
   "source": [
    "> <div style=\"text-align: center\"><font color='gold' style='font-size: 30px;'><b>Train, test, validation split</b></font></div>"
   ]
  },
  {
   "cell_type": "code",
   "execution_count": 6,
   "metadata": {},
   "outputs": [],
   "source": [
    "X = car_df[['year', 'odometer','car_age', 'mileage_per_year', 'market_price_deviation', \n",
    "            'brand_label', 'trim_label', 'body_label', 'color_label', 'interior_label',\n",
    "            'transmission_label']].copy()\n",
    "y = car_df[['sellingprice']].copy()"
   ]
  },
  {
   "cell_type": "code",
   "execution_count": 7,
   "metadata": {},
   "outputs": [],
   "source": [
    "#Splitting the original dataset into train and test sets (80-20 split)\n",
    "X_train_test, X_test, y_train_test, y_test = train_test_split(X, y, test_size=0.2, random_state=42)\n",
    "\n",
    "#Further splitting the training-test set into training and validation sets (80-20 split)\n",
    "X_train, X_val, y_train, y_val = train_test_split(X_train_test, y_train_test, test_size=0.2, random_state=77)"
   ]
  },
  {
   "cell_type": "code",
   "execution_count": 8,
   "metadata": {},
   "outputs": [
    {
     "name": "stdout",
     "output_type": "stream",
     "text": [
      "Train set shape: (357510, 11) (357510, 1)\n",
      "Validation set shape: (89378, 11) (89378, 1)\n",
      "Test set shape: (111722, 11) (111722, 1)\n",
      "\n",
      "Sample rows from Train set:\n",
      "        year  odometer   car_age  mileage_per_year  market_price_deviation  \\\n",
      "417744  2013 -1.080730 -0.732200         -1.144580               -0.718693   \n",
      "294478  2012 -0.373266 -0.442400          0.118112                1.006753   \n",
      "481987  2013 -0.237305 -0.732200          1.754535               -0.455083   \n",
      "78199   2002 -0.268589  2.455598          0.157706               -0.526976   \n",
      "20667   2006  2.516962  1.006599          1.140414               -0.071650   \n",
      "\n",
      "        brand_label  trim_label  body_label  color_label  interior_label  \\\n",
      "417744            1           0           2            4               1   \n",
      "294478            1           6           2            1               1   \n",
      "481987            7           9           1            3               4   \n",
      "78199             3           2           2            0               2   \n",
      "20667             7           3           1            0               0   \n",
      "\n",
      "        transmission_label  \n",
      "417744                   0  \n",
      "294478                   0  \n",
      "481987                   0  \n",
      "78199                    0  \n",
      "20667                    0  \n",
      "        sellingprice\n",
      "417744      1.576951\n",
      "294478      1.537766\n",
      "481987     -0.499834\n",
      "78199      -1.453327\n",
      "20667      -1.440265\n",
      "\n",
      "Sample rows from Validation set:\n",
      "        year  odometer   car_age  mileage_per_year  market_price_deviation  \\\n",
      "327760  2009  1.315823  0.426999          0.884339               -0.359225   \n",
      "503370  2007  0.759257  1.006599         -0.370030               -0.958338   \n",
      "116018  2008  0.734312  0.716799         -0.130240               -0.119579   \n",
      "73529   2014 -1.263849 -1.021999         -1.327980               -0.431118   \n",
      "198543  2013 -0.141828 -0.732200          2.082717                0.335747   \n",
      "\n",
      "        brand_label  trim_label  body_label  color_label  interior_label  \\\n",
      "327760            1          10           1            4               3   \n",
      "503370            4           0           1            2               2   \n",
      "116018            3           0           2            3               1   \n",
      "73529             0           0           2            0               1   \n",
      "198543            3          10           2            1               2   \n",
      "\n",
      "        transmission_label  \n",
      "327760                   0  \n",
      "503370                   0  \n",
      "116018                   0  \n",
      "73529                    0  \n",
      "198543                   0  \n",
      "        sellingprice\n",
      "327760     -1.218219\n",
      "503370     -0.865557\n",
      "116018     -0.721880\n",
      "73529       1.420212\n",
      "198543      0.048751\n",
      "\n",
      "Sample rows from Test set:\n",
      "        year  odometer   car_age  mileage_per_year  market_price_deviation  \\\n",
      "243545  2010  0.425736  0.137200          0.281414               -1.221948   \n",
      "94742   2002  2.657616  2.455598         -0.077692                0.072137   \n",
      "429004  2012 -0.426105 -0.442400         -0.002971               -0.191473   \n",
      "223237  2012 -1.067644 -0.442400         -1.473083                0.048172   \n",
      "46574   2006 -0.086084  1.006599         -1.096455                0.719179   \n",
      "\n",
      "        brand_label  trim_label  body_label  color_label  interior_label  \\\n",
      "243545            5           2           4            1               3   \n",
      "94742             0           4           2            0               2   \n",
      "429004            3           0           1            1               1   \n",
      "223237            3           0           1            0               2   \n",
      "46574             0           0           1            2               4   \n",
      "\n",
      "        transmission_label  \n",
      "243545                   0  \n",
      "94742                    0  \n",
      "429004                   0  \n",
      "223237                   0  \n",
      "46574                    1  \n",
      "        sellingprice\n",
      "243545     -0.878619\n",
      "94742      -1.479450\n",
      "429004     -0.238603\n",
      "223237      0.061812\n",
      "46574      -0.512896\n"
     ]
    }
   ],
   "source": [
    "#Checking the sizes or shapes of each set\n",
    "print(\"Train set shape:\", X_train.shape, y_train.shape)\n",
    "print(\"Validation set shape:\", X_val.shape, y_val.shape)\n",
    "print(\"Test set shape:\", X_test.shape, y_test.shape)\n",
    "\n",
    "#Printing a few rows from each set to inspect the data\n",
    "print(\"\\nSample rows from Train set:\")\n",
    "print(X_train.head())\n",
    "print(y_train.head())\n",
    "\n",
    "print(\"\\nSample rows from Validation set:\")\n",
    "print(X_val.head())\n",
    "print(y_val.head())\n",
    "\n",
    "print(\"\\nSample rows from Test set:\")\n",
    "print(X_test.head())\n",
    "print(y_test.head())"
   ]
  },
  {
   "cell_type": "code",
   "execution_count": 9,
   "metadata": {},
   "outputs": [
    {
     "data": {
      "image/png": "[encoded data removed]",
      "text/plain": [
       "<Figure size 800x600 with 1 Axes>"
      ]
     },
     "metadata": {},
     "output_type": "display_data"
    }
   ],
   "source": [
    "#Checking the sizes of each dataset\n",
    "#Data for plotting\n",
    "sets = ['Train Set', 'Validation Set', 'Test Set']  #Labels for different dataset types\n",
    "sizes = [len(X_train), len(X_val), len(X_test)]  #Number of samples in each dataset\n",
    "\n",
    "#Plotting the sizes of datasets\n",
    "plt.figure(figsize=(8, 6)) \n",
    "plt.bar(sets, sizes, color=['blue', 'orange', 'green'])\n",
    "plt.xlabel('Data Sets') \n",
    "plt.ylabel('Number of Samples')\n",
    "plt.title('Sizes of Train, Validation, and Test Sets') \n",
    "plt.show()"
   ]
  },
  {
   "cell_type": "code",
   "execution_count": 10,
   "metadata": {},
   "outputs": [
    {
     "data": {
      "image/png": "[encoded data removed]",
      "text/plain": [
       "<Figure size 1200x400 with 3 Axes>"
      ]
     },
     "metadata": {},
     "output_type": "display_data"
    }
   ],
   "source": [
    "#Plotting histograms for the target variable in each dataset\n",
    "plt.figure(figsize=(12, 4))\n",
    "\n",
    "#Subplot for Train Set\n",
    "plt.subplot(1, 3, 1)\n",
    "plt.hist(y_train, bins=30, color='blue', alpha=0.7) \n",
    "plt.title('Train Set - Target Variable Distribution')\n",
    "plt.xlabel('Selling Price')  \n",
    "plt.ylabel('Frequency')\n",
    "\n",
    "#Subplot for Validation Set\n",
    "plt.subplot(1, 3, 2)\n",
    "plt.hist(y_val, bins=30, color='orange', alpha=0.7) \n",
    "plt.title('Validation Set - Target Variable Distribution')  \n",
    "plt.xlabel('Selling Price')  \n",
    "plt.ylabel('Frequency')\n",
    "\n",
    "#Subplot for Test Set\n",
    "plt.subplot(1, 3, 3) \n",
    "plt.hist(y_test, bins=30, color='green', alpha=0.7)\n",
    "plt.title('Test Set - Target Variable Distribution')\n",
    "plt.xlabel('Selling Price') \n",
    "plt.ylabel('Frequency')\n",
    "\n",
    "plt.tight_layout() \n",
    "plt.show()"
   ]
  },
  {
   "cell_type": "markdown",
   "metadata": {},
   "source": [
    "#### From examining the graphs, it's clear that the distribution of the target variable across the train, validation, and test datasets is highly comparable. This suggests a well-executed splitting of the data into these subsets."
   ]
  },
  {
   "cell_type": "code",
   "execution_count": 11,
   "metadata": {},
   "outputs": [
    {
     "data": {
      "text/html": [
       "<div>\n",
       "<style scoped>\n",
       "    .dataframe tbody tr th:only-of-type {\n",
       "        vertical-align: middle;\n",
       "    }\n",
       "\n",
       "    .dataframe tbody tr th {\n",
       "        vertical-align: top;\n",
       "    }\n",
       "\n",
       "    .dataframe thead th {\n",
       "        text-align: right;\n",
       "    }\n",
       "</style>\n",
       "<table border=\"1\" class=\"dataframe\">\n",
       "  <thead>\n",
       "    <tr style=\"text-align: right;\">\n",
       "      <th></th>\n",
       "      <th>year</th>\n",
       "      <th>odometer</th>\n",
       "      <th>car_age</th>\n",
       "      <th>mileage_per_year</th>\n",
       "      <th>market_price_deviation</th>\n",
       "      <th>brand_label</th>\n",
       "      <th>trim_label</th>\n",
       "      <th>body_label</th>\n",
       "      <th>color_label</th>\n",
       "      <th>interior_label</th>\n",
       "      <th>transmission_label</th>\n",
       "    </tr>\n",
       "  </thead>\n",
       "  <tbody>\n",
       "    <tr>\n",
       "      <th>417744</th>\n",
       "      <td>2013</td>\n",
       "      <td>-1.080730</td>\n",
       "      <td>-0.732200</td>\n",
       "      <td>-1.144580</td>\n",
       "      <td>-0.718693</td>\n",
       "      <td>1</td>\n",
       "      <td>0</td>\n",
       "      <td>2</td>\n",
       "      <td>4</td>\n",
       "      <td>1</td>\n",
       "      <td>0</td>\n",
       "    </tr>\n",
       "    <tr>\n",
       "      <th>294478</th>\n",
       "      <td>2012</td>\n",
       "      <td>-0.373266</td>\n",
       "      <td>-0.442400</td>\n",
       "      <td>0.118112</td>\n",
       "      <td>1.006753</td>\n",
       "      <td>1</td>\n",
       "      <td>6</td>\n",
       "      <td>2</td>\n",
       "      <td>1</td>\n",
       "      <td>1</td>\n",
       "      <td>0</td>\n",
       "    </tr>\n",
       "    <tr>\n",
       "      <th>481987</th>\n",
       "      <td>2013</td>\n",
       "      <td>-0.237305</td>\n",
       "      <td>-0.732200</td>\n",
       "      <td>1.754535</td>\n",
       "      <td>-0.455083</td>\n",
       "      <td>7</td>\n",
       "      <td>9</td>\n",
       "      <td>1</td>\n",
       "      <td>3</td>\n",
       "      <td>4</td>\n",
       "      <td>0</td>\n",
       "    </tr>\n",
       "    <tr>\n",
       "      <th>78199</th>\n",
       "      <td>2002</td>\n",
       "      <td>-0.268589</td>\n",
       "      <td>2.455598</td>\n",
       "      <td>0.157706</td>\n",
       "      <td>-0.526976</td>\n",
       "      <td>3</td>\n",
       "      <td>2</td>\n",
       "      <td>2</td>\n",
       "      <td>0</td>\n",
       "      <td>2</td>\n",
       "      <td>0</td>\n",
       "    </tr>\n",
       "    <tr>\n",
       "      <th>20667</th>\n",
       "      <td>2006</td>\n",
       "      <td>2.516962</td>\n",
       "      <td>1.006599</td>\n",
       "      <td>1.140414</td>\n",
       "      <td>-0.071650</td>\n",
       "      <td>7</td>\n",
       "      <td>3</td>\n",
       "      <td>1</td>\n",
       "      <td>0</td>\n",
       "      <td>0</td>\n",
       "      <td>0</td>\n",
       "    </tr>\n",
       "  </tbody>\n",
       "</table>\n",
       "</div>"
      ],
      "text/plain": [
       "        year  odometer   car_age  mileage_per_year  market_price_deviation  \\\n",
       "417744  2013 -1.080730 -0.732200         -1.144580               -0.718693   \n",
       "294478  2012 -0.373266 -0.442400          0.118112                1.006753   \n",
       "481987  2013 -0.237305 -0.732200          1.754535               -0.455083   \n",
       "78199   2002 -0.268589  2.455598          0.157706               -0.526976   \n",
       "20667   2006  2.516962  1.006599          1.140414               -0.071650   \n",
       "\n",
       "        brand_label  trim_label  body_label  color_label  interior_label  \\\n",
       "417744            1           0           2            4               1   \n",
       "294478            1           6           2            1               1   \n",
       "481987            7           9           1            3               4   \n",
       "78199             3           2           2            0               2   \n",
       "20667             7           3           1            0               0   \n",
       "\n",
       "        transmission_label  \n",
       "417744                   0  \n",
       "294478                   0  \n",
       "481987                   0  \n",
       "78199                    0  \n",
       "20667                    0  "
      ]
     },
     "execution_count": 11,
     "metadata": {},
     "output_type": "execute_result"
    }
   ],
   "source": [
    "X_train.head()"
   ]
  },
  {
   "cell_type": "code",
   "execution_count": 12,
   "metadata": {},
   "outputs": [
    {
     "data": {
      "text/html": [
       "<div>\n",
       "<style scoped>\n",
       "    .dataframe tbody tr th:only-of-type {\n",
       "        vertical-align: middle;\n",
       "    }\n",
       "\n",
       "    .dataframe tbody tr th {\n",
       "        vertical-align: top;\n",
       "    }\n",
       "\n",
       "    .dataframe thead th {\n",
       "        text-align: right;\n",
       "    }\n",
       "</style>\n",
       "<table border=\"1\" class=\"dataframe\">\n",
       "  <thead>\n",
       "    <tr style=\"text-align: right;\">\n",
       "      <th></th>\n",
       "      <th>year</th>\n",
       "      <th>odometer</th>\n",
       "      <th>car_age</th>\n",
       "      <th>mileage_per_year</th>\n",
       "      <th>market_price_deviation</th>\n",
       "      <th>brand_label</th>\n",
       "      <th>trim_label</th>\n",
       "      <th>body_label</th>\n",
       "      <th>color_label</th>\n",
       "      <th>interior_label</th>\n",
       "      <th>transmission_label</th>\n",
       "    </tr>\n",
       "  </thead>\n",
       "  <tbody>\n",
       "    <tr>\n",
       "      <th>243545</th>\n",
       "      <td>2010</td>\n",
       "      <td>0.425736</td>\n",
       "      <td>0.137200</td>\n",
       "      <td>0.281414</td>\n",
       "      <td>-1.221948</td>\n",
       "      <td>5</td>\n",
       "      <td>2</td>\n",
       "      <td>4</td>\n",
       "      <td>1</td>\n",
       "      <td>3</td>\n",
       "      <td>0</td>\n",
       "    </tr>\n",
       "    <tr>\n",
       "      <th>94742</th>\n",
       "      <td>2002</td>\n",
       "      <td>2.657616</td>\n",
       "      <td>2.455598</td>\n",
       "      <td>-0.077692</td>\n",
       "      <td>0.072137</td>\n",
       "      <td>0</td>\n",
       "      <td>4</td>\n",
       "      <td>2</td>\n",
       "      <td>0</td>\n",
       "      <td>2</td>\n",
       "      <td>0</td>\n",
       "    </tr>\n",
       "    <tr>\n",
       "      <th>429004</th>\n",
       "      <td>2012</td>\n",
       "      <td>-0.426105</td>\n",
       "      <td>-0.442400</td>\n",
       "      <td>-0.002971</td>\n",
       "      <td>-0.191473</td>\n",
       "      <td>3</td>\n",
       "      <td>0</td>\n",
       "      <td>1</td>\n",
       "      <td>1</td>\n",
       "      <td>1</td>\n",
       "      <td>0</td>\n",
       "    </tr>\n",
       "    <tr>\n",
       "      <th>223237</th>\n",
       "      <td>2012</td>\n",
       "      <td>-1.067644</td>\n",
       "      <td>-0.442400</td>\n",
       "      <td>-1.473083</td>\n",
       "      <td>0.048172</td>\n",
       "      <td>3</td>\n",
       "      <td>0</td>\n",
       "      <td>1</td>\n",
       "      <td>0</td>\n",
       "      <td>2</td>\n",
       "      <td>0</td>\n",
       "    </tr>\n",
       "    <tr>\n",
       "      <th>46574</th>\n",
       "      <td>2006</td>\n",
       "      <td>-0.086084</td>\n",
       "      <td>1.006599</td>\n",
       "      <td>-1.096455</td>\n",
       "      <td>0.719179</td>\n",
       "      <td>0</td>\n",
       "      <td>0</td>\n",
       "      <td>1</td>\n",
       "      <td>2</td>\n",
       "      <td>4</td>\n",
       "      <td>1</td>\n",
       "    </tr>\n",
       "  </tbody>\n",
       "</table>\n",
       "</div>"
      ],
      "text/plain": [
       "        year  odometer   car_age  mileage_per_year  market_price_deviation  \\\n",
       "243545  2010  0.425736  0.137200          0.281414               -1.221948   \n",
       "94742   2002  2.657616  2.455598         -0.077692                0.072137   \n",
       "429004  2012 -0.426105 -0.442400         -0.002971               -0.191473   \n",
       "223237  2012 -1.067644 -0.442400         -1.473083                0.048172   \n",
       "46574   2006 -0.086084  1.006599         -1.096455                0.719179   \n",
       "\n",
       "        brand_label  trim_label  body_label  color_label  interior_label  \\\n",
       "243545            5           2           4            1               3   \n",
       "94742             0           4           2            0               2   \n",
       "429004            3           0           1            1               1   \n",
       "223237            3           0           1            0               2   \n",
       "46574             0           0           1            2               4   \n",
       "\n",
       "        transmission_label  \n",
       "243545                   0  \n",
       "94742                    0  \n",
       "429004                   0  \n",
       "223237                   0  \n",
       "46574                    1  "
      ]
     },
     "execution_count": 12,
     "metadata": {},
     "output_type": "execute_result"
    }
   ],
   "source": [
    "X_test.head()"
   ]
  },
  {
   "cell_type": "code",
   "execution_count": 13,
   "metadata": {},
   "outputs": [
    {
     "data": {
      "text/html": [
       "<div>\n",
       "<style scoped>\n",
       "    .dataframe tbody tr th:only-of-type {\n",
       "        vertical-align: middle;\n",
       "    }\n",
       "\n",
       "    .dataframe tbody tr th {\n",
       "        vertical-align: top;\n",
       "    }\n",
       "\n",
       "    .dataframe thead th {\n",
       "        text-align: right;\n",
       "    }\n",
       "</style>\n",
       "<table border=\"1\" class=\"dataframe\">\n",
       "  <thead>\n",
       "    <tr style=\"text-align: right;\">\n",
       "      <th></th>\n",
       "      <th>year</th>\n",
       "      <th>odometer</th>\n",
       "      <th>car_age</th>\n",
       "      <th>mileage_per_year</th>\n",
       "      <th>market_price_deviation</th>\n",
       "      <th>brand_label</th>\n",
       "      <th>trim_label</th>\n",
       "      <th>body_label</th>\n",
       "      <th>color_label</th>\n",
       "      <th>interior_label</th>\n",
       "      <th>transmission_label</th>\n",
       "    </tr>\n",
       "  </thead>\n",
       "  <tbody>\n",
       "    <tr>\n",
       "      <th>327760</th>\n",
       "      <td>2009</td>\n",
       "      <td>1.315823</td>\n",
       "      <td>0.426999</td>\n",
       "      <td>0.884339</td>\n",
       "      <td>-0.359225</td>\n",
       "      <td>1</td>\n",
       "      <td>10</td>\n",
       "      <td>1</td>\n",
       "      <td>4</td>\n",
       "      <td>3</td>\n",
       "      <td>0</td>\n",
       "    </tr>\n",
       "    <tr>\n",
       "      <th>503370</th>\n",
       "      <td>2007</td>\n",
       "      <td>0.759257</td>\n",
       "      <td>1.006599</td>\n",
       "      <td>-0.370030</td>\n",
       "      <td>-0.958338</td>\n",
       "      <td>4</td>\n",
       "      <td>0</td>\n",
       "      <td>1</td>\n",
       "      <td>2</td>\n",
       "      <td>2</td>\n",
       "      <td>0</td>\n",
       "    </tr>\n",
       "    <tr>\n",
       "      <th>116018</th>\n",
       "      <td>2008</td>\n",
       "      <td>0.734312</td>\n",
       "      <td>0.716799</td>\n",
       "      <td>-0.130240</td>\n",
       "      <td>-0.119579</td>\n",
       "      <td>3</td>\n",
       "      <td>0</td>\n",
       "      <td>2</td>\n",
       "      <td>3</td>\n",
       "      <td>1</td>\n",
       "      <td>0</td>\n",
       "    </tr>\n",
       "    <tr>\n",
       "      <th>73529</th>\n",
       "      <td>2014</td>\n",
       "      <td>-1.263849</td>\n",
       "      <td>-1.021999</td>\n",
       "      <td>-1.327980</td>\n",
       "      <td>-0.431118</td>\n",
       "      <td>0</td>\n",
       "      <td>0</td>\n",
       "      <td>2</td>\n",
       "      <td>0</td>\n",
       "      <td>1</td>\n",
       "      <td>0</td>\n",
       "    </tr>\n",
       "    <tr>\n",
       "      <th>198543</th>\n",
       "      <td>2013</td>\n",
       "      <td>-0.141828</td>\n",
       "      <td>-0.732200</td>\n",
       "      <td>2.082717</td>\n",
       "      <td>0.335747</td>\n",
       "      <td>3</td>\n",
       "      <td>10</td>\n",
       "      <td>2</td>\n",
       "      <td>1</td>\n",
       "      <td>2</td>\n",
       "      <td>0</td>\n",
       "    </tr>\n",
       "  </tbody>\n",
       "</table>\n",
       "</div>"
      ],
      "text/plain": [
       "        year  odometer   car_age  mileage_per_year  market_price_deviation  \\\n",
       "327760  2009  1.315823  0.426999          0.884339               -0.359225   \n",
       "503370  2007  0.759257  1.006599         -0.370030               -0.958338   \n",
       "116018  2008  0.734312  0.716799         -0.130240               -0.119579   \n",
       "73529   2014 -1.263849 -1.021999         -1.327980               -0.431118   \n",
       "198543  2013 -0.141828 -0.732200          2.082717                0.335747   \n",
       "\n",
       "        brand_label  trim_label  body_label  color_label  interior_label  \\\n",
       "327760            1          10           1            4               3   \n",
       "503370            4           0           1            2               2   \n",
       "116018            3           0           2            3               1   \n",
       "73529             0           0           2            0               1   \n",
       "198543            3          10           2            1               2   \n",
       "\n",
       "        transmission_label  \n",
       "327760                   0  \n",
       "503370                   0  \n",
       "116018                   0  \n",
       "73529                    0  \n",
       "198543                   0  "
      ]
     },
     "execution_count": 13,
     "metadata": {},
     "output_type": "execute_result"
    }
   ],
   "source": [
    "X_val.head()"
   ]
  },
  {
   "cell_type": "markdown",
   "metadata": {},
   "source": [
    "<div style=\"position: relative; background: #3567A8; color: white; padding: 10px 15px; text-align: center; border-radius: 6px;\">\n",
    "    <span style=\"position: absolute; left: -25px; top: 10px; transform: rotate(-45deg); background: #3567A8; padding: 5px 10px; border-radius: 3px;\">Section 1</span>\n",
    "    <h1 style=\"font-size: 30px;\">Model Fitting </h1>\n",
    "</div>"
   ]
  },
  {
   "cell_type": "markdown",
   "metadata": {},
   "source": [
    "> <div style=\"text-align: center\"><font color='gold' style='font-size: 30px;'><b>Random Forest</b></font></div>"
   ]
  },
  {
   "cell_type": "code",
   "execution_count": 14,
   "metadata": {},
   "outputs": [
    {
     "name": "stderr",
     "output_type": "stream",
     "text": [
      "/Users/carlhumbs/anaconda3/lib/python3.11/site-packages/sklearn/base.py:1151: DataConversionWarning: A column-vector y was passed when a 1d array was expected. Please change the shape of y to (n_samples,), for example using ravel().\n",
      "  return fit_method(estimator, *args, **kwargs)\n"
     ]
    },
    {
     "name": "stdout",
     "output_type": "stream",
     "text": [
      "Mean Squared Error (MSE): 0.29\n",
      "Mean Absolute Error (MAE): 0.37\n"
     ]
    }
   ],
   "source": [
    "#Initialise a Random Forest Regressor with specified hyperparameters\n",
    "random_forest = RandomForestRegressor(n_estimators=100, max_depth=10, random_state=420)\n",
    "\n",
    "#Train the model using the training data\n",
    "random_forest.fit(X_train, y_train)\n",
    "\n",
    "#Make predictions on the validation set\n",
    "predictions = random_forest.predict(X_val)\n",
    "\n",
    "#Calculating Mean Squared Error (MSE) and Mean Absolute Error (MAE) for evaluation\n",
    "mse = mean_squared_error(y_val, predictions) \n",
    "mae = mean_absolute_error(y_val, predictions)\n",
    "\n",
    "#Print the calculated Mean Squared Error (MSE) and Mean Absolute Error (MAE)\n",
    "print(f\"Mean Squared Error (MSE): {mse:.2f}\")\n",
    "print(f\"Mean Absolute Error (MAE): {mae:.2f}\")"
   ]
  },
  {
   "cell_type": "markdown",
   "metadata": {},
   "source": [
    "#### The MSE value of 0.29 indicates the average squared difference between the predicted and actual values in the validation set. Lower MSE values generally imply better performance, indicating that, on average, the model's predictions are close to the actual values in the validation set. "
   ]
  },
  {
   "cell_type": "code",
   "execution_count": 15,
   "metadata": {},
   "outputs": [
    {
     "name": "stdout",
     "output_type": "stream",
     "text": [
      "Cross-validation Scores: [0.28476332 0.28731066 0.28665268 0.28659197 0.28317432]\n",
      "Mean CV Score: 0.285698589111288\n"
     ]
    }
   ],
   "source": [
    "#Convert y_train to a 1-dimensional array using ravel\n",
    "y_train_1d = np.ravel(y_train)\n",
    "\n",
    "#Create a Random Forest Regressor model with specified parameters\n",
    "rf = RandomForestRegressor(n_estimators=100, max_depth=10, random_state=420)\n",
    "\n",
    "#Perform 5-fold cross-validation using negative mean squared error as the scoring metric\n",
    "cv_scores = cross_val_score(rf, X_train, y_train_1d, cv=5, scoring='neg_mean_squared_error')\n",
    "\n",
    "#Convert the negative scores to positive since neg_mean_squared_error is used\n",
    "cv_scores = -cv_scores\n",
    "\n",
    "#Display the cross-validation scores for each fold\n",
    "print(\"Cross-validation Scores:\", cv_scores)\n",
    "\n",
    "#Calculate the mean cross-validation score\n",
    "print(\"Mean CV Score:\", cv_scores.mean())"
   ]
  },
  {
   "cell_type": "markdown",
   "metadata": {},
   "source": [
    "#### These cross-validation scores represent the performance of the Random Forest Regressor model on different folds of the training data. The mean cross-validation score provides an overall assessment of the model's predictive performance on the training data.\n",
    "\n",
    "#### The accuracy could may be better, so by hyperparameter tuning with a random grid we want to find better hyper parameters"
   ]
  },
  {
   "cell_type": "code",
   "execution_count": 16,
   "metadata": {},
   "outputs": [
    {
     "name": "stderr",
     "output_type": "stream",
     "text": [
      "/Users/carlhumbs/anaconda3/lib/python3.11/site-packages/joblib/externals/loky/process_executor.py:700: UserWarning: A worker stopped while some jobs were given to the executor. This can be caused by a too short worker timeout or by a memory leak.\n",
      "  warnings.warn(\n"
     ]
    },
    {
     "name": "stdout",
     "output_type": "stream",
     "text": [
      "Best Hyperparameters (Randomized Search): {'max_depth': 19, 'n_estimators': 280}\n",
      "Best CV Score (Randomized Search): 0.24178813621780554\n",
      "\n",
      "Parameters Tried in Randomized Search:\n",
      "                                   params  mean_test_score  rank_test_score\n",
      "6  {'max_depth': 19, 'n_estimators': 280}        -0.241788                1\n",
      "5  {'max_depth': 19, 'n_estimators': 201}        -0.241952                2\n",
      "4  {'max_depth': 15, 'n_estimators': 378}        -0.245722                3\n",
      "3  {'max_depth': 14, 'n_estimators': 204}        -0.249950                4\n",
      "8  {'max_depth': 13, 'n_estimators': 182}        -0.255713                5\n",
      "1  {'max_depth': 11, 'n_estimators': 113}        -0.272979                6\n",
      "9  {'max_depth': 10, 'n_estimators': 232}        -0.285578                7\n",
      "7   {'max_depth': 9, 'n_estimators': 341}        -0.301620                8\n",
      "2   {'max_depth': 8, 'n_estimators': 480}        -0.322285                9\n",
      "0   {'max_depth': 6, 'n_estimators': 122}        -0.376936               10\n"
     ]
    }
   ],
   "source": [
    "#Defining a large and refined parameter grid\n",
    "param_dist = {\n",
    "    'n_estimators': randint(50, 500),\n",
    "    'max_depth': randint(5, 20), \n",
    "}\n",
    "\n",
    "#Randomised Search with 5-fold cross-validation\n",
    "rf = RandomForestRegressor(random_state=420)\n",
    "random_search = RandomizedSearchCV(rf, param_distributions=param_dist, n_iter=10, cv=5,\n",
    "                                   scoring='neg_mean_squared_error', random_state=420, n_jobs=-1)\n",
    "random_search.fit(X_train, y_train_1d)\n",
    "\n",
    "#Get the best hyperparameters and best score\n",
    "best_params_random = random_search.best_params_\n",
    "best_score_random = -random_search.best_score_\n",
    "\n",
    "print(\"Best Hyperparameters (Randomized Search):\", best_params_random)\n",
    "print(\"Best CV Score (Randomized Search):\", best_score_random)\n",
    "\n",
    "#Accessing the results of Randomized Search\n",
    "results_df = pd.DataFrame(random_search.cv_results_)\n",
    "results_df = results_df.sort_values(by='rank_test_score')  #Sorting by rank for better visibility\n",
    "desired_columns = ['params', 'mean_test_score', 'rank_test_score']\n",
    "print(\"\\nParameters Tried in Randomized Search:\")\n",
    "print(results_df[desired_columns])"
   ]
  },
  {
   "cell_type": "markdown",
   "metadata": {},
   "source": [
    "#### The code searched various hyperparameter combinations for a Random Forest Regressor. After assessing multiple settings, it was found that using 280 estimators and a maximum tree depth of 19 resulted in the best performance, achieving a mean squared error of around 0.242 during cross-validation. This optimisation enhanced the model's predictive accuracy, providing improved parameter values for the given dataset."
   ]
  },
  {
   "cell_type": "code",
   "execution_count": 17,
   "metadata": {},
   "outputs": [
    {
     "name": "stderr",
     "output_type": "stream",
     "text": [
      "/Users/carlhumbs/anaconda3/lib/python3.11/site-packages/sklearn/base.py:1151: DataConversionWarning: A column-vector y was passed when a 1d array was expected. Please change the shape of y to (n_samples,), for example using ravel().\n",
      "  return fit_method(estimator, *args, **kwargs)\n"
     ]
    },
    {
     "name": "stdout",
     "output_type": "stream",
     "text": [
      "Mean Squared Error (MSE): 0.29\n",
      "Mean Absolute Error (MAE): 0.37\n"
     ]
    }
   ],
   "source": [
    "#After Hyperparameter Tuning Evaluation\n",
    "#Creating a RandomForestRegressor with tuned hyperparameters\n",
    "random_forest_after_tuning = RandomForestRegressor(n_estimators=280, max_depth=19, random_state=420)\n",
    "\n",
    "#Training the model with the tuned hyperparameters on the training data\n",
    "random_forest_after_tuning.fit(X_train, y_train)\n",
    "\n",
    "#Making predictions on the validation set using the tuned model\n",
    "predictions_after_tuning = random_forest_after_tuning.predict(X_val)\n",
    "\n",
    "#Calculating Mean Squared Error (MSE) and Mean Absolute Error (MAE) for evaluation\n",
    "mse = mean_squared_error(y_val, predictions) \n",
    "mae = mean_absolute_error(y_val, predictions)\n",
    "\n",
    "# Print the calculated Mean Squared Error (MSE) and Mean Absolute Error (MAE)\n",
    "print(f\"Mean Squared Error (MSE): {mse:.2f}\")\n",
    "print(f\"Mean Absolute Error (MAE): {mae:.2f}\")"
   ]
  },
  {
   "cell_type": "markdown",
   "metadata": {},
   "source": [
    "#### By applying the newly discovered hyperparameters, the objective is to validate and confirm the effectiveness of the previous code in improving the model's performance."
   ]
  },
  {
   "cell_type": "code",
   "execution_count": 18,
   "metadata": {},
   "outputs": [
    {
     "name": "stdout",
     "output_type": "stream",
     "text": [
      "Cross-validation Scores After Tuning: [0.24095371 0.24315934 0.24244535 0.24354387 0.23883841]\n",
      "Mean CV Score After Tuning: 0.24178813621780554\n"
     ]
    }
   ],
   "source": [
    "#Cross-validation after Tuning\n",
    "rf_after_tuning = RandomForestRegressor(n_estimators=280, max_depth=19, random_state=420)\n",
    "cv_scores_after_tuning = cross_val_score(rf_after_tuning, X_train, y_train_1d, cv=5, scoring='neg_mean_squared_error')\n",
    "cv_scores_after_tuning = -cv_scores_after_tuning\n",
    "print(\"Cross-validation Scores After Tuning:\", cv_scores_after_tuning)\n",
    "print(\"Mean CV Score After Tuning:\", cv_scores_after_tuning.mean())"
   ]
  },
  {
   "cell_type": "markdown",
   "metadata": {},
   "source": [
    "#### Performing another 5-fold cross-validation helps evaluate the model's performance across various data subsets. It appears that the model performs well and exhibits improved performance compared to the initial evaluation."
   ]
  },
  {
   "cell_type": "code",
   "execution_count": 19,
   "metadata": {},
   "outputs": [
    {
     "name": "stderr",
     "output_type": "stream",
     "text": [
      "/Users/carlhumbs/anaconda3/lib/python3.11/site-packages/sklearn/base.py:1151: DataConversionWarning: A column-vector y was passed when a 1d array was expected. Please change the shape of y to (n_samples,), for example using ravel().\n",
      "  return fit_method(estimator, *args, **kwargs)\n"
     ]
    },
    {
     "data": {
      "text/html": [
       "<style>#sk-container-id-1 {color: black;}#sk-container-id-1 pre{padding: 0;}#sk-container-id-1 div.sk-toggleable {background-color: white;}#sk-container-id-1 label.sk-toggleable__label {cursor: pointer;display: block;width: 100%;margin-bottom: 0;padding: 0.3em;box-sizing: border-box;text-align: center;}#sk-container-id-1 label.sk-toggleable__label-arrow:before {content: \"▸\";float: left;margin-right: 0.25em;color: #696969;}#sk-container-id-1 label.sk-toggleable__label-arrow:hover:before {color: black;}#sk-container-id-1 div.sk-estimator:hover label.sk-toggleable__label-arrow:before {color: black;}#sk-container-id-1 div.sk-toggleable__content {max-height: 0;max-width: 0;overflow: hidden;text-align: left;background-color: #f0f8ff;}#sk-container-id-1 div.sk-toggleable__content pre {margin: 0.2em;color: black;border-radius: 0.25em;background-color: #f0f8ff;}#sk-container-id-1 input.sk-toggleable__control:checked~div.sk-toggleable__content {max-height: 200px;max-width: 100%;overflow: auto;}#sk-container-id-1 input.sk-toggleable__control:checked~label.sk-toggleable__label-arrow:before {content: \"▾\";}#sk-container-id-1 div.sk-estimator input.sk-toggleable__control:checked~label.sk-toggleable__label {background-color: #d4ebff;}#sk-container-id-1 div.sk-label input.sk-toggleable__control:checked~label.sk-toggleable__label {background-color: #d4ebff;}#sk-container-id-1 input.sk-hidden--visually {border: 0;clip: rect(1px 1px 1px 1px);clip: rect(1px, 1px, 1px, 1px);height: 1px;margin: -1px;overflow: hidden;padding: 0;position: absolute;width: 1px;}#sk-container-id-1 div.sk-estimator {font-family: monospace;background-color: #f0f8ff;border: 1px dotted black;border-radius: 0.25em;box-sizing: border-box;margin-bottom: 0.5em;}#sk-container-id-1 div.sk-estimator:hover {background-color: #d4ebff;}#sk-container-id-1 div.sk-parallel-item::after {content: \"\";width: 100%;border-bottom: 1px solid gray;flex-grow: 1;}#sk-container-id-1 div.sk-label:hover label.sk-toggleable__label {background-color: #d4ebff;}#sk-container-id-1 div.sk-serial::before {content: \"\";position: absolute;border-left: 1px solid gray;box-sizing: border-box;top: 0;bottom: 0;left: 50%;z-index: 0;}#sk-container-id-1 div.sk-serial {display: flex;flex-direction: column;align-items: center;background-color: white;padding-right: 0.2em;padding-left: 0.2em;position: relative;}#sk-container-id-1 div.sk-item {position: relative;z-index: 1;}#sk-container-id-1 div.sk-parallel {display: flex;align-items: stretch;justify-content: center;background-color: white;position: relative;}#sk-container-id-1 div.sk-item::before, #sk-container-id-1 div.sk-parallel-item::before {content: \"\";position: absolute;border-left: 1px solid gray;box-sizing: border-box;top: 0;bottom: 0;left: 50%;z-index: -1;}#sk-container-id-1 div.sk-parallel-item {display: flex;flex-direction: column;z-index: 1;position: relative;background-color: white;}#sk-container-id-1 div.sk-parallel-item:first-child::after {align-self: flex-end;width: 50%;}#sk-container-id-1 div.sk-parallel-item:last-child::after {align-self: flex-start;width: 50%;}#sk-container-id-1 div.sk-parallel-item:only-child::after {width: 0;}#sk-container-id-1 div.sk-dashed-wrapped {border: 1px dashed gray;margin: 0 0.4em 0.5em 0.4em;box-sizing: border-box;padding-bottom: 0.4em;background-color: white;}#sk-container-id-1 div.sk-label label {font-family: monospace;font-weight: bold;display: inline-block;line-height: 1.2em;}#sk-container-id-1 div.sk-label-container {text-align: center;}#sk-container-id-1 div.sk-container {/* jupyter's `normalize.less` sets `[hidden] { display: none; }` but bootstrap.min.css set `[hidden] { display: none !important; }` so we also need the `!important` here to be able to override the default hidden behavior on the sphinx rendered scikit-learn.org. See: https://github.com/scikit-learn/scikit-learn/issues/21755 */display: inline-block !important;position: relative;}#sk-container-id-1 div.sk-text-repr-fallback {display: none;}</style><div id=\"sk-container-id-1\" class=\"sk-top-container\"><div class=\"sk-text-repr-fallback\"><pre>RandomForestRegressor(max_depth=19, n_estimators=280, random_state=420)</pre><b>In a Jupyter environment, please rerun this cell to show the HTML representation or trust the notebook. <br />On GitHub, the HTML representation is unable to render, please try loading this page with nbviewer.org.</b></div><div class=\"sk-container\" hidden><div class=\"sk-item\"><div class=\"sk-estimator sk-toggleable\"><input class=\"sk-toggleable__control sk-hidden--visually\" id=\"sk-estimator-id-1\" type=\"checkbox\" checked><label for=\"sk-estimator-id-1\" class=\"sk-toggleable__label sk-toggleable__label-arrow\">RandomForestRegressor</label><div class=\"sk-toggleable__content\"><pre>RandomForestRegressor(max_depth=19, n_estimators=280, random_state=420)</pre></div></div></div></div></div>"
      ],
      "text/plain": [
       "RandomForestRegressor(max_depth=19, n_estimators=280, random_state=420)"
      ]
     },
     "execution_count": 19,
     "metadata": {},
     "output_type": "execute_result"
    }
   ],
   "source": [
    "#Creating a RandomForestRegressor with specified hyperparameters\n",
    "rf = RandomForestRegressor(n_estimators=280, max_depth=19, random_state=420)\n",
    "\n",
    "#Fitting the RandomForestRegressor model on the training data\n",
    "rf.fit(X_train, y_train)"
   ]
  },
  {
   "cell_type": "markdown",
   "metadata": {},
   "source": [
    "#### The model has now been fitted to the training data"
   ]
  },
  {
   "cell_type": "markdown",
   "metadata": {},
   "source": [
    "> <div style=\"text-align: center\"><font color='gold' style='font-size: 30px;'><b>ANN</b></font></div>"
   ]
  },
  {
   "cell_type": "markdown",
   "metadata": {},
   "source": [
    "we try a simple feed-forward neural network."
   ]
  },
  {
   "cell_type": "code",
   "execution_count": 33,
   "metadata": {},
   "outputs": [
    {
     "name": "stdout",
     "output_type": "stream",
     "text": [
      "tensorflow: 2.15.0\n"
     ]
    }
   ],
   "source": [
    "import tensorflow\n",
    "print('tensorflow: %s' % tensorflow.__version__)"
   ]
  },
  {
   "cell_type": "code",
   "execution_count": 34,
   "metadata": {},
   "outputs": [
    {
     "name": "stdout",
     "output_type": "stream",
     "text": [
      "keras: 2.15.0\n"
     ]
    }
   ],
   "source": [
    "# keras is an interface to Tensorflow (or Theano) that makes it easier to define a neural network architecture\n",
    "# It contains shortcuts to define a variety of architectures and their layers\n",
    "\n",
    "import keras\n",
    "print('keras: %s' % keras.__version__)"
   ]
  },
  {
   "cell_type": "code",
   "execution_count": 35,
   "metadata": {},
   "outputs": [],
   "source": [
    "# import what we need from keras\n",
    "from keras.models import Sequential\n",
    "from keras.layers import Dense"
   ]
  },
  {
   "cell_type": "markdown",
   "metadata": {},
   "source": [
    "Here, we will use the simple Sequential model, that is used to define feedforward neural networks; and we will use the Dense layer, which is used to specify dense (i.e. fully conencted) layers of neurons in the sequential network.\n",
    "\n",
    "Note that for each dense layer, we will have to specify how many neurons that layer should contain. For the input layer, i.e., the first layer in the feedforward network, the number of neurons must be equal to the number of features that are to be used for training; that is, each input neuron will correspond to an input feature.\n",
    "\n",
    "Intermediate layers of the network can have variable numbers of neurons, each with its associated weight. Each neuron encodes a linear combination of the values of the neurons that feed into it, weighted by the corresponding coefficients."
   ]
  },
  {
   "cell_type": "code",
   "execution_count": 36,
   "metadata": {},
   "outputs": [
    {
     "name": "stdout",
     "output_type": "stream",
     "text": [
      "The number of neurons for the input layer must be: 11\n"
     ]
    }
   ],
   "source": [
    "print(f\"The number of neurons for the input layer must be: {X_train.shape[1]}\")"
   ]
  },
  {
   "cell_type": "code",
   "execution_count": 37,
   "metadata": {},
   "outputs": [],
   "source": [
    "# define the neural network model class instance\n",
    "simple_nn = Sequential()\n",
    "# add the first input layer with 20 nodes and the first hidden layer, with  relu activation function\n",
    "# note that the first command does two things: create a first input layer with 20 nodes, and then a hidden layer\n",
    "# we set the number of neurons to be equal to the (# of nodes in the input layer + # neurons in the output layer)/2,\n",
    "# i.e. the mean of the number of neurons in the input layer and the output layer. This is usually a good heuristic to get started.\n",
    "simple_nn.add(Dense(20, input_dim=X_train.shape[1], activation='relu'))\n",
    "# add the output layer with sigmoid function (the sigmoid function is exactly the same as that used in the formulation of logisitc regression\n",
    "simple_nn.add(Dense(1, activation='sigmoid'))"
   ]
  },
  {
   "cell_type": "code",
   "execution_count": 38,
   "metadata": {},
   "outputs": [
    {
     "name": "stdout",
     "output_type": "stream",
     "text": [
      "Model: \"sequential\"\n",
      "_________________________________________________________________\n",
      " Layer (type)                Output Shape              Param #   \n",
      "=================================================================\n",
      " dense (Dense)               (None, 20)                240       \n",
      "                                                                 \n",
      " dense_1 (Dense)             (None, 1)                 21        \n",
      "                                                                 \n",
      "=================================================================\n",
      "Total params: 261 (1.02 KB)\n",
      "Trainable params: 261 (1.02 KB)\n",
      "Non-trainable params: 0 (0.00 Byte)\n",
      "_________________________________________________________________\n",
      "None\n"
     ]
    }
   ],
   "source": [
    "print(simple_nn.summary())"
   ]
  },
  {
   "cell_type": "markdown",
   "metadata": {},
   "source": [
    "After the model has been defined, it needs to be compiled to tensorflow code to be able to be trained.\n",
    "\n",
    "Here we also need to choose the cost function to optimize for in the backpropagation algorithm. \n",
    "\n",
    "As the algorithm for to do backpropagation, we will use adam. See https://machinelearningmastery.com/adam-optimization-algorithm-for-deep-learning/ for a gentle tutorial on stochastic gradient descent using adam."
   ]
  },
  {
   "cell_type": "code",
   "execution_count": 39,
   "metadata": {},
   "outputs": [],
   "source": [
    "simple_nn.compile(loss='mean_squared_error', optimizer='adam')"
   ]
  },
  {
   "cell_type": "code",
   "execution_count": 40,
   "metadata": {},
   "outputs": [
    {
     "name": "stdout",
     "output_type": "stream",
     "text": [
      "(357510, 11)\n",
      "(357510, 1)\n",
      "(89378, 11)\n",
      "(89378, 1)\n"
     ]
    }
   ],
   "source": [
    "print(X_train.shape)\n",
    "print(y_train.shape)\n",
    "print(X_val.shape)\n",
    "print(y_val.shape)\n"
   ]
  },
  {
   "cell_type": "code",
   "execution_count": 41,
   "metadata": {},
   "outputs": [
    {
     "name": "stdout",
     "output_type": "stream",
     "text": [
      "Epoch 1/10\n",
      "23834/23834 [==============================] - 6s 258us/step - loss: 0.9995\n",
      "Epoch 2/10\n",
      "23834/23834 [==============================] - 6s 257us/step - loss: 0.9995\n",
      "Epoch 3/10\n",
      "23834/23834 [==============================] - 6s 258us/step - loss: 0.9995\n",
      "Epoch 4/10\n",
      "23834/23834 [==============================] - 6s 268us/step - loss: 0.9995\n",
      "Epoch 5/10\n",
      "23834/23834 [==============================] - 6s 266us/step - loss: 0.9995\n",
      "Epoch 6/10\n",
      "23834/23834 [==============================] - 6s 267us/step - loss: 0.9995\n",
      "Epoch 7/10\n",
      "23834/23834 [==============================] - 6s 256us/step - loss: 0.9995\n",
      "Epoch 8/10\n",
      "23834/23834 [==============================] - 6s 257us/step - loss: 0.9995\n",
      "Epoch 9/10\n",
      "23834/23834 [==============================] - 6s 258us/step - loss: 0.9995\n",
      "Epoch 10/10\n",
      "23834/23834 [==============================] - 6s 258us/step - loss: 0.9995\n"
     ]
    },
    {
     "data": {
      "text/plain": [
       "<keras.src.callbacks.History at 0x177891890>"
      ]
     },
     "execution_count": 41,
     "metadata": {},
     "output_type": "execute_result"
    }
   ],
   "source": [
    "simple_nn.fit(X_train, y_train, epochs=10, batch_size = 15)"
   ]
  },
  {
   "cell_type": "code",
   "execution_count": 59,
   "metadata": {},
   "outputs": [
    {
     "data": {
      "image/png": "[encoded data removed]",
      "text/plain": [
       "<Figure size 640x480 with 1 Axes>"
      ]
     },
     "metadata": {},
     "output_type": "display_data"
    }
   ],
   "source": [
    "history = simple_nn.history.history\n",
    "\n",
    "# Extracting the loss values\n",
    "training_loss = history['loss']\n",
    "\n",
    "# Plotting the training loss\n",
    "plt.plot(training_loss, label='Training Loss')\n",
    "plt.xlabel('Epochs')\n",
    "plt.ylabel('Loss')\n",
    "plt.title('Training Loss over Epochs')\n",
    "plt.legend()\n",
    "plt.show()"
   ]
  },
  {
   "cell_type": "code",
   "execution_count": 60,
   "metadata": {},
   "outputs": [],
   "source": [
    "from tensorflow.keras.optimizers import legacy\n",
    "\n",
    "# Define the optimizer with a custom learning rate\n",
    "custom_lr = 0.01  # Set your desired learning rate here\n",
    "optimizer = legacy.Adam(learning_rate=custom_lr)\n",
    "\n",
    "# Compile the model using the customized optimizer\n",
    "simple_nn.compile(optimizer=optimizer, loss='mean_squared_error', metrics=['mean_absolute_error'])\n"
   ]
  },
  {
   "cell_type": "code",
   "execution_count": 61,
   "metadata": {},
   "outputs": [
    {
     "name": "stdout",
     "output_type": "stream",
     "text": [
      "Epoch 1/10\n",
      "17876/17876 [==============================] - 6s 337us/step - loss: 0.9995 - mean_absolute_error: 0.7942 - val_loss: 0.9996 - val_mean_absolute_error: 0.7931\n",
      "Epoch 2/10\n",
      "17876/17876 [==============================] - 6s 332us/step - loss: 0.9995 - mean_absolute_error: 0.7942 - val_loss: 0.9996 - val_mean_absolute_error: 0.7931\n",
      "Epoch 3/10\n",
      "17876/17876 [==============================] - 6s 324us/step - loss: 0.9995 - mean_absolute_error: 0.7942 - val_loss: 0.9996 - val_mean_absolute_error: 0.7931\n",
      "Epoch 4/10\n",
      "17876/17876 [==============================] - 6s 325us/step - loss: 0.9995 - mean_absolute_error: 0.7942 - val_loss: 0.9996 - val_mean_absolute_error: 0.7931\n",
      "Epoch 5/10\n",
      "17876/17876 [==============================] - 6s 322us/step - loss: 0.9995 - mean_absolute_error: 0.7942 - val_loss: 0.9996 - val_mean_absolute_error: 0.7931\n",
      "Epoch 6/10\n",
      "17876/17876 [==============================] - 6s 324us/step - loss: 0.9995 - mean_absolute_error: 0.7942 - val_loss: 0.9996 - val_mean_absolute_error: 0.7931\n",
      "Epoch 7/10\n",
      "17876/17876 [==============================] - 6s 324us/step - loss: 0.9995 - mean_absolute_error: 0.7942 - val_loss: 0.9996 - val_mean_absolute_error: 0.7931\n",
      "Epoch 8/10\n",
      "17876/17876 [==============================] - 6s 324us/step - loss: 0.9995 - mean_absolute_error: 0.7942 - val_loss: 0.9996 - val_mean_absolute_error: 0.7931\n",
      "Epoch 9/10\n",
      "17876/17876 [==============================] - 6s 324us/step - loss: 0.9995 - mean_absolute_error: 0.7942 - val_loss: 0.9996 - val_mean_absolute_error: 0.7931\n",
      "Epoch 10/10\n",
      "17876/17876 [==============================] - 6s 323us/step - loss: 0.9995 - mean_absolute_error: 0.7942 - val_loss: 0.9996 - val_mean_absolute_error: 0.7931\n"
     ]
    },
    {
     "data": {
      "text/plain": [
       "<keras.src.callbacks.History at 0x4fc769d50>"
      ]
     },
     "execution_count": 61,
     "metadata": {},
     "output_type": "execute_result"
    }
   ],
   "source": [
    "simple_nn.fit(\n",
    "    X_train, y_train, \n",
    "    epochs=10, \n",
    "    batch_size=20, \n",
    "    validation_data=(X_val, y_val)\n",
    ")"
   ]
  },
  {
   "cell_type": "code",
   "execution_count": 64,
   "metadata": {},
   "outputs": [
    {
     "name": "stdout",
     "output_type": "stream",
     "text": [
      "Epoch 1/10\n",
      "17876/17876 [==============================] - 6s 331us/step - loss: 0.9995 - mean_absolute_error: 0.7942 - val_loss: 0.9996 - val_mean_absolute_error: 0.7931\n",
      "Epoch 2/10\n",
      "17876/17876 [==============================] - 6s 331us/step - loss: 0.9995 - mean_absolute_error: 0.7942 - val_loss: 0.9996 - val_mean_absolute_error: 0.7931\n",
      "Epoch 3/10\n",
      "17876/17876 [==============================] - 6s 331us/step - loss: 0.9995 - mean_absolute_error: 0.7942 - val_loss: 0.9996 - val_mean_absolute_error: 0.7931\n",
      "Epoch 4/10\n",
      "17876/17876 [==============================] - 6s 331us/step - loss: 0.9995 - mean_absolute_error: 0.7942 - val_loss: 0.9996 - val_mean_absolute_error: 0.7931\n",
      "Epoch 5/10\n",
      "17876/17876 [==============================] - 6s 338us/step - loss: 0.9995 - mean_absolute_error: 0.7942 - val_loss: 0.9996 - val_mean_absolute_error: 0.7931\n",
      "Epoch 6/10\n",
      "17876/17876 [==============================] - 6s 329us/step - loss: 0.9995 - mean_absolute_error: 0.7942 - val_loss: 0.9996 - val_mean_absolute_error: 0.7931\n",
      "Epoch 7/10\n",
      "17876/17876 [==============================] - 6s 334us/step - loss: 0.9995 - mean_absolute_error: 0.7942 - val_loss: 0.9996 - val_mean_absolute_error: 0.7931\n",
      "Epoch 8/10\n",
      "17876/17876 [==============================] - 6s 332us/step - loss: 0.9995 - mean_absolute_error: 0.7942 - val_loss: 0.9996 - val_mean_absolute_error: 0.7931\n",
      "Epoch 9/10\n",
      "17876/17876 [==============================] - 6s 333us/step - loss: 0.9995 - mean_absolute_error: 0.7942 - val_loss: 0.9996 - val_mean_absolute_error: 0.7931\n",
      "Epoch 10/10\n",
      "17876/17876 [==============================] - 6s 335us/step - loss: 0.9995 - mean_absolute_error: 0.7942 - val_loss: 0.9996 - val_mean_absolute_error: 0.7931\n"
     ]
    },
    {
     "data": {
      "image/png": "[encoded data removed]",
      "text/plain": [
       "<Figure size 1000x600 with 1 Axes>"
      ]
     },
     "metadata": {},
     "output_type": "display_data"
    }
   ],
   "source": [
    "import matplotlib.pyplot as plt\n",
    "\n",
    "history = simple_nn.fit(\n",
    "    X_train, y_train, \n",
    "    epochs=10, \n",
    "    batch_size=20, \n",
    "    validation_data=(X_val, y_val)\n",
    ")\n",
    "\n",
    "# Plotting the training and validation loss\n",
    "plt.figure(figsize=(10, 6))\n",
    "plt.plot(history.history['loss'], label='Training Loss')\n",
    "plt.plot(history.history['val_loss'], label='Validation Loss')\n",
    "plt.title('Training and Validation Loss')\n",
    "plt.xlabel('Epochs')\n",
    "plt.ylabel('Loss')\n",
    "plt.legend()\n",
    "plt.show()\n"
   ]
  },
  {
   "cell_type": "code",
   "execution_count": 65,
   "metadata": {},
   "outputs": [
    {
     "name": "stderr",
     "output_type": "stream",
     "text": [
      "WARNING:absl:At this time, the v2.11+ optimizer `tf.keras.optimizers.Adam` runs slowly on M1/M2 Macs, please use the legacy Keras optimizer instead, located at `tf.keras.optimizers.legacy.Adam`.\n"
     ]
    },
    {
     "name": "stdout",
     "output_type": "stream",
     "text": [
      "Epoch 1/10\n",
      "17876/17876 [==============================] - 7s 368us/step - loss: 0.9995 - mean_absolute_error: 0.7942 - val_loss: 0.9996 - val_mean_absolute_error: 0.7931 - lr: 0.0010\n",
      "Epoch 2/10\n",
      "17876/17876 [==============================] - 7s 391us/step - loss: 0.9995 - mean_absolute_error: 0.7942 - val_loss: 0.9996 - val_mean_absolute_error: 0.7931 - lr: 0.0010\n",
      "Epoch 3/10\n",
      "17876/17876 [==============================] - 7s 375us/step - loss: 0.9995 - mean_absolute_error: 0.7942 - val_loss: 0.9996 - val_mean_absolute_error: 0.7931 - lr: 0.0010\n",
      "Epoch 4/10\n",
      "17876/17876 [==============================] - 6s 357us/step - loss: 0.9995 - mean_absolute_error: 0.7942 - val_loss: 0.9996 - val_mean_absolute_error: 0.7931 - lr: 0.0010\n",
      "Epoch 5/10\n",
      "17876/17876 [==============================] - 6s 347us/step - loss: 0.9995 - mean_absolute_error: 0.7942 - val_loss: 0.9996 - val_mean_absolute_error: 0.7931 - lr: 0.0010\n",
      "Epoch 6/10\n",
      "17876/17876 [==============================] - 6s 338us/step - loss: 0.9995 - mean_absolute_error: 0.7942 - val_loss: 0.9996 - val_mean_absolute_error: 0.7931 - lr: 9.0000e-04\n",
      "Epoch 7/10\n",
      "17876/17876 [==============================] - 6s 343us/step - loss: 0.9995 - mean_absolute_error: 0.7942 - val_loss: 0.9996 - val_mean_absolute_error: 0.7931 - lr: 8.1000e-04\n",
      "Epoch 8/10\n",
      "17876/17876 [==============================] - 6s 342us/step - loss: 0.9995 - mean_absolute_error: 0.7942 - val_loss: 0.9996 - val_mean_absolute_error: 0.7931 - lr: 7.2900e-04\n",
      "Epoch 9/10\n",
      "17876/17876 [==============================] - 6s 349us/step - loss: 0.9995 - mean_absolute_error: 0.7942 - val_loss: 0.9996 - val_mean_absolute_error: 0.7931 - lr: 6.5610e-04\n",
      "Epoch 10/10\n",
      "17876/17876 [==============================] - 6s 340us/step - loss: 0.9995 - mean_absolute_error: 0.7942 - val_loss: 0.9996 - val_mean_absolute_error: 0.7931 - lr: 5.9049e-04\n"
     ]
    }
   ],
   "source": [
    "from keras.optimizers import Adam\n",
    "from keras.callbacks import LearningRateScheduler\n",
    "\n",
    "# Define a learning rate scheduler function\n",
    "def lr_scheduler(epoch, lr):\n",
    "    if epoch < 5:\n",
    "        return lr  # Keep the initial learning rate for the first 5 epochs\n",
    "    else:\n",
    "        return lr * 0.9  # Reduce the learning rate by a factor of 0.9 after 5 epochs\n",
    "\n",
    "# Create a learning rate scheduler callback\n",
    "lr_schedule = LearningRateScheduler(lr_scheduler)\n",
    "\n",
    "# Define the optimizer with an initial learning rate\n",
    "initial_lr = 0.001  # Initial learning rate\n",
    "optimizer = Adam(learning_rate=initial_lr)\n",
    "\n",
    "# Compile the model with the optimizer\n",
    "simple_nn.compile(optimizer=optimizer, loss='mean_squared_error', metrics=['mean_absolute_error'])\n",
    "\n",
    "# Train the model with adjustable learning rate using the learning rate scheduler\n",
    "history = simple_nn.fit(\n",
    "    X_train, y_train, \n",
    "    epochs=10, \n",
    "    batch_size=20, \n",
    "    validation_data=(X_val, y_val),\n",
    "    callbacks=[lr_schedule]  # Pass the learning rate scheduler callback\n",
    ")"
   ]
  },
  {
   "cell_type": "code",
   "execution_count": 77,
   "metadata": {},
   "outputs": [],
   "source": [
    "input_shape = X_train.shape[1]  # Assuming X_train is your input training data\n",
    "\n",
    "# Define the model architecture\n",
    "model = Sequential()\n",
    "model.add(Dense(128, activation='relu', input_shape=(input_shape,)))\n",
    "model.add(Dense(64, activation='relu'))\n",
    "model.add(Dropout(0.5))  # Adding dropout to prevent overfitting\n",
    "model.add(Dense(1, activation='linear'))\n",
    "\n",
    "# Compile the model and the rest of the code remains the same\n"
   ]
  },
  {
   "cell_type": "code",
   "execution_count": 78,
   "metadata": {},
   "outputs": [
    {
     "name": "stderr",
     "output_type": "stream",
     "text": [
      "WARNING:absl:At this time, the v2.11+ optimizer `tf.keras.optimizers.Adam` runs slowly on M1/M2 Macs, please use the legacy Keras optimizer instead, located at `tf.keras.optimizers.legacy.Adam`.\n"
     ]
    },
    {
     "name": "stdout",
     "output_type": "stream",
     "text": [
      "Epoch 1/10\n",
      "17876/17876 [==============================] - 7s 407us/step - loss: 23.5568 - mae: 0.9660 - val_loss: 0.9997 - val_mae: 0.7923 - lr: 0.0010\n",
      "Epoch 2/10\n",
      "17876/17876 [==============================] - 7s 397us/step - loss: 0.9996 - mae: 0.7942 - val_loss: 0.9997 - val_mae: 0.7937 - lr: 0.0010\n",
      "Epoch 3/10\n",
      "17876/17876 [==============================] - 7s 411us/step - loss: 0.9996 - mae: 0.7943 - val_loss: 1.0004 - val_mae: 0.7906 - lr: 0.0010\n",
      "Epoch 4/10\n",
      "17876/17876 [==============================] - 7s 411us/step - loss: 0.9996 - mae: 0.7942 - val_loss: 0.9997 - val_mae: 0.7935 - lr: 0.0010\n",
      "Epoch 5/10\n",
      "17876/17876 [==============================] - 7s 405us/step - loss: 0.9996 - mae: 0.7943 - val_loss: 1.0000 - val_mae: 0.7914 - lr: 0.0010\n",
      "Epoch 6/10\n",
      "17876/17876 [==============================] - 7s 388us/step - loss: 0.9996 - mae: 0.7942 - val_loss: 0.9997 - val_mae: 0.7922 - lr: 0.0010\n",
      "Epoch 7/10\n",
      "17876/17876 [==============================] - 7s 392us/step - loss: 0.9995 - mae: 0.7941 - val_loss: 0.9996 - val_mae: 0.7933 - lr: 2.0000e-04\n",
      "Epoch 8/10\n",
      "17876/17876 [==============================] - 7s 405us/step - loss: 0.9995 - mae: 0.7942 - val_loss: 0.9997 - val_mae: 0.7930 - lr: 2.0000e-04\n",
      "Epoch 9/10\n",
      "17876/17876 [==============================] - 7s 395us/step - loss: 0.9995 - mae: 0.7942 - val_loss: 0.9997 - val_mae: 0.7926 - lr: 2.0000e-04\n",
      "Epoch 10/10\n",
      "17876/17876 [==============================] - 7s 395us/step - loss: 0.9995 - mae: 0.7941 - val_loss: 0.9997 - val_mae: 0.7939 - lr: 2.0000e-04\n"
     ]
    }
   ],
   "source": [
    "from tensorflow.keras.models import Sequential\n",
    "from tensorflow.keras.layers import Dense, Dropout\n",
    "from tensorflow.keras.optimizers import Adam\n",
    "from tensorflow.keras.callbacks import ReduceLROnPlateau\n",
    "\n",
    "# Define the model architecture\n",
    "model = Sequential()\n",
    "model.add(Dense(128, activation='relu', input_shape=(input_shape,)))\n",
    "model.add(Dense(64, activation='relu'))\n",
    "model.add(Dropout(0.5))  # Adding dropout to prevent overfitting\n",
    "model.add(Dense(1, activation='linear'))\n",
    "\n",
    "# Compile the model\n",
    "optimizer = Adam(learning_rate=0.001)\n",
    "model.compile(optimizer=optimizer, loss='mse', metrics=['mae'])\n",
    "\n",
    "# Learning rate scheduler callback\n",
    "reduce_lr = ReduceLROnPlateau(monitor='val_loss', factor=0.2, patience=5, min_lr=0.0001)\n",
    "\n",
    "# Training the model with the adjustments\n",
    "history = model.fit(\n",
    "    X_train, y_train, \n",
    "    epochs=10, \n",
    "    batch_size=20, \n",
    "    validation_data=(X_val, y_val),\n",
    "    callbacks=[reduce_lr]  # Include the learning rate scheduler\n",
    ")"
   ]
  },
  {
   "cell_type": "markdown",
   "metadata": {},
   "source": [
    "It looks like the training process is ongoing with fluctuations in both training and validation loss/mean absolute error (mae). "
   ]
  },
  {
   "cell_type": "markdown",
   "metadata": {},
   "source": [
    "This code adds two additional layers (with 32 and 16 neurons) and keeps the final output layer with linear activation for regression tasks:"
   ]
  },
  {
   "cell_type": "code",
   "execution_count": 82,
   "metadata": {},
   "outputs": [
    {
     "name": "stderr",
     "output_type": "stream",
     "text": [
      "WARNING:absl:At this time, the v2.11+ optimizer `tf.keras.optimizers.Adam` runs slowly on M1/M2 Macs, please use the legacy Keras optimizer instead, located at `tf.keras.optimizers.legacy.Adam`.\n"
     ]
    },
    {
     "name": "stdout",
     "output_type": "stream",
     "text": [
      "Epoch 1/10\n",
      "17876/17876 [==============================] - 8s 455us/step - loss: 7.8883 - mae: 0.9482 - val_loss: 0.9861 - val_mae: 0.7855\n",
      "Epoch 2/10\n",
      "17876/17876 [==============================] - 8s 452us/step - loss: 0.9996 - mae: 0.7943 - val_loss: 0.9997 - val_mae: 0.7938\n",
      "Epoch 3/10\n",
      "17876/17876 [==============================] - 8s 447us/step - loss: 0.9997 - mae: 0.7943 - val_loss: 0.9996 - val_mae: 0.7931\n",
      "Epoch 4/10\n",
      "17876/17876 [==============================] - 8s 447us/step - loss: 0.9996 - mae: 0.7943 - val_loss: 0.9997 - val_mae: 0.7936\n",
      "Epoch 5/10\n",
      "17876/17876 [==============================] - 8s 452us/step - loss: 0.9996 - mae: 0.7942 - val_loss: 0.9997 - val_mae: 0.7937\n",
      "Epoch 6/10\n",
      "17876/17876 [==============================] - 8s 460us/step - loss: 0.9996 - mae: 0.7943 - val_loss: 0.9997 - val_mae: 0.7922\n",
      "Epoch 7/10\n",
      "17876/17876 [==============================] - 8s 455us/step - loss: 0.9996 - mae: 0.7942 - val_loss: 0.9996 - val_mae: 0.7933\n",
      "Epoch 8/10\n",
      "17876/17876 [==============================] - 8s 453us/step - loss: 0.9996 - mae: 0.7943 - val_loss: 0.9997 - val_mae: 0.7928\n",
      "Epoch 9/10\n",
      "17876/17876 [==============================] - 8s 452us/step - loss: 0.9996 - mae: 0.7942 - val_loss: 0.9998 - val_mae: 0.7946\n",
      "Epoch 10/10\n",
      "17876/17876 [==============================] - 8s 446us/step - loss: 0.9996 - mae: 0.7943 - val_loss: 0.9997 - val_mae: 0.7922\n"
     ]
    }
   ],
   "source": [
    "model = Sequential()\n",
    "model.add(Dense(128, activation='relu', input_shape=(input_shape,)))\n",
    "model.add(Dense(64, activation='relu'))\n",
    "model.add(Dropout(0.5))  \n",
    "model.add(Dense(32, activation='relu'))  # Adding another layer\n",
    "model.add(Dense(16, activation='relu'))  # Adding another layer\n",
    "model.add(Dense(1, activation='linear'))\n",
    "\n",
    "model.compile(optimizer=tensorflow.keras.optimizers.Adam(learning_rate=0.001), \n",
    "              loss='mean_squared_error', \n",
    "              metrics=['mae'])\n",
    "\n",
    "history = model.fit(\n",
    "    X_train, y_train, \n",
    "    epochs=10, \n",
    "    batch_size=20, \n",
    "    validation_data=(X_val, y_val)\n",
    ")"
   ]
  },
  {
   "cell_type": "code",
   "execution_count": 83,
   "metadata": {},
   "outputs": [],
   "source": [
    "from tensorflow.keras.optimizers import legacy\n",
    "\n",
    "optimizer = legacy.Adam(learning_rate=0.001)\n",
    "model.compile(optimizer=optimizer, loss='mean_squared_error', metrics=['mae'])"
   ]
  },
  {
   "cell_type": "markdown",
   "metadata": {},
   "source": [
    "<div style=\"position: relative; background: #3567A8; color: white; padding: 10px 15px; text-align: center; border-radius: 6px;\">\n",
    "    <span style=\"position: absolute; left: -25px; top: 10px; transform: rotate(-45deg); background: #3567A8; padding: 5px 10px; border-radius: 3px;\">Section 1</span>\n",
    "    <h1 style=\"font-size: 30px;\">Model Evaluation </h1>\n",
    "</div>"
   ]
  },
  {
   "cell_type": "markdown",
   "metadata": {},
   "source": [
    "> <div style=\"text-align: center\"><font color='gold' style='font-size: 30px;'><b>Random Forest</b></font></div>"
   ]
  },
  {
   "cell_type": "code",
   "execution_count": 20,
   "metadata": {},
   "outputs": [
    {
     "name": "stdout",
     "output_type": "stream",
     "text": [
      "Train Accuracy:  0.8740449429174264\n",
      "Test Accuracy:  0.7632626483208427\n"
     ]
    }
   ],
   "source": [
    "#Printing the accuracy score of the model on the training set\n",
    "print('Train Accuracy: ', rf.score(X_train, y_train))\n",
    "\n",
    "#Printing the accuracy score of the model on the test set\n",
    "print('Test Accuracy: ', rf.score(X_test, y_test))"
   ]
  },
  {
   "cell_type": "markdown",
   "metadata": {},
   "source": [
    "#### The model achieves an accuracy of approximately 87.40% on the training data and around 76.33% on the test data, indicating good performance."
   ]
  },
  {
   "cell_type": "code",
   "execution_count": 21,
   "metadata": {},
   "outputs": [
    {
     "data": {
      "text/plain": [
       "Text(0.5, 1.0, 'Feature Importance Score')"
      ]
     },
     "execution_count": 21,
     "metadata": {},
     "output_type": "execute_result"
    },
    {
     "data": {
      "image/png": "[encoded data removed]",
      "text/plain": [
       "<Figure size 1000x800 with 1 Axes>"
      ]
     },
     "metadata": {},
     "output_type": "display_data"
    }
   ],
   "source": [
    "#Calculating feature importances using the trained RandomForestRegressor model\n",
    "feature_importance = pd.Series(rf.feature_importances_, index=X.columns)\n",
    "\n",
    "#Plotting the top 10 important features in a horizontal bar chart\n",
    "ax = feature_importance.nlargest(10).plot(kind='barh', figsize=(10, 8))\n",
    "\n",
    "#Invert y-axis for better visualization\n",
    "ax.invert_yaxis()\n",
    "\n",
    "#Set labels for x and y axes, and the title of the plot\n",
    "plt.xlabel('Score')\n",
    "plt.ylabel('Features')\n",
    "plt.title('Feature Importance Score')"
   ]
  },
  {
   "cell_type": "markdown",
   "metadata": {},
   "source": [
    "#### In car auctions, it appears that the year of the car, followed by the odometer reading and the vehicle's body type, are the key factors influencing consumers' decisions to bid or purchase. Among these factors, the year of the car stands out as the most significant factor influencing consumer choices."
   ]
  },
  {
   "cell_type": "markdown",
   "metadata": {},
   "source": [
    "<div style=\"position: relative; background: #3567A8; color: white; padding: 10px 15px; text-align: center; border-radius: 6px;\">\n",
    "    <span style=\"position: absolute; left: -25px; top: 10px; transform: rotate(-45deg); background: #3567A8; padding: 5px 10px; border-radius: 3px;\">Section 1</span>\n",
    "    <h1 style=\"font-size: 30px;\">Model Selection </h1>\n",
    "</div>"
   ]
  },
  {
   "cell_type": "code",
   "execution_count": null,
   "metadata": {},
   "outputs": [],
   "source": []
  },
  {
   "cell_type": "markdown",
   "metadata": {},
   "source": [
    "<div style=\"position: relative; background: #3567A8; color: white; padding: 10px 15px; text-align: center; border-radius: 6px;\">\n",
    "    <span style=\"position: absolute; left: -25px; top: 10px; transform: rotate(-45deg); background: #3567A8; padding: 5px 10px; border-radius: 3px;\">Section 1</span>\n",
    "    <h1 style=\"font-size: 30px;\">Model Explainability </h1>\n",
    "</div>"
   ]
  },
  {
   "cell_type": "code",
   "execution_count": null,
   "metadata": {},
   "outputs": [],
   "source": []
  },
  {
   "cell_type": "markdown",
   "metadata": {},
   "source": [
    "<div style=\"position: relative; background: #3567A8; color: white; padding: 10px 15px; text-align: center; border-radius: 6px;\">\n",
    "    <span style=\"position: absolute; left: -25px; top: 10px; transform: rotate(-45deg); background: #3567A8; padding: 5px 10px; border-radius: 3px;\">Bonus</span>\n",
    "    <h1 style=\"font-size: 30px;\">XGBoost, KNN, Linear Regression</h1>\n",
    "</div>"
   ]
  },
  {
   "cell_type": "markdown",
   "metadata": {},
   "source": [
    "> <div style=\"text-align: center\"><font color='gold' style='font-size: 30px;'><b>XGBoost</b></font></div>"
   ]
  },
  {
   "cell_type": "code",
   "execution_count": 22,
   "metadata": {},
   "outputs": [
    {
     "name": "stdout",
     "output_type": "stream",
     "text": [
      "Mean Squared Error (MSE): 0.28\n",
      "Mean Absolute Error (MAE): 0.37\n"
     ]
    }
   ],
   "source": [
    "#Creating an XGBoost regressor with specified hyperparameters\n",
    "xgboost = XGBRegressor(n_estimators=100, max_depth=5, learning_rate=0.1, random_state=420)\n",
    "\n",
    "#Training the XGBoost model using the training data (features: X_train, targets: y_train)\n",
    "xgboost.fit(X_train, y_train)\n",
    "\n",
    "# Make predictions using the trained model on the test data (features: X_test)\n",
    "predictions = xgboost.predict(X_val)\n",
    "\n",
    "#Calculating Mean Squared Error (MSE) and Mean Absolute Error (MAE) for evaluation\n",
    "mse = mean_squared_error(y_val, predictions) \n",
    "mae = mean_absolute_error(y_val, predictions)\n",
    "\n",
    "# Print the calculated Mean Squared Error (MSE) and Mean Absolute Error (MAE)\n",
    "print(f\"Mean Squared Error (MSE): {mse:.2f}\")\n",
    "print(f\"Mean Absolute Error (MAE): {mae:.2f}\")"
   ]
  },
  {
   "cell_type": "markdown",
   "metadata": {},
   "source": [
    "#### The current XGBoost model shows moderate performance on the validation data:\n",
    "#### - Mean Squared Error (MSE): 0.28\n",
    "#### - Mean Absolute Error (MAE): 0.37\n",
    "#### These results indicate room for improvement. The next step involves fine-tuning the model's hyperparameters, such as adjusting the number of estimators, tree depth, and learning rate. Tuning these parameters aims to enhance the model's accuracy and reduce prediction errors for better performance."
   ]
  },
  {
   "cell_type": "code",
   "execution_count": 23,
   "metadata": {},
   "outputs": [
    {
     "name": "stdout",
     "output_type": "stream",
     "text": [
      "Best Parameters for XGBoost: {'learning_rate': 0.1, 'max_depth': 7, 'n_estimators': 500}\n",
      "Best Score (MSE) for XGBoost: 0.23223093830858993\n"
     ]
    }
   ],
   "source": [
    "#Creating an XGBRegressor instance\n",
    "xgb = XGBRegressor()\n",
    "\n",
    "#Defining the hyperparameters and their values to search through\n",
    "param_grid_xgb = {\n",
    "    'n_estimators': [100, 200, 300, 400, 500],  #Number of trees\n",
    "    'learning_rate': [0.1, 0.01, 0.001],  #Step size shrinkage\n",
    "    'max_depth': [3, 5, 7]  #Maximum depth of a tree\n",
    "}\n",
    "\n",
    "#Perform Grid Search with cross-validation\n",
    "grid_search_xgb = GridSearchCV(xgb, param_grid=param_grid_xgb, cv=5, scoring='neg_mean_squared_error')\n",
    "grid_search_xgb.fit(X_train, y_train)\n",
    "\n",
    "#Get the best parameters and best score\n",
    "best_params_xgb = grid_search_xgb.best_params_\n",
    "best_score_xgb = grid_search_xgb.best_score_\n",
    "\n",
    "print(\"Best Parameters for XGBoost:\", best_params_xgb)\n",
    "print(\"Best Score (MSE) for XGBoost:\", -best_score_xgb)  #Negative sign as GridSearchCV uses negative MSE"
   ]
  },
  {
   "cell_type": "markdown",
   "metadata": {},
   "source": [
    "#### The optimal hyperparameters found for the XGBoost model are as follows:\n",
    "#### - Learning Rate: 0.1\n",
    "#### - Maximum Depth: 7\n",
    "#### - Number of Estimators: 500\n",
    "\n",
    "#### These hyperparameters resulted in an improved model performance with a Mean Squared Error (MSE) of 0.232. The lower MSE indicates enhanced predictive accuracy compared to the previous model configuration."
   ]
  },
  {
   "cell_type": "code",
   "execution_count": 24,
   "metadata": {},
   "outputs": [
    {
     "name": "stdout",
     "output_type": "stream",
     "text": [
      "Mean Squared Error (MSE): 0.25\n",
      "Mean Absolute Error (MAE): 0.33\n"
     ]
    }
   ],
   "source": [
    "#Creating an XGBoost regressor with hyperparameters from the grid search\n",
    "xgboost = XGBRegressor(n_estimators=500, max_depth=5, learning_rate=0.1, random_state=420)\n",
    "\n",
    "#Training the XGBoost model using the training data (features: X_train, targets: y_train)\n",
    "xgboost.fit(X_train, y_train)\n",
    "\n",
    "# Make predictions using the trained model on the test data (features: X_test)\n",
    "predictions = xgboost.predict(X_val)\n",
    "\n",
    "#Calculating Mean Squared Error (MSE) and Mean Absolute Error (MAE) for evaluation\n",
    "mse = mean_squared_error(y_val, predictions) \n",
    "mae = mean_absolute_error(y_val, predictions)\n",
    "\n",
    "# Print the calculated Mean Squared Error (MSE) and Mean Absolute Error (MAE)\n",
    "print(f\"Mean Squared Error (MSE): {mse:.2f}\")\n",
    "print(f\"Mean Absolute Error (MAE): {mae:.2f}\")"
   ]
  },
  {
   "cell_type": "markdown",
   "metadata": {},
   "source": [
    "#### The Mean Squared Error (MSE) for the test data ended up slightly higher compared to the training data but remains lower than the validation data. This observation indicates that the model's performance on unseen test data is slightly less optimal than its performance on the training set but better than its performance on the validation set."
   ]
  },
  {
   "cell_type": "code",
   "execution_count": 25,
   "metadata": {},
   "outputs": [
    {
     "name": "stdout",
     "output_type": "stream",
     "text": [
      "Train Accuracy:  0.7615708445260201\n",
      "Test Accuracy:  0.7560375155681922\n"
     ]
    }
   ],
   "source": [
    "#Printing the accuracy score of the model on the training set\n",
    "print('Train Accuracy: ', xgboost.score(X_train, y_train))\n",
    "\n",
    "#Printing the accuracy score of the model on the test set\n",
    "print('Test Accuracy: ', xgboost.score(X_test, y_test))"
   ]
  },
  {
   "cell_type": "markdown",
   "metadata": {},
   "source": [
    "#### The accuracy of the model on the training dataset is approximately 76.16%, while on the test dataset, it stands at around 75.60%. This indicates that the model's performance on unseen test data is very close to its performance on the training data, demonstrating its ability to generalise well to new, unseen instances."
   ]
  },
  {
   "cell_type": "code",
   "execution_count": 26,
   "metadata": {},
   "outputs": [
    {
     "data": {
      "text/plain": [
       "Text(0.5, 1.0, 'Feature Importance Score')"
      ]
     },
     "execution_count": 26,
     "metadata": {},
     "output_type": "execute_result"
    },
    {
     "data": {
      "image/png": "[encoded data removed]",
      "text/plain": [
       "<Figure size 1000x800 with 1 Axes>"
      ]
     },
     "metadata": {},
     "output_type": "display_data"
    }
   ],
   "source": [
    "#Calculating feature importances using the trained RandomForestRegressor model\n",
    "feature_importance = pd.Series(xgboost.feature_importances_, index=X.columns)\n",
    "\n",
    "#Plotting the top 10 important features in a horizontal bar chart\n",
    "ax = feature_importance.nlargest(10).plot(kind='barh', figsize=(10, 8))\n",
    "\n",
    "#Invert y-axis for better visualization\n",
    "ax.invert_yaxis()\n",
    "\n",
    "#Set labels for x and y axes, and the title of the plot\n",
    "plt.xlabel('Score')\n",
    "plt.ylabel('Features')\n",
    "plt.title('Feature Importance Score')"
   ]
  },
  {
   "cell_type": "markdown",
   "metadata": {},
   "source": [
    "#### The comparison between XGBoost and Random Forest models reveals notable differences in feature importance. In both models, 'Year' remains the most crucial feature. However, with XGBoost, 'Year' appears to hold slightly more importance than in Random Forest. \n",
    "\n",
    "#### Interestingly, 'Odometer' shifts in importance rankings between the models, being the fourth most important feature with XGBoost while holding the second position in importance with Random Forest. These alterations indicate differing perceptions of feature relevance between the two algorithms.\n",
    "\n",
    "#### While Random Forest exhibits higher accuracy on the test data, XGBoost demonstrates better generalisation to new, unseen instances. This is evident because the accuracy levels between test and train datasets are relatively close for XGBoost, implying a stronger ability to handle new data than Random Forest."
   ]
  },
  {
   "cell_type": "markdown",
   "metadata": {},
   "source": [
    "> <div style=\"text-align: center\"><font color='gold' style='font-size: 30px;'><b>KNN</b></font></div>"
   ]
  },
  {
   "cell_type": "code",
   "execution_count": 27,
   "metadata": {},
   "outputs": [
    {
     "name": "stdout",
     "output_type": "stream",
     "text": [
      "Mean Squared Error (MSE): 0.28\n",
      "Mean Absolute Error (MAE): 0.34\n"
     ]
    }
   ],
   "source": [
    "#Initialising a KNN Regressor with the desired number of neighbours (adjust as needed)\n",
    "knn = KNeighborsRegressor(n_neighbors=5)\n",
    "\n",
    "#Training the model using the training data\n",
    "knn.fit(X_train, y_train)\n",
    "\n",
    "#Making predictions on the test set\n",
    "predictions = knn.predict(X_val)\n",
    "\n",
    "#Calculating Mean Squared Error (MSE) and Mean Absolute Error (MAE) for evaluation\n",
    "mse = mean_squared_error(y_val, predictions)\n",
    "mae = mean_absolute_error(y_val, predictions)\n",
    "\n",
    "#Printing the evaluation metrics (MSE and MAE)\n",
    "print(f\"Mean Squared Error (MSE): {mse:.2f}\")\n",
    "print(f\"Mean Absolute Error (MAE): {mae:.2f}\")"
   ]
  },
  {
   "cell_type": "markdown",
   "metadata": {},
   "source": [
    "#### Similar to XGBoost, both Mean Squared Error (MSE) and Mean Absolute Error (MAE) demonstrate potential for enhancement. This will be addressed through hyperparameter tuning utilising grid search methodology."
   ]
  },
  {
   "cell_type": "code",
   "execution_count": 28,
   "metadata": {},
   "outputs": [
    {
     "name": "stdout",
     "output_type": "stream",
     "text": [
      "Best Parameters for KNN: {'n_neighbors': 17}\n",
      "Best Score (MSE) for KNN: 0.26525404551561643\n"
     ]
    }
   ],
   "source": [
    "#Creating a KNN regressor\n",
    "knn = KNeighborsRegressor()\n",
    "\n",
    "#Defining the hyperparameters and their values to search through\n",
    "param_grid_knn = {\n",
    "    'n_neighbors': [3, 5, 7, 9, 11, 13, 15, 17, 19],  #Values for number of neighbours to test\n",
    "}\n",
    "\n",
    "#Grid Search with cross-validation\n",
    "grid_search_knn = GridSearchCV(knn, param_grid=param_grid_knn, cv=5, scoring='neg_mean_squared_error')\n",
    "grid_search_knn.fit(X_train, y_train)\n",
    "\n",
    "#Getting the best parameters and best score\n",
    "best_params_knn = grid_search_knn.best_params_\n",
    "best_score_knn = grid_search_knn.best_score_\n",
    "\n",
    "print(\"Best Parameters for KNN:\", best_params_knn)\n",
    "print(\"Best Score (MSE) for KNN:\", -best_score_knn)"
   ]
  },
  {
   "cell_type": "markdown",
   "metadata": {},
   "source": [
    "#### Following the grid search process, it appears that the optimal parameter for K-Nearest Neighbours is 17."
   ]
  },
  {
   "cell_type": "code",
   "execution_count": 29,
   "metadata": {},
   "outputs": [
    {
     "name": "stdout",
     "output_type": "stream",
     "text": [
      "Mean Squared Error (MSE) on Test Set: 0.2618\n"
     ]
    }
   ],
   "source": [
    "#KNN regressor with the best parameters found\n",
    "best_knn = KNeighborsRegressor(n_neighbors=17)\n",
    "\n",
    "#Training the KNN model using the training data\n",
    "best_knn.fit(X_train, y_train)\n",
    "\n",
    "#Making predictions on the test set\n",
    "predictions = best_knn.predict(X_test)\n",
    "\n",
    "#Evaluating the model using Mean Squared Error (MSE)\n",
    "from sklearn.metrics import mean_squared_error\n",
    "mse = mean_squared_error(y_test, predictions)\n",
    "print(f\"Mean Squared Error (MSE) on Test Set: {mse:.4f}\")"
   ]
  },
  {
   "cell_type": "markdown",
   "metadata": {},
   "source": [
    "#### The Mean Squared Error (MSE) obtained from KNN is slightly improved compared to the training and validation datasets."
   ]
  },
  {
   "cell_type": "code",
   "execution_count": 30,
   "metadata": {},
   "outputs": [
    {
     "name": "stdout",
     "output_type": "stream",
     "text": [
      "Train Accuracy:  0.7681771148804106\n",
      "Test Accuracy:  0.7386908340984943\n"
     ]
    }
   ],
   "source": [
    "#Printing the accuracy score of the model on the training set\n",
    "print('Train Accuracy: ', best_knn.score(X_train, y_train))\n",
    "\n",
    "#Printing the accuracy score of the model on the test set\n",
    "print('Test Accuracy: ', best_knn.score(X_test, y_test))"
   ]
  },
  {
   "cell_type": "markdown",
   "metadata": {},
   "source": [
    "#### The model's accuracy on the training dataset is approximately 76.82%, while it stands at around 73.87% on the test dataset. This indicates that the model performs slightly better on the training data than the test data, suggesting a minor drop in performance when applied to unseen test instances.\n",
    "\n",
    "#### Additionally, it's worth noting that the accuracy achieved by this model on both the training and test datasets (approximately 76.82% and 73.87%, respectively) is the lowest among the compared models, with XGBoost achieving around 75% and Random Forest around 76% accuracy."
   ]
  },
  {
   "cell_type": "markdown",
   "metadata": {},
   "source": [
    "> <div style=\"text-align: center\"><font color='gold' style='font-size: 30px;'><b>Linear Regression</b></font></div>"
   ]
  },
  {
   "cell_type": "code",
   "execution_count": 31,
   "metadata": {},
   "outputs": [
    {
     "name": "stdout",
     "output_type": "stream",
     "text": [
      "Mean Squared Error (MSE): 0.47\n",
      "Mean Absolute Error (MAE): 0.52\n"
     ]
    }
   ],
   "source": [
    "#Creating a Linear Regression model instance\n",
    "linear_reg = LinearRegression()\n",
    "\n",
    "#Training the Linear Regression model using the training data (features: X_train, targets: y_train)\n",
    "linear_reg.fit(X_train, y_train)\n",
    "\n",
    "#Making predictions using the trained Linear Regression model on the validation data (features: X_val)\n",
    "predictions = linear_reg.predict(X_val)\n",
    "\n",
    "#Calculating Mean Squared Error (MSE) and Mean Absolute Error (MAE) for evaluation\n",
    "mse = mean_squared_error(y_val, predictions)\n",
    "mae = mean_absolute_error(y_val, predictions)\n",
    "\n",
    "# Print the calculated Mean Squared Error (MSE) and Mean Absolute Error (MAE)\n",
    "print(f\"Mean Squared Error (MSE): {mse:.2f}\")\n",
    "print(f\"Mean Absolute Error (MAE): {mae:.2f}\")\n"
   ]
  },
  {
   "cell_type": "markdown",
   "metadata": {},
   "source": [
    "#### For Linear Regression, the Mean Squared Error (MSE) is recorded at 0.47, while the Mean Absolute Error (MAE) stands at 0.52. These values for Mean Squared Error (MSE) and Mean Absolute Error (MAE) with Linear Regression are considerably higher than all the other models, almost double for both metrics."
   ]
  },
  {
   "cell_type": "code",
   "execution_count": 32,
   "metadata": {},
   "outputs": [
    {
     "name": "stdout",
     "output_type": "stream",
     "text": [
      "Train Accuracy:  0.5347210532033367\n",
      "Test Accuracy:  0.5357410242683696\n"
     ]
    }
   ],
   "source": [
    "#Printing the accuracy score of the model on the training set\n",
    "print('Train Accuracy: ', linear_reg.score(X_train, y_train))\n",
    "\n",
    "#Printing the accuracy score of the model on the test set\n",
    "print('Test Accuracy: ', linear_reg.score(X_test, y_test))"
   ]
  },
  {
   "cell_type": "markdown",
   "metadata": {},
   "source": [
    "#### As expected, the accuracy of the model on the training dataset stands at approximately 53.47%, while on the test dataset, it's around 53.57%. This low accuracy level is consistent with the model's performance.\n",
    "\n",
    "#### This model performs the worst by far compared to all the other models"
   ]
  }
 ],
 "metadata": {
  "kernelspec": {
   "display_name": "base",
   "language": "python",
   "name": "python3"
  },
  "language_info": {
   "codemirror_mode": {
    "name": "ipython",
    "version": 3
   },
   "file_extension": ".py",
   "mimetype": "text/x-python",
   "name": "python",
   "nbconvert_exporter": "python",
   "pygments_lexer": "ipython3",
   "version": "3.11.5"
  }
 },
 "nbformat": 4,
 "nbformat_minor": 2
}
