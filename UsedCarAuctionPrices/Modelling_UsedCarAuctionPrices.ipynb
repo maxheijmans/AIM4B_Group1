{
 "cells": [
  {
   "cell_type": "markdown",
   "metadata": {},
   "source": [
    "Predicting finally"
   ]
  },
  {
   "cell_type": "markdown",
   "metadata": {},
   "source": [
    "<div style=\"position: relative; background: #3567A8; color: white; padding: 10px 15px; text-align: center; border-radius: 6px;\">\n",
    "    <span style=\"position: absolute; left: -25px; top: 10px; transform: rotate(-45deg); background: #3567A8; padding: 5px 10px; border-radius: 3px;\">Section 1</span>\n",
    "    <h1 style=\"font-size: 30px;\">Dataset Preperation </h1>\n",
    "</div>"
   ]
  },
  {
   "cell_type": "code",
   "execution_count": 30,
   "metadata": {},
   "outputs": [],
   "source": [
    "import numpy as np\n",
    "from sklearn.ensemble import RandomForestRegressor\n",
    "from sklearn.metrics import mean_squared_error\n",
    "from sklearn.model_selection import cross_val_score\n",
    "from sklearn.model_selection import train_test_split\n",
    "import matplotlib.pyplot as plt\n",
    "import pandas as pd\n",
    "import pyarrow.feather as feather\n",
    "from sklearn.model_selection import RandomizedSearchCV\n",
    "from scipy.stats import randint\n",
    "import pandas as pd"
   ]
  },
  {
   "cell_type": "code",
   "execution_count": 31,
   "metadata": {},
   "outputs": [],
   "source": [
    "#Load the feather file into a car_df\n",
    "car_df = feather.read_feather('processed_data.feather')"
   ]
  },
  {
   "cell_type": "code",
   "execution_count": 32,
   "metadata": {},
   "outputs": [
    {
     "data": {
      "text/plain": [
       "Index(['year', 'brand', 'model', 'trim', 'body', 'transmission', 'condition',\n",
       "       'odometer', 'color', 'interior', 'sellingprice', 'brand_model',\n",
       "       'car_age', 'mileage_per_year', 'market_price_deviation', 'brand_label',\n",
       "       'trim_label', 'body_label', 'color_label', 'interior_label',\n",
       "       'transmission_label'],\n",
       "      dtype='object')"
      ]
     },
     "execution_count": 32,
     "metadata": {},
     "output_type": "execute_result"
    }
   ],
   "source": [
    "car_df.columns"
   ]
  },
  {
   "cell_type": "code",
   "execution_count": 33,
   "metadata": {},
   "outputs": [
    {
     "data": {
      "text/html": [
       "<div>\n",
       "<style scoped>\n",
       "    .dataframe tbody tr th:only-of-type {\n",
       "        vertical-align: middle;\n",
       "    }\n",
       "\n",
       "    .dataframe tbody tr th {\n",
       "        vertical-align: top;\n",
       "    }\n",
       "\n",
       "    .dataframe thead th {\n",
       "        text-align: right;\n",
       "    }\n",
       "</style>\n",
       "<table border=\"1\" class=\"dataframe\">\n",
       "  <thead>\n",
       "    <tr style=\"text-align: right;\">\n",
       "      <th></th>\n",
       "      <th>year</th>\n",
       "      <th>brand</th>\n",
       "      <th>model</th>\n",
       "      <th>trim</th>\n",
       "      <th>body</th>\n",
       "      <th>transmission</th>\n",
       "      <th>condition</th>\n",
       "      <th>odometer</th>\n",
       "      <th>color</th>\n",
       "      <th>interior</th>\n",
       "      <th>...</th>\n",
       "      <th>brand_model</th>\n",
       "      <th>car_age</th>\n",
       "      <th>mileage_per_year</th>\n",
       "      <th>market_price_deviation</th>\n",
       "      <th>brand_label</th>\n",
       "      <th>trim_label</th>\n",
       "      <th>body_label</th>\n",
       "      <th>color_label</th>\n",
       "      <th>interior_label</th>\n",
       "      <th>transmission_label</th>\n",
       "    </tr>\n",
       "  </thead>\n",
       "  <tbody>\n",
       "    <tr>\n",
       "      <th>2</th>\n",
       "      <td>2014</td>\n",
       "      <td>Bmw</td>\n",
       "      <td>3 Series</td>\n",
       "      <td>Others</td>\n",
       "      <td>Sedan</td>\n",
       "      <td>Automatic</td>\n",
       "      <td>1.145277</td>\n",
       "      <td>-1.364964</td>\n",
       "      <td>Silver</td>\n",
       "      <td>Black</td>\n",
       "      <td>...</td>\n",
       "      <td>Bmw_3 Series</td>\n",
       "      <td>-1.021999</td>\n",
       "      <td>-2.023111</td>\n",
       "      <td>-1.773132</td>\n",
       "      <td>8</td>\n",
       "      <td>0</td>\n",
       "      <td>1</td>\n",
       "      <td>1</td>\n",
       "      <td>1</td>\n",
       "      <td>0</td>\n",
       "    </tr>\n",
       "    <tr>\n",
       "      <th>3</th>\n",
       "      <td>2015</td>\n",
       "      <td>Others</td>\n",
       "      <td>Others</td>\n",
       "      <td>Others</td>\n",
       "      <td>Sedan</td>\n",
       "      <td>Automatic</td>\n",
       "      <td>0.719401</td>\n",
       "      <td>-1.086219</td>\n",
       "      <td>White</td>\n",
       "      <td>Black</td>\n",
       "      <td>...</td>\n",
       "      <td>Others_Others</td>\n",
       "      <td>-1.311799</td>\n",
       "      <td>-0.107857</td>\n",
       "      <td>0.287817</td>\n",
       "      <td>0</td>\n",
       "      <td>0</td>\n",
       "      <td>1</td>\n",
       "      <td>3</td>\n",
       "      <td>1</td>\n",
       "      <td>0</td>\n",
       "    </tr>\n",
       "    <tr>\n",
       "      <th>4</th>\n",
       "      <td>2014</td>\n",
       "      <td>Bmw</td>\n",
       "      <td>Others</td>\n",
       "      <td>Others</td>\n",
       "      <td>Sedan</td>\n",
       "      <td>Automatic</td>\n",
       "      <td>0.932339</td>\n",
       "      <td>-1.336769</td>\n",
       "      <td>Silver</td>\n",
       "      <td>Black</td>\n",
       "      <td>...</td>\n",
       "      <td>Bmw_Others</td>\n",
       "      <td>-1.311799</td>\n",
       "      <td>-0.107857</td>\n",
       "      <td>1.006753</td>\n",
       "      <td>8</td>\n",
       "      <td>0</td>\n",
       "      <td>1</td>\n",
       "      <td>1</td>\n",
       "      <td>1</td>\n",
       "      <td>0</td>\n",
       "    </tr>\n",
       "    <tr>\n",
       "      <th>6</th>\n",
       "      <td>2014</td>\n",
       "      <td>Bmw</td>\n",
       "      <td>Others</td>\n",
       "      <td>Base</td>\n",
       "      <td>Sedan</td>\n",
       "      <td>Automatic</td>\n",
       "      <td>-0.025882</td>\n",
       "      <td>-1.071992</td>\n",
       "      <td>Black</td>\n",
       "      <td>Black</td>\n",
       "      <td>...</td>\n",
       "      <td>Bmw_Others</td>\n",
       "      <td>-1.311799</td>\n",
       "      <td>-0.107857</td>\n",
       "      <td>0.000243</td>\n",
       "      <td>8</td>\n",
       "      <td>1</td>\n",
       "      <td>1</td>\n",
       "      <td>2</td>\n",
       "      <td>1</td>\n",
       "      <td>0</td>\n",
       "    </tr>\n",
       "    <tr>\n",
       "      <th>7</th>\n",
       "      <td>2014</td>\n",
       "      <td>Chevrolet</td>\n",
       "      <td>Others</td>\n",
       "      <td>Others</td>\n",
       "      <td>Sedan</td>\n",
       "      <td>Automatic</td>\n",
       "      <td>-1.516450</td>\n",
       "      <td>-0.777685</td>\n",
       "      <td>Black</td>\n",
       "      <td>Black</td>\n",
       "      <td>...</td>\n",
       "      <td>Chevrolet_Others</td>\n",
       "      <td>-1.311799</td>\n",
       "      <td>-0.107857</td>\n",
       "      <td>-1.964848</td>\n",
       "      <td>2</td>\n",
       "      <td>0</td>\n",
       "      <td>1</td>\n",
       "      <td>2</td>\n",
       "      <td>1</td>\n",
       "      <td>0</td>\n",
       "    </tr>\n",
       "  </tbody>\n",
       "</table>\n",
       "<p>5 rows × 21 columns</p>\n",
       "</div>"
      ],
      "text/plain": [
       "   year      brand     model    trim   body transmission  condition  odometer  \\\n",
       "2  2014        Bmw  3 Series  Others  Sedan    Automatic   1.145277 -1.364964   \n",
       "3  2015     Others    Others  Others  Sedan    Automatic   0.719401 -1.086219   \n",
       "4  2014        Bmw    Others  Others  Sedan    Automatic   0.932339 -1.336769   \n",
       "6  2014        Bmw    Others    Base  Sedan    Automatic  -0.025882 -1.071992   \n",
       "7  2014  Chevrolet    Others  Others  Sedan    Automatic  -1.516450 -0.777685   \n",
       "\n",
       "    color interior  ...       brand_model   car_age  mileage_per_year  \\\n",
       "2  Silver    Black  ...      Bmw_3 Series -1.021999         -2.023111   \n",
       "3   White    Black  ...     Others_Others -1.311799         -0.107857   \n",
       "4  Silver    Black  ...        Bmw_Others -1.311799         -0.107857   \n",
       "6   Black    Black  ...        Bmw_Others -1.311799         -0.107857   \n",
       "7   Black    Black  ...  Chevrolet_Others -1.311799         -0.107857   \n",
       "\n",
       "   market_price_deviation  brand_label  trim_label  body_label  color_label  \\\n",
       "2               -1.773132            8           0           1            1   \n",
       "3                0.287817            0           0           1            3   \n",
       "4                1.006753            8           0           1            1   \n",
       "6                0.000243            8           1           1            2   \n",
       "7               -1.964848            2           0           1            2   \n",
       "\n",
       "   interior_label  transmission_label  \n",
       "2               1                   0  \n",
       "3               1                   0  \n",
       "4               1                   0  \n",
       "6               1                   0  \n",
       "7               1                   0  \n",
       "\n",
       "[5 rows x 21 columns]"
      ]
     },
     "execution_count": 33,
     "metadata": {},
     "output_type": "execute_result"
    }
   ],
   "source": [
    "car_df.head()"
   ]
  },
  {
   "cell_type": "markdown",
   "metadata": {},
   "source": [
    "> <div style=\"text-align: center\"><font color='gold' style='font-size: 30px;'><b>Train, test, validation split</b></font></div>"
   ]
  },
  {
   "cell_type": "code",
   "execution_count": 34,
   "metadata": {},
   "outputs": [],
   "source": [
    "X = car_df[['year', 'odometer','car_age', 'mileage_per_year', 'market_price_deviation', \n",
    "            'brand_label', 'trim_label', 'body_label', 'color_label', 'interior_label',\n",
    "            'transmission_label']].copy()\n",
    "y = car_df[['sellingprice']].copy()"
   ]
  },
  {
   "cell_type": "code",
   "execution_count": 35,
   "metadata": {},
   "outputs": [],
   "source": [
    "#Splitting the original dataset into train and test sets (80-20 split)\n",
    "X_train_test, X_test, y_train_test, y_test = train_test_split(X, y, test_size=0.2, random_state=42)\n",
    "\n",
    "#Further splitting the training-test set into training and validation sets (80-20 split)\n",
    "X_train, X_val, y_train, y_val = train_test_split(X_train_test, y_train_test, test_size=0.2, random_state=77)"
   ]
  },
  {
   "cell_type": "code",
   "execution_count": 36,
   "metadata": {},
   "outputs": [
    {
     "name": "stdout",
     "output_type": "stream",
     "text": [
      "Train set shape: (357510, 11) (357510, 1)\n",
      "Validation set shape: (89378, 11) (89378, 1)\n",
      "Test set shape: (111722, 11) (111722, 1)\n",
      "\n",
      "Sample rows from Train set:\n",
      "        year  odometer   car_age  mileage_per_year  market_price_deviation  \\\n",
      "417744  2013 -1.080730 -0.732200         -1.144580               -0.718693   \n",
      "294478  2012 -0.373266 -0.442400          0.118112                1.006753   \n",
      "481987  2013 -0.237305 -0.732200          1.754535               -0.455083   \n",
      "78199   2002 -0.268589  2.455598          0.157706               -0.526976   \n",
      "20667   2006  2.516962  1.006599          1.140414               -0.071650   \n",
      "\n",
      "        brand_label  trim_label  body_label  color_label  interior_label  \\\n",
      "417744            1           0           2            4               1   \n",
      "294478            1           6           2            1               1   \n",
      "481987            7           9           1            3               4   \n",
      "78199             3           2           2            0               2   \n",
      "20667             7           3           1            0               0   \n",
      "\n",
      "        transmission_label  \n",
      "417744                   0  \n",
      "294478                   0  \n",
      "481987                   0  \n",
      "78199                    0  \n",
      "20667                    0  \n",
      "        sellingprice\n",
      "417744      1.576951\n",
      "294478      1.537766\n",
      "481987     -0.499834\n",
      "78199      -1.453327\n",
      "20667      -1.440265\n",
      "\n",
      "Sample rows from Validation set:\n",
      "        year  odometer   car_age  mileage_per_year  market_price_deviation  \\\n",
      "327760  2009  1.315823  0.426999          0.884339               -0.359225   \n",
      "503370  2007  0.759257  1.006599         -0.370030               -0.958338   \n",
      "116018  2008  0.734312  0.716799         -0.130240               -0.119579   \n",
      "73529   2014 -1.263849 -1.021999         -1.327980               -0.431118   \n",
      "198543  2013 -0.141828 -0.732200          2.082717                0.335747   \n",
      "\n",
      "        brand_label  trim_label  body_label  color_label  interior_label  \\\n",
      "327760            1          10           1            4               3   \n",
      "503370            4           0           1            2               2   \n",
      "116018            3           0           2            3               1   \n",
      "73529             0           0           2            0               1   \n",
      "198543            3          10           2            1               2   \n",
      "\n",
      "        transmission_label  \n",
      "327760                   0  \n",
      "503370                   0  \n",
      "116018                   0  \n",
      "73529                    0  \n",
      "198543                   0  \n",
      "        sellingprice\n",
      "327760     -1.218219\n",
      "503370     -0.865557\n",
      "116018     -0.721880\n",
      "73529       1.420212\n",
      "198543      0.048751\n",
      "\n",
      "Sample rows from Test set:\n",
      "        year  odometer   car_age  mileage_per_year  market_price_deviation  \\\n",
      "243545  2010  0.425736  0.137200          0.281414               -1.221948   \n",
      "94742   2002  2.657616  2.455598         -0.077692                0.072137   \n",
      "429004  2012 -0.426105 -0.442400         -0.002971               -0.191473   \n",
      "223237  2012 -1.067644 -0.442400         -1.473083                0.048172   \n",
      "46574   2006 -0.086084  1.006599         -1.096455                0.719179   \n",
      "\n",
      "        brand_label  trim_label  body_label  color_label  interior_label  \\\n",
      "243545            5           2           4            1               3   \n",
      "94742             0           4           2            0               2   \n",
      "429004            3           0           1            1               1   \n",
      "223237            3           0           1            0               2   \n",
      "46574             0           0           1            2               4   \n",
      "\n",
      "        transmission_label  \n",
      "243545                   0  \n",
      "94742                    0  \n",
      "429004                   0  \n",
      "223237                   0  \n",
      "46574                    1  \n",
      "        sellingprice\n",
      "243545     -0.878619\n",
      "94742      -1.479450\n",
      "429004     -0.238603\n",
      "223237      0.061812\n",
      "46574      -0.512896\n"
     ]
    }
   ],
   "source": [
    "#Checking the sizes or shapes of each set\n",
    "print(\"Train set shape:\", X_train.shape, y_train.shape)\n",
    "print(\"Validation set shape:\", X_val.shape, y_val.shape)\n",
    "print(\"Test set shape:\", X_test.shape, y_test.shape)\n",
    "\n",
    "#Printing a few rows from each set to inspect the data\n",
    "print(\"\\nSample rows from Train set:\")\n",
    "print(X_train.head())\n",
    "print(y_train.head())\n",
    "\n",
    "print(\"\\nSample rows from Validation set:\")\n",
    "print(X_val.head())\n",
    "print(y_val.head())\n",
    "\n",
    "print(\"\\nSample rows from Test set:\")\n",
    "print(X_test.head())\n",
    "print(y_test.head())"
   ]
  },
  {
   "cell_type": "code",
   "execution_count": 37,
   "metadata": {},
   "outputs": [
    {
     "data": {
      "image/png": "[encoded data removed]",
      "text/plain": [
       "<Figure size 800x600 with 1 Axes>"
      ]
     },
     "metadata": {},
     "output_type": "display_data"
    }
   ],
   "source": [
    "#Checking the sizes of each dataset\n",
    "#Data for plotting\n",
    "sets = ['Train Set', 'Validation Set', 'Test Set']  #Labels for different dataset types\n",
    "sizes = [len(X_train), len(X_val), len(X_test)]  #Number of samples in each dataset\n",
    "\n",
    "#Plotting the sizes of datasets\n",
    "plt.figure(figsize=(8, 6)) \n",
    "plt.bar(sets, sizes, color=['blue', 'orange', 'green'])\n",
    "plt.xlabel('Data Sets') \n",
    "plt.ylabel('Number of Samples')\n",
    "plt.title('Sizes of Train, Validation, and Test Sets') \n",
    "plt.show()"
   ]
  },
  {
   "cell_type": "code",
   "execution_count": 38,
   "metadata": {},
   "outputs": [
    {
     "data": {
      "image/png": "[encoded data removed]",
      "text/plain": [
       "<Figure size 1200x400 with 3 Axes>"
      ]
     },
     "metadata": {},
     "output_type": "display_data"
    }
   ],
   "source": [
    "#Plotting histograms for the target variable in each dataset\n",
    "plt.figure(figsize=(12, 4))\n",
    "\n",
    "#Subplot for Train Set\n",
    "plt.subplot(1, 3, 1)\n",
    "plt.hist(y_train, bins=30, color='blue', alpha=0.7) \n",
    "plt.title('Train Set - Target Variable Distribution')\n",
    "plt.xlabel('Selling Price')  \n",
    "plt.ylabel('Frequency')\n",
    "\n",
    "#Subplot for Validation Set\n",
    "plt.subplot(1, 3, 2)\n",
    "plt.hist(y_val, bins=30, color='orange', alpha=0.7) \n",
    "plt.title('Validation Set - Target Variable Distribution')  \n",
    "plt.xlabel('Selling Price')  \n",
    "plt.ylabel('Frequency')\n",
    "\n",
    "#Subplot for Test Set\n",
    "plt.subplot(1, 3, 3) \n",
    "plt.hist(y_test, bins=30, color='green', alpha=0.7)\n",
    "plt.title('Test Set - Target Variable Distribution')\n",
    "plt.xlabel('Selling Price') \n",
    "plt.ylabel('Frequency')\n",
    "\n",
    "plt.tight_layout() \n",
    "plt.show()"
   ]
  },
  {
   "cell_type": "code",
   "execution_count": 39,
   "metadata": {},
   "outputs": [
    {
     "data": {
      "text/html": [
       "<div>\n",
       "<style scoped>\n",
       "    .dataframe tbody tr th:only-of-type {\n",
       "        vertical-align: middle;\n",
       "    }\n",
       "\n",
       "    .dataframe tbody tr th {\n",
       "        vertical-align: top;\n",
       "    }\n",
       "\n",
       "    .dataframe thead th {\n",
       "        text-align: right;\n",
       "    }\n",
       "</style>\n",
       "<table border=\"1\" class=\"dataframe\">\n",
       "  <thead>\n",
       "    <tr style=\"text-align: right;\">\n",
       "      <th></th>\n",
       "      <th>year</th>\n",
       "      <th>odometer</th>\n",
       "      <th>car_age</th>\n",
       "      <th>mileage_per_year</th>\n",
       "      <th>market_price_deviation</th>\n",
       "      <th>brand_label</th>\n",
       "      <th>trim_label</th>\n",
       "      <th>body_label</th>\n",
       "      <th>color_label</th>\n",
       "      <th>interior_label</th>\n",
       "      <th>transmission_label</th>\n",
       "    </tr>\n",
       "  </thead>\n",
       "  <tbody>\n",
       "    <tr>\n",
       "      <th>417744</th>\n",
       "      <td>2013</td>\n",
       "      <td>-1.080730</td>\n",
       "      <td>-0.732200</td>\n",
       "      <td>-1.144580</td>\n",
       "      <td>-0.718693</td>\n",
       "      <td>1</td>\n",
       "      <td>0</td>\n",
       "      <td>2</td>\n",
       "      <td>4</td>\n",
       "      <td>1</td>\n",
       "      <td>0</td>\n",
       "    </tr>\n",
       "    <tr>\n",
       "      <th>294478</th>\n",
       "      <td>2012</td>\n",
       "      <td>-0.373266</td>\n",
       "      <td>-0.442400</td>\n",
       "      <td>0.118112</td>\n",
       "      <td>1.006753</td>\n",
       "      <td>1</td>\n",
       "      <td>6</td>\n",
       "      <td>2</td>\n",
       "      <td>1</td>\n",
       "      <td>1</td>\n",
       "      <td>0</td>\n",
       "    </tr>\n",
       "    <tr>\n",
       "      <th>481987</th>\n",
       "      <td>2013</td>\n",
       "      <td>-0.237305</td>\n",
       "      <td>-0.732200</td>\n",
       "      <td>1.754535</td>\n",
       "      <td>-0.455083</td>\n",
       "      <td>7</td>\n",
       "      <td>9</td>\n",
       "      <td>1</td>\n",
       "      <td>3</td>\n",
       "      <td>4</td>\n",
       "      <td>0</td>\n",
       "    </tr>\n",
       "    <tr>\n",
       "      <th>78199</th>\n",
       "      <td>2002</td>\n",
       "      <td>-0.268589</td>\n",
       "      <td>2.455598</td>\n",
       "      <td>0.157706</td>\n",
       "      <td>-0.526976</td>\n",
       "      <td>3</td>\n",
       "      <td>2</td>\n",
       "      <td>2</td>\n",
       "      <td>0</td>\n",
       "      <td>2</td>\n",
       "      <td>0</td>\n",
       "    </tr>\n",
       "    <tr>\n",
       "      <th>20667</th>\n",
       "      <td>2006</td>\n",
       "      <td>2.516962</td>\n",
       "      <td>1.006599</td>\n",
       "      <td>1.140414</td>\n",
       "      <td>-0.071650</td>\n",
       "      <td>7</td>\n",
       "      <td>3</td>\n",
       "      <td>1</td>\n",
       "      <td>0</td>\n",
       "      <td>0</td>\n",
       "      <td>0</td>\n",
       "    </tr>\n",
       "  </tbody>\n",
       "</table>\n",
       "</div>"
      ],
      "text/plain": [
       "        year  odometer   car_age  mileage_per_year  market_price_deviation  \\\n",
       "417744  2013 -1.080730 -0.732200         -1.144580               -0.718693   \n",
       "294478  2012 -0.373266 -0.442400          0.118112                1.006753   \n",
       "481987  2013 -0.237305 -0.732200          1.754535               -0.455083   \n",
       "78199   2002 -0.268589  2.455598          0.157706               -0.526976   \n",
       "20667   2006  2.516962  1.006599          1.140414               -0.071650   \n",
       "\n",
       "        brand_label  trim_label  body_label  color_label  interior_label  \\\n",
       "417744            1           0           2            4               1   \n",
       "294478            1           6           2            1               1   \n",
       "481987            7           9           1            3               4   \n",
       "78199             3           2           2            0               2   \n",
       "20667             7           3           1            0               0   \n",
       "\n",
       "        transmission_label  \n",
       "417744                   0  \n",
       "294478                   0  \n",
       "481987                   0  \n",
       "78199                    0  \n",
       "20667                    0  "
      ]
     },
     "execution_count": 39,
     "metadata": {},
     "output_type": "execute_result"
    }
   ],
   "source": [
    "X_train.head()"
   ]
  },
  {
   "cell_type": "code",
   "execution_count": 40,
   "metadata": {},
   "outputs": [
    {
     "data": {
      "text/html": [
       "<div>\n",
       "<style scoped>\n",
       "    .dataframe tbody tr th:only-of-type {\n",
       "        vertical-align: middle;\n",
       "    }\n",
       "\n",
       "    .dataframe tbody tr th {\n",
       "        vertical-align: top;\n",
       "    }\n",
       "\n",
       "    .dataframe thead th {\n",
       "        text-align: right;\n",
       "    }\n",
       "</style>\n",
       "<table border=\"1\" class=\"dataframe\">\n",
       "  <thead>\n",
       "    <tr style=\"text-align: right;\">\n",
       "      <th></th>\n",
       "      <th>year</th>\n",
       "      <th>odometer</th>\n",
       "      <th>car_age</th>\n",
       "      <th>mileage_per_year</th>\n",
       "      <th>market_price_deviation</th>\n",
       "      <th>brand_label</th>\n",
       "      <th>trim_label</th>\n",
       "      <th>body_label</th>\n",
       "      <th>color_label</th>\n",
       "      <th>interior_label</th>\n",
       "      <th>transmission_label</th>\n",
       "    </tr>\n",
       "  </thead>\n",
       "  <tbody>\n",
       "    <tr>\n",
       "      <th>243545</th>\n",
       "      <td>2010</td>\n",
       "      <td>0.425736</td>\n",
       "      <td>0.137200</td>\n",
       "      <td>0.281414</td>\n",
       "      <td>-1.221948</td>\n",
       "      <td>5</td>\n",
       "      <td>2</td>\n",
       "      <td>4</td>\n",
       "      <td>1</td>\n",
       "      <td>3</td>\n",
       "      <td>0</td>\n",
       "    </tr>\n",
       "    <tr>\n",
       "      <th>94742</th>\n",
       "      <td>2002</td>\n",
       "      <td>2.657616</td>\n",
       "      <td>2.455598</td>\n",
       "      <td>-0.077692</td>\n",
       "      <td>0.072137</td>\n",
       "      <td>0</td>\n",
       "      <td>4</td>\n",
       "      <td>2</td>\n",
       "      <td>0</td>\n",
       "      <td>2</td>\n",
       "      <td>0</td>\n",
       "    </tr>\n",
       "    <tr>\n",
       "      <th>429004</th>\n",
       "      <td>2012</td>\n",
       "      <td>-0.426105</td>\n",
       "      <td>-0.442400</td>\n",
       "      <td>-0.002971</td>\n",
       "      <td>-0.191473</td>\n",
       "      <td>3</td>\n",
       "      <td>0</td>\n",
       "      <td>1</td>\n",
       "      <td>1</td>\n",
       "      <td>1</td>\n",
       "      <td>0</td>\n",
       "    </tr>\n",
       "    <tr>\n",
       "      <th>223237</th>\n",
       "      <td>2012</td>\n",
       "      <td>-1.067644</td>\n",
       "      <td>-0.442400</td>\n",
       "      <td>-1.473083</td>\n",
       "      <td>0.048172</td>\n",
       "      <td>3</td>\n",
       "      <td>0</td>\n",
       "      <td>1</td>\n",
       "      <td>0</td>\n",
       "      <td>2</td>\n",
       "      <td>0</td>\n",
       "    </tr>\n",
       "    <tr>\n",
       "      <th>46574</th>\n",
       "      <td>2006</td>\n",
       "      <td>-0.086084</td>\n",
       "      <td>1.006599</td>\n",
       "      <td>-1.096455</td>\n",
       "      <td>0.719179</td>\n",
       "      <td>0</td>\n",
       "      <td>0</td>\n",
       "      <td>1</td>\n",
       "      <td>2</td>\n",
       "      <td>4</td>\n",
       "      <td>1</td>\n",
       "    </tr>\n",
       "  </tbody>\n",
       "</table>\n",
       "</div>"
      ],
      "text/plain": [
       "        year  odometer   car_age  mileage_per_year  market_price_deviation  \\\n",
       "243545  2010  0.425736  0.137200          0.281414               -1.221948   \n",
       "94742   2002  2.657616  2.455598         -0.077692                0.072137   \n",
       "429004  2012 -0.426105 -0.442400         -0.002971               -0.191473   \n",
       "223237  2012 -1.067644 -0.442400         -1.473083                0.048172   \n",
       "46574   2006 -0.086084  1.006599         -1.096455                0.719179   \n",
       "\n",
       "        brand_label  trim_label  body_label  color_label  interior_label  \\\n",
       "243545            5           2           4            1               3   \n",
       "94742             0           4           2            0               2   \n",
       "429004            3           0           1            1               1   \n",
       "223237            3           0           1            0               2   \n",
       "46574             0           0           1            2               4   \n",
       "\n",
       "        transmission_label  \n",
       "243545                   0  \n",
       "94742                    0  \n",
       "429004                   0  \n",
       "223237                   0  \n",
       "46574                    1  "
      ]
     },
     "execution_count": 40,
     "metadata": {},
     "output_type": "execute_result"
    }
   ],
   "source": [
    "X_test.head()"
   ]
  },
  {
   "cell_type": "code",
   "execution_count": 41,
   "metadata": {},
   "outputs": [
    {
     "data": {
      "text/html": [
       "<div>\n",
       "<style scoped>\n",
       "    .dataframe tbody tr th:only-of-type {\n",
       "        vertical-align: middle;\n",
       "    }\n",
       "\n",
       "    .dataframe tbody tr th {\n",
       "        vertical-align: top;\n",
       "    }\n",
       "\n",
       "    .dataframe thead th {\n",
       "        text-align: right;\n",
       "    }\n",
       "</style>\n",
       "<table border=\"1\" class=\"dataframe\">\n",
       "  <thead>\n",
       "    <tr style=\"text-align: right;\">\n",
       "      <th></th>\n",
       "      <th>year</th>\n",
       "      <th>odometer</th>\n",
       "      <th>car_age</th>\n",
       "      <th>mileage_per_year</th>\n",
       "      <th>market_price_deviation</th>\n",
       "      <th>brand_label</th>\n",
       "      <th>trim_label</th>\n",
       "      <th>body_label</th>\n",
       "      <th>color_label</th>\n",
       "      <th>interior_label</th>\n",
       "      <th>transmission_label</th>\n",
       "    </tr>\n",
       "  </thead>\n",
       "  <tbody>\n",
       "    <tr>\n",
       "      <th>327760</th>\n",
       "      <td>2009</td>\n",
       "      <td>1.315823</td>\n",
       "      <td>0.426999</td>\n",
       "      <td>0.884339</td>\n",
       "      <td>-0.359225</td>\n",
       "      <td>1</td>\n",
       "      <td>10</td>\n",
       "      <td>1</td>\n",
       "      <td>4</td>\n",
       "      <td>3</td>\n",
       "      <td>0</td>\n",
       "    </tr>\n",
       "    <tr>\n",
       "      <th>503370</th>\n",
       "      <td>2007</td>\n",
       "      <td>0.759257</td>\n",
       "      <td>1.006599</td>\n",
       "      <td>-0.370030</td>\n",
       "      <td>-0.958338</td>\n",
       "      <td>4</td>\n",
       "      <td>0</td>\n",
       "      <td>1</td>\n",
       "      <td>2</td>\n",
       "      <td>2</td>\n",
       "      <td>0</td>\n",
       "    </tr>\n",
       "    <tr>\n",
       "      <th>116018</th>\n",
       "      <td>2008</td>\n",
       "      <td>0.734312</td>\n",
       "      <td>0.716799</td>\n",
       "      <td>-0.130240</td>\n",
       "      <td>-0.119579</td>\n",
       "      <td>3</td>\n",
       "      <td>0</td>\n",
       "      <td>2</td>\n",
       "      <td>3</td>\n",
       "      <td>1</td>\n",
       "      <td>0</td>\n",
       "    </tr>\n",
       "    <tr>\n",
       "      <th>73529</th>\n",
       "      <td>2014</td>\n",
       "      <td>-1.263849</td>\n",
       "      <td>-1.021999</td>\n",
       "      <td>-1.327980</td>\n",
       "      <td>-0.431118</td>\n",
       "      <td>0</td>\n",
       "      <td>0</td>\n",
       "      <td>2</td>\n",
       "      <td>0</td>\n",
       "      <td>1</td>\n",
       "      <td>0</td>\n",
       "    </tr>\n",
       "    <tr>\n",
       "      <th>198543</th>\n",
       "      <td>2013</td>\n",
       "      <td>-0.141828</td>\n",
       "      <td>-0.732200</td>\n",
       "      <td>2.082717</td>\n",
       "      <td>0.335747</td>\n",
       "      <td>3</td>\n",
       "      <td>10</td>\n",
       "      <td>2</td>\n",
       "      <td>1</td>\n",
       "      <td>2</td>\n",
       "      <td>0</td>\n",
       "    </tr>\n",
       "  </tbody>\n",
       "</table>\n",
       "</div>"
      ],
      "text/plain": [
       "        year  odometer   car_age  mileage_per_year  market_price_deviation  \\\n",
       "327760  2009  1.315823  0.426999          0.884339               -0.359225   \n",
       "503370  2007  0.759257  1.006599         -0.370030               -0.958338   \n",
       "116018  2008  0.734312  0.716799         -0.130240               -0.119579   \n",
       "73529   2014 -1.263849 -1.021999         -1.327980               -0.431118   \n",
       "198543  2013 -0.141828 -0.732200          2.082717                0.335747   \n",
       "\n",
       "        brand_label  trim_label  body_label  color_label  interior_label  \\\n",
       "327760            1          10           1            4               3   \n",
       "503370            4           0           1            2               2   \n",
       "116018            3           0           2            3               1   \n",
       "73529             0           0           2            0               1   \n",
       "198543            3          10           2            1               2   \n",
       "\n",
       "        transmission_label  \n",
       "327760                   0  \n",
       "503370                   0  \n",
       "116018                   0  \n",
       "73529                    0  \n",
       "198543                   0  "
      ]
     },
     "execution_count": 41,
     "metadata": {},
     "output_type": "execute_result"
    }
   ],
   "source": [
    "X_val.head()"
   ]
  },
  {
   "cell_type": "markdown",
   "metadata": {},
   "source": [
    "<div style=\"position: relative; background: #3567A8; color: white; padding: 10px 15px; text-align: center; border-radius: 6px;\">\n",
    "    <span style=\"position: absolute; left: -25px; top: 10px; transform: rotate(-45deg); background: #3567A8; padding: 5px 10px; border-radius: 3px;\">Section 1</span>\n",
    "    <h1 style=\"font-size: 30px;\">Model Fitting </h1>\n",
    "</div>"
   ]
  },
  {
   "cell_type": "markdown",
   "metadata": {},
   "source": [
    "> <div style=\"text-align: center\"><font color='gold' style='font-size: 30px;'><b>Random Forest</b></font></div>"
   ]
  },
  {
   "cell_type": "code",
   "execution_count": 42,
   "metadata": {},
   "outputs": [
    {
     "name": "stderr",
     "output_type": "stream",
     "text": [
      "/Users/cansenturk/anaconda3/lib/python3.11/site-packages/sklearn/base.py:1151: DataConversionWarning: A column-vector y was passed when a 1d array was expected. Please change the shape of y to (n_samples,), for example using ravel().\n",
      "  return fit_method(estimator, *args, **kwargs)\n"
     ]
    },
    {
     "name": "stdout",
     "output_type": "stream",
     "text": [
      "Mean Squared Error (MSE) on Validation Set: 0.29\n"
     ]
    }
   ],
   "source": [
    "#Initialise a Random Forest Regressor with specified hyperparameters\n",
    "random_forest = RandomForestRegressor(n_estimators=100, max_depth=10, random_state=420)\n",
    "\n",
    "#Train the model using the training data\n",
    "random_forest.fit(X_train, y_train)\n",
    "\n",
    "#Validation Set Evaluation\n",
    "#Make predictions on the validation set\n",
    "predictions = random_forest.predict(X_val)\n",
    "\n",
    "#Calculate Mean Squared Error (MSE) on the validation set\n",
    "mse = mean_squared_error(y_val, predictions)\n",
    "\n",
    "#Print the Mean Squared Error (MSE) for the validation set\n",
    "print(f\"Mean Squared Error (MSE) on Validation Set: {mse:.2f}\")"
   ]
  },
  {
   "cell_type": "markdown",
   "metadata": {},
   "source": [
    "#### The MSE value of 0.29 indicates the average squared difference between the predicted and actual values in the validation set. Lower MSE values generally imply better performance, indicating that, on average, the model's predictions are close to the actual values in the validation set. "
   ]
  },
  {
   "cell_type": "code",
   "execution_count": 43,
   "metadata": {},
   "outputs": [
    {
     "name": "stdout",
     "output_type": "stream",
     "text": [
      "Cross-validation Scores: [0.28476332 0.28731066 0.28665268 0.28659197 0.28317432]\n",
      "Mean CV Score: 0.285698589111288\n"
     ]
    }
   ],
   "source": [
    "#Convert y_train to a 1-dimensional array using ravel\n",
    "y_train_1d = np.ravel(y_train)\n",
    "\n",
    "#Create a Random Forest Regressor model with specified parameters\n",
    "rf = RandomForestRegressor(n_estimators=100, max_depth=10, random_state=420)\n",
    "\n",
    "#Perform 5-fold cross-validation using negative mean squared error as the scoring metric\n",
    "cv_scores = cross_val_score(rf, X_train, y_train_1d, cv=5, scoring='neg_mean_squared_error')\n",
    "\n",
    "#Convert the negative scores to positive since neg_mean_squared_error is used\n",
    "cv_scores = -cv_scores\n",
    "\n",
    "#Display the cross-validation scores for each fold\n",
    "print(\"Cross-validation Scores:\", cv_scores)\n",
    "\n",
    "#Calculate the mean cross-validation score\n",
    "print(\"Mean CV Score:\", cv_scores.mean())"
   ]
  },
  {
   "cell_type": "markdown",
   "metadata": {},
   "source": [
    "#### These cross-validation scores represent the performance of the Random Forest Regressor model on different folds of the training data. The mean cross-validation score provides an overall assessment of the model's predictive performance on the training data.\n",
    "\n",
    "#### The accuracy could may be better, so by hyperparameter tuning with a random grid we want to find better hyper parameters"
   ]
  },
  {
   "cell_type": "code",
   "execution_count": 44,
   "metadata": {},
   "outputs": [
    {
     "name": "stderr",
     "output_type": "stream",
     "text": [
      "/Users/cansenturk/anaconda3/lib/python3.11/site-packages/joblib/externals/loky/process_executor.py:700: UserWarning: A worker stopped while some jobs were given to the executor. This can be caused by a too short worker timeout or by a memory leak.\n",
      "  warnings.warn(\n"
     ]
    },
    {
     "name": "stdout",
     "output_type": "stream",
     "text": [
      "Best Hyperparameters (Randomized Search): {'max_depth': 19, 'n_estimators': 280}\n",
      "Best CV Score (Randomized Search): 0.24178813621780554\n",
      "\n",
      "Parameters Tried in Randomized Search:\n",
      "                                   params  mean_test_score  rank_test_score\n",
      "6  {'max_depth': 19, 'n_estimators': 280}        -0.241788                1\n",
      "5  {'max_depth': 19, 'n_estimators': 201}        -0.241952                2\n",
      "4  {'max_depth': 15, 'n_estimators': 378}        -0.245722                3\n",
      "3  {'max_depth': 14, 'n_estimators': 204}        -0.249950                4\n",
      "8  {'max_depth': 13, 'n_estimators': 182}        -0.255713                5\n",
      "1  {'max_depth': 11, 'n_estimators': 113}        -0.272979                6\n",
      "9  {'max_depth': 10, 'n_estimators': 232}        -0.285578                7\n",
      "7   {'max_depth': 9, 'n_estimators': 341}        -0.301620                8\n",
      "2   {'max_depth': 8, 'n_estimators': 480}        -0.322285                9\n",
      "0   {'max_depth': 6, 'n_estimators': 122}        -0.376936               10\n"
     ]
    }
   ],
   "source": [
    "#Defining a large and refined parameter grid\n",
    "param_dist = {\n",
    "    'n_estimators': randint(50, 500),\n",
    "    'max_depth': randint(5, 20), \n",
    "}\n",
    "\n",
    "#Randomised Search with 5-fold cross-validation\n",
    "rf = RandomForestRegressor(random_state=420)\n",
    "random_search = RandomizedSearchCV(rf, param_distributions=param_dist, n_iter=10, cv=5,\n",
    "                                   scoring='neg_mean_squared_error', random_state=420, n_jobs=-1)\n",
    "random_search.fit(X_train, y_train_1d)\n",
    "\n",
    "#Get the best hyperparameters and best score\n",
    "best_params_random = random_search.best_params_\n",
    "best_score_random = -random_search.best_score_\n",
    "\n",
    "print(\"Best Hyperparameters (Randomized Search):\", best_params_random)\n",
    "print(\"Best CV Score (Randomized Search):\", best_score_random)\n",
    "\n",
    "#Accessing the results of Randomized Search\n",
    "results_df = pd.DataFrame(random_search.cv_results_)\n",
    "results_df = results_df.sort_values(by='rank_test_score')  #Sorting by rank for better visibility\n",
    "desired_columns = ['params', 'mean_test_score', 'rank_test_score']\n",
    "print(\"\\nParameters Tried in Randomized Search:\")\n",
    "print(results_df[desired_columns])"
   ]
  },
  {
   "cell_type": "markdown",
   "metadata": {},
   "source": [
    "#### The code searched various hyperparameter combinations for a Random Forest Regressor. After assessing multiple settings, it was found that using 280 estimators and a maximum tree depth of 19 resulted in the best performance, achieving a mean squared error of around 0.242 during cross-validation. This optimisation enhanced the model's predictive accuracy, providing improved parameter values for the given dataset."
   ]
  },
  {
   "cell_type": "code",
   "execution_count": 45,
   "metadata": {},
   "outputs": [
    {
     "name": "stderr",
     "output_type": "stream",
     "text": [
      "/Users/cansenturk/anaconda3/lib/python3.11/site-packages/sklearn/base.py:1151: DataConversionWarning: A column-vector y was passed when a 1d array was expected. Please change the shape of y to (n_samples,), for example using ravel().\n",
      "  return fit_method(estimator, *args, **kwargs)\n"
     ]
    },
    {
     "name": "stdout",
     "output_type": "stream",
     "text": [
      "Mean Squared Error (MSE) on Validation Set after Tuning: 0.2404159046826253\n"
     ]
    }
   ],
   "source": [
    "#After Hyperparameter Tuning Evaluation\n",
    "#Creating a RandomForestRegressor with tuned hyperparameters\n",
    "random_forest_after_tuning = RandomForestRegressor(n_estimators=280, max_depth=19, random_state=420)\n",
    "\n",
    "#Training the model with the tuned hyperparameters on the training data\n",
    "random_forest_after_tuning.fit(X_train, y_train)\n",
    "\n",
    "#Making predictions on the validation set using the tuned model\n",
    "predictions_after_tuning = random_forest_after_tuning.predict(X_val)\n",
    "\n",
    "#Calculating the Mean Squared Error (MSE) on the validation set after tuning\n",
    "mse_after_tuning = mean_squared_error(y_val, predictions_after_tuning)\n",
    "print(f\"Mean Squared Error (MSE) on Validation Set after Tuning: {mse_after_tuning}\")"
   ]
  },
  {
   "cell_type": "markdown",
   "metadata": {},
   "source": [
    "#### By applying the newly discovered hyperparameters, the objective is to validate and confirm the effectiveness of the previous code in improving the model's performance."
   ]
  },
  {
   "cell_type": "code",
   "execution_count": 46,
   "metadata": {},
   "outputs": [
    {
     "name": "stdout",
     "output_type": "stream",
     "text": [
      "Cross-validation Scores After Tuning: [0.24095371 0.24315934 0.24244535 0.24354387 0.23883841]\n",
      "Mean CV Score After Tuning: 0.24178813621780554\n"
     ]
    }
   ],
   "source": [
    "#Cross-validation after Tuning\n",
    "rf_after_tuning = RandomForestRegressor(n_estimators=280, max_depth=19, random_state=420)\n",
    "cv_scores_after_tuning = cross_val_score(rf_after_tuning, X_train, y_train_1d, cv=5, scoring='neg_mean_squared_error')\n",
    "cv_scores_after_tuning = -cv_scores_after_tuning\n",
    "print(\"Cross-validation Scores After Tuning:\", cv_scores_after_tuning)\n",
    "print(\"Mean CV Score After Tuning:\", cv_scores_after_tuning.mean())"
   ]
  },
  {
   "cell_type": "markdown",
   "metadata": {},
   "source": [
    "#### Performing another 5-fold cross-validation helps evaluate the model's performance across various data subsets. It appears that the model performs well and exhibits improved performance compared to the initial evaluation."
   ]
  },
  {
   "cell_type": "code",
   "execution_count": 47,
   "metadata": {},
   "outputs": [
    {
     "name": "stderr",
     "output_type": "stream",
     "text": [
      "/Users/cansenturk/anaconda3/lib/python3.11/site-packages/sklearn/base.py:1151: DataConversionWarning: A column-vector y was passed when a 1d array was expected. Please change the shape of y to (n_samples,), for example using ravel().\n",
      "  return fit_method(estimator, *args, **kwargs)\n"
     ]
    },
    {
     "data": {
      "text/html": [
       "<style>#sk-container-id-1 {color: black;}#sk-container-id-1 pre{padding: 0;}#sk-container-id-1 div.sk-toggleable {background-color: white;}#sk-container-id-1 label.sk-toggleable__label {cursor: pointer;display: block;width: 100%;margin-bottom: 0;padding: 0.3em;box-sizing: border-box;text-align: center;}#sk-container-id-1 label.sk-toggleable__label-arrow:before {content: \"▸\";float: left;margin-right: 0.25em;color: #696969;}#sk-container-id-1 label.sk-toggleable__label-arrow:hover:before {color: black;}#sk-container-id-1 div.sk-estimator:hover label.sk-toggleable__label-arrow:before {color: black;}#sk-container-id-1 div.sk-toggleable__content {max-height: 0;max-width: 0;overflow: hidden;text-align: left;background-color: #f0f8ff;}#sk-container-id-1 div.sk-toggleable__content pre {margin: 0.2em;color: black;border-radius: 0.25em;background-color: #f0f8ff;}#sk-container-id-1 input.sk-toggleable__control:checked~div.sk-toggleable__content {max-height: 200px;max-width: 100%;overflow: auto;}#sk-container-id-1 input.sk-toggleable__control:checked~label.sk-toggleable__label-arrow:before {content: \"▾\";}#sk-container-id-1 div.sk-estimator input.sk-toggleable__control:checked~label.sk-toggleable__label {background-color: #d4ebff;}#sk-container-id-1 div.sk-label input.sk-toggleable__control:checked~label.sk-toggleable__label {background-color: #d4ebff;}#sk-container-id-1 input.sk-hidden--visually {border: 0;clip: rect(1px 1px 1px 1px);clip: rect(1px, 1px, 1px, 1px);height: 1px;margin: -1px;overflow: hidden;padding: 0;position: absolute;width: 1px;}#sk-container-id-1 div.sk-estimator {font-family: monospace;background-color: #f0f8ff;border: 1px dotted black;border-radius: 0.25em;box-sizing: border-box;margin-bottom: 0.5em;}#sk-container-id-1 div.sk-estimator:hover {background-color: #d4ebff;}#sk-container-id-1 div.sk-parallel-item::after {content: \"\";width: 100%;border-bottom: 1px solid gray;flex-grow: 1;}#sk-container-id-1 div.sk-label:hover label.sk-toggleable__label {background-color: #d4ebff;}#sk-container-id-1 div.sk-serial::before {content: \"\";position: absolute;border-left: 1px solid gray;box-sizing: border-box;top: 0;bottom: 0;left: 50%;z-index: 0;}#sk-container-id-1 div.sk-serial {display: flex;flex-direction: column;align-items: center;background-color: white;padding-right: 0.2em;padding-left: 0.2em;position: relative;}#sk-container-id-1 div.sk-item {position: relative;z-index: 1;}#sk-container-id-1 div.sk-parallel {display: flex;align-items: stretch;justify-content: center;background-color: white;position: relative;}#sk-container-id-1 div.sk-item::before, #sk-container-id-1 div.sk-parallel-item::before {content: \"\";position: absolute;border-left: 1px solid gray;box-sizing: border-box;top: 0;bottom: 0;left: 50%;z-index: -1;}#sk-container-id-1 div.sk-parallel-item {display: flex;flex-direction: column;z-index: 1;position: relative;background-color: white;}#sk-container-id-1 div.sk-parallel-item:first-child::after {align-self: flex-end;width: 50%;}#sk-container-id-1 div.sk-parallel-item:last-child::after {align-self: flex-start;width: 50%;}#sk-container-id-1 div.sk-parallel-item:only-child::after {width: 0;}#sk-container-id-1 div.sk-dashed-wrapped {border: 1px dashed gray;margin: 0 0.4em 0.5em 0.4em;box-sizing: border-box;padding-bottom: 0.4em;background-color: white;}#sk-container-id-1 div.sk-label label {font-family: monospace;font-weight: bold;display: inline-block;line-height: 1.2em;}#sk-container-id-1 div.sk-label-container {text-align: center;}#sk-container-id-1 div.sk-container {/* jupyter's `normalize.less` sets `[hidden] { display: none; }` but bootstrap.min.css set `[hidden] { display: none !important; }` so we also need the `!important` here to be able to override the default hidden behavior on the sphinx rendered scikit-learn.org. See: https://github.com/scikit-learn/scikit-learn/issues/21755 */display: inline-block !important;position: relative;}#sk-container-id-1 div.sk-text-repr-fallback {display: none;}</style><div id=\"sk-container-id-1\" class=\"sk-top-container\"><div class=\"sk-text-repr-fallback\"><pre>RandomForestRegressor(max_depth=19, n_estimators=280, random_state=420)</pre><b>In a Jupyter environment, please rerun this cell to show the HTML representation or trust the notebook. <br />On GitHub, the HTML representation is unable to render, please try loading this page with nbviewer.org.</b></div><div class=\"sk-container\" hidden><div class=\"sk-item\"><div class=\"sk-estimator sk-toggleable\"><input class=\"sk-toggleable__control sk-hidden--visually\" id=\"sk-estimator-id-1\" type=\"checkbox\" checked><label for=\"sk-estimator-id-1\" class=\"sk-toggleable__label sk-toggleable__label-arrow\">RandomForestRegressor</label><div class=\"sk-toggleable__content\"><pre>RandomForestRegressor(max_depth=19, n_estimators=280, random_state=420)</pre></div></div></div></div></div>"
      ],
      "text/plain": [
       "RandomForestRegressor(max_depth=19, n_estimators=280, random_state=420)"
      ]
     },
     "execution_count": 47,
     "metadata": {},
     "output_type": "execute_result"
    }
   ],
   "source": [
    "#Creating a RandomForestRegressor with specified hyperparameters\n",
    "rf = RandomForestRegressor(n_estimators=280, max_depth=19, random_state=420)\n",
    "\n",
    "#Fitting the RandomForestRegressor model on the training data\n",
    "rf.fit(X_train, y_train)"
   ]
  },
  {
   "cell_type": "markdown",
   "metadata": {},
   "source": [
    "#### The model has now been fitted to the training data"
   ]
  },
  {
   "cell_type": "markdown",
   "metadata": {},
   "source": [
    "> <div style=\"text-align: center\"><font color='gold' style='font-size: 30px;'><b>ANN</b></font></div>"
   ]
  },
  {
   "cell_type": "markdown",
   "metadata": {},
   "source": []
  },
  {
   "cell_type": "markdown",
   "metadata": {},
   "source": [
    "<div style=\"position: relative; background: #3567A8; color: white; padding: 10px 15px; text-align: center; border-radius: 6px;\">\n",
    "    <span style=\"position: absolute; left: -25px; top: 10px; transform: rotate(-45deg); background: #3567A8; padding: 5px 10px; border-radius: 3px;\">Section 1</span>\n",
    "    <h1 style=\"font-size: 30px;\">Model Evaluation </h1>\n",
    "</div>"
   ]
  },
  {
   "cell_type": "code",
   "execution_count": 48,
   "metadata": {},
   "outputs": [
    {
     "name": "stdout",
     "output_type": "stream",
     "text": [
      "Train Accuracy:  0.8740449429174264\n",
      "Test Accuracy:  0.7632626483208427\n"
     ]
    }
   ],
   "source": [
    "#Printing the accuracy score of the model on the training set\n",
    "print('Train Accuracy: ', rf.score(X_train, y_train))\n",
    "\n",
    "#Printing the accuracy score of the model on the test set\n",
    "print('Test Accuracy: ', rf.score(X_test, y_test))"
   ]
  },
  {
   "cell_type": "markdown",
   "metadata": {},
   "source": [
    "#### The model achieves an accuracy of approximately 87.40% on the training data and around 76.33% on the test data, indicating good performance."
   ]
  },
  {
   "cell_type": "code",
   "execution_count": 49,
   "metadata": {},
   "outputs": [
    {
     "data": {
      "text/plain": [
       "Text(0.5, 1.0, 'Feature Importance Score')"
      ]
     },
     "execution_count": 49,
     "metadata": {},
     "output_type": "execute_result"
    },
    {
     "data": {
      "image/png": "[encoded data removed]",
      "text/plain": [
       "<Figure size 1000x800 with 1 Axes>"
      ]
     },
     "metadata": {},
     "output_type": "display_data"
    }
   ],
   "source": [
    "#Calculating feature importances using the trained RandomForestRegressor model\n",
    "feature_importance = pd.Series(rf.feature_importances_, index=X.columns)\n",
    "\n",
    "#Plotting the top 10 important features in a horizontal bar chart\n",
    "ax = feature_importance.nlargest(10).plot(kind='barh', figsize=(10, 8))\n",
    "\n",
    "#Invert y-axis for better visualization\n",
    "ax.invert_yaxis()\n",
    "\n",
    "#Set labels for x and y axes, and the title of the plot\n",
    "plt.xlabel('Score')\n",
    "plt.ylabel('Features')\n",
    "plt.title('Feature Importance Score')"
   ]
  },
  {
   "cell_type": "markdown",
   "metadata": {},
   "source": [
    "#### In car auctions, it appears that the year of the car, followed by the odometer reading and the vehicle's body type, are the key factors influencing consumers' decisions to bid or purchase. Among these factors, the year of the car stands out as the most significant factor influencing consumer choices."
   ]
  },
  {
   "cell_type": "markdown",
   "metadata": {},
   "source": [
    "<div style=\"position: relative; background: #3567A8; color: white; padding: 10px 15px; text-align: center; border-radius: 6px;\">\n",
    "    <span style=\"position: absolute; left: -25px; top: 10px; transform: rotate(-45deg); background: #3567A8; padding: 5px 10px; border-radius: 3px;\">Section 1</span>\n",
    "    <h1 style=\"font-size: 30px;\">Model Selection </h1>\n",
    "</div>"
   ]
  },
  {
   "cell_type": "code",
   "execution_count": null,
   "metadata": {},
   "outputs": [],
   "source": []
  },
  {
   "cell_type": "markdown",
   "metadata": {},
   "source": [
    "<div style=\"position: relative; background: #3567A8; color: white; padding: 10px 15px; text-align: center; border-radius: 6px;\">\n",
    "    <span style=\"position: absolute; left: -25px; top: 10px; transform: rotate(-45deg); background: #3567A8; padding: 5px 10px; border-radius: 3px;\">Section 1</span>\n",
    "    <h1 style=\"font-size: 30px;\">Model Explainability </h1>\n",
    "</div>"
   ]
  },
  {
   "cell_type": "code",
   "execution_count": null,
   "metadata": {},
   "outputs": [],
   "source": []
  },
  {
   "cell_type": "markdown",
   "metadata": {},
   "source": [
    "<div style=\"position: relative; background: #3567A8; color: white; padding: 10px 15px; text-align: center; border-radius: 6px;\">\n",
    "    <span style=\"position: absolute; left: -25px; top: 10px; transform: rotate(-45deg); background: #3567A8; padding: 5px 10px; border-radius: 3px;\">Section 1</span>\n",
    "    <h1 style=\"font-size: 30px;\">Bonus 1? </h1>\n",
    "</div>"
   ]
  },
  {
   "cell_type": "code",
   "execution_count": null,
   "metadata": {},
   "outputs": [],
   "source": []
  }
 ],
 "metadata": {
  "kernelspec": {
   "display_name": "base",
   "language": "python",
   "name": "python3"
  },
  "language_info": {
   "codemirror_mode": {
    "name": "ipython",
    "version": 3
   },
   "file_extension": ".py",
   "mimetype": "text/x-python",
   "name": "python",
   "nbconvert_exporter": "python",
   "pygments_lexer": "ipython3",
   "version": "3.11.4"
  }
 },
 "nbformat": 4,
 "nbformat_minor": 2
}
