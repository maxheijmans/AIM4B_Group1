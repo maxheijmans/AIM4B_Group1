{
 "cells": [
  {
   "cell_type": "code",
   "execution_count": 40,
   "metadata": {},
   "outputs": [],
   "source": [
    "import pandas as pd"
   ]
  },
  {
   "cell_type": "code",
   "execution_count": 52,
   "metadata": {},
   "outputs": [
    {
     "name": "stdout",
     "output_type": "stream",
     "text": [
      "Original length of dataframe: 558812\n",
      "There are 558812 rows and 16 columns in the dataset\n"
     ]
    }
   ],
   "source": [
    "# Impporting csv file\n",
    "car_df = pd.read_csv(r\"car_prices.csv\", delimiter=',', on_bad_lines='skip') # Skipping 17 out of 558812, because of faulty data\n",
    "df_original_len = len(car_df)\n",
    "print('Original length of dataframe:', df_original_len)\n",
    "print(\"There are {} rows and {} columns in the dataset\".format(car_df.shape[0], car_df.shape[1]))"
   ]
  },
  {
   "cell_type": "code",
   "execution_count": 54,
   "metadata": {},
   "outputs": [
    {
     "name": "stdout",
     "output_type": "stream",
     "text": [
      "Missing Values in Each Column:\n",
      "year                0\n",
      "make            10301\n",
      "model           10399\n",
      "trim            10651\n",
      "body            13195\n",
      "transmission    65353\n",
      "vin                 0\n",
      "state               0\n",
      "condition       11794\n",
      "odometer           94\n",
      "color             749\n",
      "interior          749\n",
      "seller              0\n",
      "mmr                 0\n",
      "sellingprice        0\n",
      "saledate            0\n",
      "dtype: int64\n"
     ]
    }
   ],
   "source": [
    "missing_values = car_df.isnull().sum()\n",
    "print(\"Missing Values in Each Column:\")\n",
    "print(missing_values)"
   ]
  },
  {
   "cell_type": "code",
   "execution_count": null,
   "metadata": {},
   "outputs": [],
   "source": []
  }
 ],
 "metadata": {
  "kernelspec": {
   "display_name": "base",
   "language": "python",
   "name": "python3"
  },
  "language_info": {
   "codemirror_mode": {
    "name": "ipython",
    "version": 3
   },
   "file_extension": ".py",
   "mimetype": "text/x-python",
   "name": "python",
   "nbconvert_exporter": "python",
   "pygments_lexer": "ipython3",
   "version": "3.11.4"
  }
 },
 "nbformat": 4,
 "nbformat_minor": 2
}
