{
 "cells": [
  {
   "cell_type": "code",
   "execution_count": 1,
   "metadata": {},
   "outputs": [],
   "source": [
    "import pandas as pd\n",
    "import seaborn as sns\n",
    "import matplotlib.pyplot as plt\n",
    "from sklearn.impute import KNNImputer\n",
    "from sklearn.preprocessing import LabelEncoder\n",
    "import pandas as pd\n",
    "import plotly.express as px\n",
    "import statsmodels.api as sm\n",
    "from statsmodels.formula.api import ols"
   ]
  },
  {
   "cell_type": "markdown",
   "metadata": {},
   "source": [
    "### 0. Data familiarisation and cleaning"
   ]
  },
  {
   "cell_type": "code",
   "execution_count": 2,
   "metadata": {},
   "outputs": [
    {
     "name": "stdout",
     "output_type": "stream",
     "text": [
      "Original length of dataframe: 558812\n",
      "There are 558812 rows and 16 columns in the dataset\n"
     ]
    }
   ],
   "source": [
    "# Impporting csv file\n",
    "car_df = pd.read_csv(r\"car_prices.csv\", delimiter=',', on_bad_lines='skip') # Skipping 17 out of 558812, because of faulty data\n",
    "df_original_len = len(car_df)\n",
    "print('Original length of dataframe:', df_original_len)\n",
    "print(\"There are {} rows and {} columns in the dataset\".format(car_df.shape[0], car_df.shape[1]))"
   ]
  },
  {
   "cell_type": "code",
   "execution_count": 3,
   "metadata": {},
   "outputs": [
    {
     "data": {
      "text/html": [
       "<div>\n",
       "<style scoped>\n",
       "    .dataframe tbody tr th:only-of-type {\n",
       "        vertical-align: middle;\n",
       "    }\n",
       "\n",
       "    .dataframe tbody tr th {\n",
       "        vertical-align: top;\n",
       "    }\n",
       "\n",
       "    .dataframe thead th {\n",
       "        text-align: right;\n",
       "    }\n",
       "</style>\n",
       "<table border=\"1\" class=\"dataframe\">\n",
       "  <thead>\n",
       "    <tr style=\"text-align: right;\">\n",
       "      <th></th>\n",
       "      <th>year</th>\n",
       "      <th>make</th>\n",
       "      <th>model</th>\n",
       "      <th>trim</th>\n",
       "      <th>body</th>\n",
       "      <th>transmission</th>\n",
       "      <th>vin</th>\n",
       "      <th>state</th>\n",
       "      <th>condition</th>\n",
       "      <th>odometer</th>\n",
       "      <th>color</th>\n",
       "      <th>interior</th>\n",
       "      <th>seller</th>\n",
       "      <th>mmr</th>\n",
       "      <th>sellingprice</th>\n",
       "      <th>saledate</th>\n",
       "    </tr>\n",
       "  </thead>\n",
       "  <tbody>\n",
       "    <tr>\n",
       "      <th>0</th>\n",
       "      <td>2015</td>\n",
       "      <td>Kia</td>\n",
       "      <td>Sorento</td>\n",
       "      <td>LX</td>\n",
       "      <td>SUV</td>\n",
       "      <td>automatic</td>\n",
       "      <td>5xyktca69fg566472</td>\n",
       "      <td>ca</td>\n",
       "      <td>5.0</td>\n",
       "      <td>16639.0</td>\n",
       "      <td>white</td>\n",
       "      <td>black</td>\n",
       "      <td>kia motors america, inc</td>\n",
       "      <td>20500</td>\n",
       "      <td>21500</td>\n",
       "      <td>Tue Dec 16 2014 12:30:00 GMT-0800 (PST)</td>\n",
       "    </tr>\n",
       "    <tr>\n",
       "      <th>1</th>\n",
       "      <td>2015</td>\n",
       "      <td>Kia</td>\n",
       "      <td>Sorento</td>\n",
       "      <td>LX</td>\n",
       "      <td>SUV</td>\n",
       "      <td>automatic</td>\n",
       "      <td>5xyktca69fg561319</td>\n",
       "      <td>ca</td>\n",
       "      <td>5.0</td>\n",
       "      <td>9393.0</td>\n",
       "      <td>white</td>\n",
       "      <td>beige</td>\n",
       "      <td>kia motors america, inc</td>\n",
       "      <td>20800</td>\n",
       "      <td>21500</td>\n",
       "      <td>Tue Dec 16 2014 12:30:00 GMT-0800 (PST)</td>\n",
       "    </tr>\n",
       "    <tr>\n",
       "      <th>2</th>\n",
       "      <td>2014</td>\n",
       "      <td>BMW</td>\n",
       "      <td>3 Series</td>\n",
       "      <td>328i SULEV</td>\n",
       "      <td>Sedan</td>\n",
       "      <td>automatic</td>\n",
       "      <td>wba3c1c51ek116351</td>\n",
       "      <td>ca</td>\n",
       "      <td>4.5</td>\n",
       "      <td>1331.0</td>\n",
       "      <td>gray</td>\n",
       "      <td>black</td>\n",
       "      <td>financial services remarketing (lease)</td>\n",
       "      <td>31900</td>\n",
       "      <td>30000</td>\n",
       "      <td>Thu Jan 15 2015 04:30:00 GMT-0800 (PST)</td>\n",
       "    </tr>\n",
       "    <tr>\n",
       "      <th>3</th>\n",
       "      <td>2015</td>\n",
       "      <td>Volvo</td>\n",
       "      <td>S60</td>\n",
       "      <td>T5</td>\n",
       "      <td>Sedan</td>\n",
       "      <td>automatic</td>\n",
       "      <td>yv1612tb4f1310987</td>\n",
       "      <td>ca</td>\n",
       "      <td>4.1</td>\n",
       "      <td>14282.0</td>\n",
       "      <td>white</td>\n",
       "      <td>black</td>\n",
       "      <td>volvo na rep/world omni</td>\n",
       "      <td>27500</td>\n",
       "      <td>27750</td>\n",
       "      <td>Thu Jan 29 2015 04:30:00 GMT-0800 (PST)</td>\n",
       "    </tr>\n",
       "    <tr>\n",
       "      <th>4</th>\n",
       "      <td>2014</td>\n",
       "      <td>BMW</td>\n",
       "      <td>6 Series Gran Coupe</td>\n",
       "      <td>650i</td>\n",
       "      <td>Sedan</td>\n",
       "      <td>automatic</td>\n",
       "      <td>wba6b2c57ed129731</td>\n",
       "      <td>ca</td>\n",
       "      <td>4.3</td>\n",
       "      <td>2641.0</td>\n",
       "      <td>gray</td>\n",
       "      <td>black</td>\n",
       "      <td>financial services remarketing (lease)</td>\n",
       "      <td>66000</td>\n",
       "      <td>67000</td>\n",
       "      <td>Thu Dec 18 2014 12:30:00 GMT-0800 (PST)</td>\n",
       "    </tr>\n",
       "  </tbody>\n",
       "</table>\n",
       "</div>"
      ],
      "text/plain": [
       "   year   make                model        trim   body transmission  \\\n",
       "0  2015    Kia              Sorento          LX    SUV    automatic   \n",
       "1  2015    Kia              Sorento          LX    SUV    automatic   \n",
       "2  2014    BMW             3 Series  328i SULEV  Sedan    automatic   \n",
       "3  2015  Volvo                  S60          T5  Sedan    automatic   \n",
       "4  2014    BMW  6 Series Gran Coupe        650i  Sedan    automatic   \n",
       "\n",
       "                 vin state  condition  odometer  color interior  \\\n",
       "0  5xyktca69fg566472    ca        5.0   16639.0  white    black   \n",
       "1  5xyktca69fg561319    ca        5.0    9393.0  white    beige   \n",
       "2  wba3c1c51ek116351    ca        4.5    1331.0   gray    black   \n",
       "3  yv1612tb4f1310987    ca        4.1   14282.0  white    black   \n",
       "4  wba6b2c57ed129731    ca        4.3    2641.0   gray    black   \n",
       "\n",
       "                                   seller    mmr  sellingprice  \\\n",
       "0                 kia motors america, inc  20500         21500   \n",
       "1                 kia motors america, inc  20800         21500   \n",
       "2  financial services remarketing (lease)  31900         30000   \n",
       "3                 volvo na rep/world omni  27500         27750   \n",
       "4  financial services remarketing (lease)  66000         67000   \n",
       "\n",
       "                                  saledate  \n",
       "0  Tue Dec 16 2014 12:30:00 GMT-0800 (PST)  \n",
       "1  Tue Dec 16 2014 12:30:00 GMT-0800 (PST)  \n",
       "2  Thu Jan 15 2015 04:30:00 GMT-0800 (PST)  \n",
       "3  Thu Jan 29 2015 04:30:00 GMT-0800 (PST)  \n",
       "4  Thu Dec 18 2014 12:30:00 GMT-0800 (PST)  "
      ]
     },
     "execution_count": 3,
     "metadata": {},
     "output_type": "execute_result"
    }
   ],
   "source": [
    "car_df.head()"
   ]
  },
  {
   "cell_type": "code",
   "execution_count": 4,
   "metadata": {},
   "outputs": [
    {
     "data": {
      "text/html": [
       "<div>\n",
       "<style scoped>\n",
       "    .dataframe tbody tr th:only-of-type {\n",
       "        vertical-align: middle;\n",
       "    }\n",
       "\n",
       "    .dataframe tbody tr th {\n",
       "        vertical-align: top;\n",
       "    }\n",
       "\n",
       "    .dataframe thead th {\n",
       "        text-align: right;\n",
       "    }\n",
       "</style>\n",
       "<table border=\"1\" class=\"dataframe\">\n",
       "  <thead>\n",
       "    <tr style=\"text-align: right;\">\n",
       "      <th></th>\n",
       "      <th>year</th>\n",
       "      <th>make</th>\n",
       "      <th>model</th>\n",
       "      <th>trim</th>\n",
       "      <th>body</th>\n",
       "      <th>transmission</th>\n",
       "      <th>vin</th>\n",
       "      <th>state</th>\n",
       "      <th>condition</th>\n",
       "      <th>odometer</th>\n",
       "      <th>color</th>\n",
       "      <th>interior</th>\n",
       "      <th>seller</th>\n",
       "      <th>mmr</th>\n",
       "      <th>sellingprice</th>\n",
       "      <th>saledate</th>\n",
       "    </tr>\n",
       "  </thead>\n",
       "  <tbody>\n",
       "    <tr>\n",
       "      <th>558807</th>\n",
       "      <td>2015</td>\n",
       "      <td>Kia</td>\n",
       "      <td>K900</td>\n",
       "      <td>Luxury</td>\n",
       "      <td>Sedan</td>\n",
       "      <td>NaN</td>\n",
       "      <td>knalw4d4xf6019304</td>\n",
       "      <td>in</td>\n",
       "      <td>4.5</td>\n",
       "      <td>18255.0</td>\n",
       "      <td>silver</td>\n",
       "      <td>black</td>\n",
       "      <td>avis corporation</td>\n",
       "      <td>35300</td>\n",
       "      <td>33000</td>\n",
       "      <td>Thu Jul 09 2015 07:00:00 GMT-0700 (PDT)</td>\n",
       "    </tr>\n",
       "    <tr>\n",
       "      <th>558808</th>\n",
       "      <td>2012</td>\n",
       "      <td>Ram</td>\n",
       "      <td>2500</td>\n",
       "      <td>Power Wagon</td>\n",
       "      <td>Crew Cab</td>\n",
       "      <td>automatic</td>\n",
       "      <td>3c6td5et6cg112407</td>\n",
       "      <td>wa</td>\n",
       "      <td>5.0</td>\n",
       "      <td>54393.0</td>\n",
       "      <td>white</td>\n",
       "      <td>black</td>\n",
       "      <td>i -5 uhlmann rv</td>\n",
       "      <td>30200</td>\n",
       "      <td>30800</td>\n",
       "      <td>Wed Jul 08 2015 09:30:00 GMT-0700 (PDT)</td>\n",
       "    </tr>\n",
       "    <tr>\n",
       "      <th>558809</th>\n",
       "      <td>2012</td>\n",
       "      <td>BMW</td>\n",
       "      <td>X5</td>\n",
       "      <td>xDrive35d</td>\n",
       "      <td>SUV</td>\n",
       "      <td>automatic</td>\n",
       "      <td>5uxzw0c58cl668465</td>\n",
       "      <td>ca</td>\n",
       "      <td>4.8</td>\n",
       "      <td>50561.0</td>\n",
       "      <td>black</td>\n",
       "      <td>black</td>\n",
       "      <td>financial services remarketing (lease)</td>\n",
       "      <td>29800</td>\n",
       "      <td>34000</td>\n",
       "      <td>Wed Jul 08 2015 09:30:00 GMT-0700 (PDT)</td>\n",
       "    </tr>\n",
       "    <tr>\n",
       "      <th>558810</th>\n",
       "      <td>2015</td>\n",
       "      <td>Nissan</td>\n",
       "      <td>Altima</td>\n",
       "      <td>2.5 S</td>\n",
       "      <td>sedan</td>\n",
       "      <td>automatic</td>\n",
       "      <td>1n4al3ap0fc216050</td>\n",
       "      <td>ga</td>\n",
       "      <td>3.8</td>\n",
       "      <td>16658.0</td>\n",
       "      <td>white</td>\n",
       "      <td>black</td>\n",
       "      <td>enterprise vehicle exchange / tra / rental / t...</td>\n",
       "      <td>15100</td>\n",
       "      <td>11100</td>\n",
       "      <td>Thu Jul 09 2015 06:45:00 GMT-0700 (PDT)</td>\n",
       "    </tr>\n",
       "    <tr>\n",
       "      <th>558811</th>\n",
       "      <td>2014</td>\n",
       "      <td>Ford</td>\n",
       "      <td>F-150</td>\n",
       "      <td>XLT</td>\n",
       "      <td>SuperCrew</td>\n",
       "      <td>automatic</td>\n",
       "      <td>1ftfw1et2eke87277</td>\n",
       "      <td>ca</td>\n",
       "      <td>3.4</td>\n",
       "      <td>15008.0</td>\n",
       "      <td>gray</td>\n",
       "      <td>gray</td>\n",
       "      <td>ford motor credit company,llc pd</td>\n",
       "      <td>29600</td>\n",
       "      <td>26700</td>\n",
       "      <td>Thu May 28 2015 05:30:00 GMT-0700 (PDT)</td>\n",
       "    </tr>\n",
       "  </tbody>\n",
       "</table>\n",
       "</div>"
      ],
      "text/plain": [
       "        year    make   model         trim       body transmission  \\\n",
       "558807  2015     Kia    K900       Luxury      Sedan          NaN   \n",
       "558808  2012     Ram    2500  Power Wagon   Crew Cab    automatic   \n",
       "558809  2012     BMW      X5    xDrive35d        SUV    automatic   \n",
       "558810  2015  Nissan  Altima        2.5 S      sedan    automatic   \n",
       "558811  2014    Ford   F-150          XLT  SuperCrew    automatic   \n",
       "\n",
       "                      vin state  condition  odometer   color interior  \\\n",
       "558807  knalw4d4xf6019304    in        4.5   18255.0  silver    black   \n",
       "558808  3c6td5et6cg112407    wa        5.0   54393.0   white    black   \n",
       "558809  5uxzw0c58cl668465    ca        4.8   50561.0   black    black   \n",
       "558810  1n4al3ap0fc216050    ga        3.8   16658.0   white    black   \n",
       "558811  1ftfw1et2eke87277    ca        3.4   15008.0    gray     gray   \n",
       "\n",
       "                                                   seller    mmr  \\\n",
       "558807                                   avis corporation  35300   \n",
       "558808                                    i -5 uhlmann rv  30200   \n",
       "558809             financial services remarketing (lease)  29800   \n",
       "558810  enterprise vehicle exchange / tra / rental / t...  15100   \n",
       "558811                   ford motor credit company,llc pd  29600   \n",
       "\n",
       "        sellingprice                                 saledate  \n",
       "558807         33000  Thu Jul 09 2015 07:00:00 GMT-0700 (PDT)  \n",
       "558808         30800  Wed Jul 08 2015 09:30:00 GMT-0700 (PDT)  \n",
       "558809         34000  Wed Jul 08 2015 09:30:00 GMT-0700 (PDT)  \n",
       "558810         11100  Thu Jul 09 2015 06:45:00 GMT-0700 (PDT)  \n",
       "558811         26700  Thu May 28 2015 05:30:00 GMT-0700 (PDT)  "
      ]
     },
     "execution_count": 4,
     "metadata": {},
     "output_type": "execute_result"
    }
   ],
   "source": [
    "car_df.tail()"
   ]
  },
  {
   "cell_type": "code",
   "execution_count": 5,
   "metadata": {},
   "outputs": [],
   "source": [
    "#renaming 'make' to 'brand' for easier understanding\n",
    "car_df.rename(columns={'make': 'brand'}, inplace=True)"
   ]
  },
  {
   "cell_type": "code",
   "execution_count": 6,
   "metadata": {},
   "outputs": [
    {
     "data": {
      "text/html": [
       "<div>\n",
       "<style scoped>\n",
       "    .dataframe tbody tr th:only-of-type {\n",
       "        vertical-align: middle;\n",
       "    }\n",
       "\n",
       "    .dataframe tbody tr th {\n",
       "        vertical-align: top;\n",
       "    }\n",
       "\n",
       "    .dataframe thead th {\n",
       "        text-align: right;\n",
       "    }\n",
       "</style>\n",
       "<table border=\"1\" class=\"dataframe\">\n",
       "  <thead>\n",
       "    <tr style=\"text-align: right;\">\n",
       "      <th></th>\n",
       "      <th>year</th>\n",
       "      <th>brand</th>\n",
       "      <th>model</th>\n",
       "      <th>trim</th>\n",
       "      <th>body</th>\n",
       "      <th>transmission</th>\n",
       "      <th>vin</th>\n",
       "      <th>state</th>\n",
       "      <th>condition</th>\n",
       "      <th>odometer</th>\n",
       "      <th>color</th>\n",
       "      <th>interior</th>\n",
       "      <th>seller</th>\n",
       "      <th>mmr</th>\n",
       "      <th>sellingprice</th>\n",
       "      <th>saledate</th>\n",
       "    </tr>\n",
       "  </thead>\n",
       "  <tbody>\n",
       "    <tr>\n",
       "      <th>0</th>\n",
       "      <td>2015</td>\n",
       "      <td>Kia</td>\n",
       "      <td>Sorento</td>\n",
       "      <td>LX</td>\n",
       "      <td>SUV</td>\n",
       "      <td>automatic</td>\n",
       "      <td>5xyktca69fg566472</td>\n",
       "      <td>ca</td>\n",
       "      <td>5.0</td>\n",
       "      <td>16639.0</td>\n",
       "      <td>white</td>\n",
       "      <td>black</td>\n",
       "      <td>kia motors america, inc</td>\n",
       "      <td>20500</td>\n",
       "      <td>21500</td>\n",
       "      <td>Tue Dec 16 2014 12:30:00 GMT-0800 (PST)</td>\n",
       "    </tr>\n",
       "    <tr>\n",
       "      <th>1</th>\n",
       "      <td>2015</td>\n",
       "      <td>Kia</td>\n",
       "      <td>Sorento</td>\n",
       "      <td>LX</td>\n",
       "      <td>SUV</td>\n",
       "      <td>automatic</td>\n",
       "      <td>5xyktca69fg561319</td>\n",
       "      <td>ca</td>\n",
       "      <td>5.0</td>\n",
       "      <td>9393.0</td>\n",
       "      <td>white</td>\n",
       "      <td>beige</td>\n",
       "      <td>kia motors america, inc</td>\n",
       "      <td>20800</td>\n",
       "      <td>21500</td>\n",
       "      <td>Tue Dec 16 2014 12:30:00 GMT-0800 (PST)</td>\n",
       "    </tr>\n",
       "    <tr>\n",
       "      <th>2</th>\n",
       "      <td>2014</td>\n",
       "      <td>BMW</td>\n",
       "      <td>3 Series</td>\n",
       "      <td>328i SULEV</td>\n",
       "      <td>Sedan</td>\n",
       "      <td>automatic</td>\n",
       "      <td>wba3c1c51ek116351</td>\n",
       "      <td>ca</td>\n",
       "      <td>4.5</td>\n",
       "      <td>1331.0</td>\n",
       "      <td>gray</td>\n",
       "      <td>black</td>\n",
       "      <td>financial services remarketing (lease)</td>\n",
       "      <td>31900</td>\n",
       "      <td>30000</td>\n",
       "      <td>Thu Jan 15 2015 04:30:00 GMT-0800 (PST)</td>\n",
       "    </tr>\n",
       "    <tr>\n",
       "      <th>3</th>\n",
       "      <td>2015</td>\n",
       "      <td>Volvo</td>\n",
       "      <td>S60</td>\n",
       "      <td>T5</td>\n",
       "      <td>Sedan</td>\n",
       "      <td>automatic</td>\n",
       "      <td>yv1612tb4f1310987</td>\n",
       "      <td>ca</td>\n",
       "      <td>4.1</td>\n",
       "      <td>14282.0</td>\n",
       "      <td>white</td>\n",
       "      <td>black</td>\n",
       "      <td>volvo na rep/world omni</td>\n",
       "      <td>27500</td>\n",
       "      <td>27750</td>\n",
       "      <td>Thu Jan 29 2015 04:30:00 GMT-0800 (PST)</td>\n",
       "    </tr>\n",
       "    <tr>\n",
       "      <th>4</th>\n",
       "      <td>2014</td>\n",
       "      <td>BMW</td>\n",
       "      <td>6 Series Gran Coupe</td>\n",
       "      <td>650i</td>\n",
       "      <td>Sedan</td>\n",
       "      <td>automatic</td>\n",
       "      <td>wba6b2c57ed129731</td>\n",
       "      <td>ca</td>\n",
       "      <td>4.3</td>\n",
       "      <td>2641.0</td>\n",
       "      <td>gray</td>\n",
       "      <td>black</td>\n",
       "      <td>financial services remarketing (lease)</td>\n",
       "      <td>66000</td>\n",
       "      <td>67000</td>\n",
       "      <td>Thu Dec 18 2014 12:30:00 GMT-0800 (PST)</td>\n",
       "    </tr>\n",
       "  </tbody>\n",
       "</table>\n",
       "</div>"
      ],
      "text/plain": [
       "   year  brand                model        trim   body transmission  \\\n",
       "0  2015    Kia              Sorento          LX    SUV    automatic   \n",
       "1  2015    Kia              Sorento          LX    SUV    automatic   \n",
       "2  2014    BMW             3 Series  328i SULEV  Sedan    automatic   \n",
       "3  2015  Volvo                  S60          T5  Sedan    automatic   \n",
       "4  2014    BMW  6 Series Gran Coupe        650i  Sedan    automatic   \n",
       "\n",
       "                 vin state  condition  odometer  color interior  \\\n",
       "0  5xyktca69fg566472    ca        5.0   16639.0  white    black   \n",
       "1  5xyktca69fg561319    ca        5.0    9393.0  white    beige   \n",
       "2  wba3c1c51ek116351    ca        4.5    1331.0   gray    black   \n",
       "3  yv1612tb4f1310987    ca        4.1   14282.0  white    black   \n",
       "4  wba6b2c57ed129731    ca        4.3    2641.0   gray    black   \n",
       "\n",
       "                                   seller    mmr  sellingprice  \\\n",
       "0                 kia motors america, inc  20500         21500   \n",
       "1                 kia motors america, inc  20800         21500   \n",
       "2  financial services remarketing (lease)  31900         30000   \n",
       "3                 volvo na rep/world omni  27500         27750   \n",
       "4  financial services remarketing (lease)  66000         67000   \n",
       "\n",
       "                                  saledate  \n",
       "0  Tue Dec 16 2014 12:30:00 GMT-0800 (PST)  \n",
       "1  Tue Dec 16 2014 12:30:00 GMT-0800 (PST)  \n",
       "2  Thu Jan 15 2015 04:30:00 GMT-0800 (PST)  \n",
       "3  Thu Jan 29 2015 04:30:00 GMT-0800 (PST)  \n",
       "4  Thu Dec 18 2014 12:30:00 GMT-0800 (PST)  "
      ]
     },
     "execution_count": 6,
     "metadata": {},
     "output_type": "execute_result"
    }
   ],
   "source": [
    "car_df.head()"
   ]
  },
  {
   "cell_type": "code",
   "execution_count": 7,
   "metadata": {},
   "outputs": [
    {
     "name": "stdout",
     "output_type": "stream",
     "text": [
      "<class 'pandas.core.frame.DataFrame'>\n",
      "RangeIndex: 558812 entries, 0 to 558811\n",
      "Data columns (total 16 columns):\n",
      " #   Column        Non-Null Count   Dtype  \n",
      "---  ------        --------------   -----  \n",
      " 0   year          558812 non-null  int64  \n",
      " 1   brand         548511 non-null  object \n",
      " 2   model         548413 non-null  object \n",
      " 3   trim          548161 non-null  object \n",
      " 4   body          545617 non-null  object \n",
      " 5   transmission  493459 non-null  object \n",
      " 6   vin           558812 non-null  object \n",
      " 7   state         558812 non-null  object \n",
      " 8   condition     547018 non-null  float64\n",
      " 9   odometer      558718 non-null  float64\n",
      " 10  color         558063 non-null  object \n",
      " 11  interior      558063 non-null  object \n",
      " 12  seller        558812 non-null  object \n",
      " 13  mmr           558812 non-null  int64  \n",
      " 14  sellingprice  558812 non-null  int64  \n",
      " 15  saledate      558812 non-null  object \n",
      "dtypes: float64(2), int64(3), object(11)\n",
      "memory usage: 68.2+ MB\n"
     ]
    }
   ],
   "source": [
    "#Getting dataframe information\n",
    "car_df.info()"
   ]
  },
  {
   "cell_type": "code",
   "execution_count": 8,
   "metadata": {},
   "outputs": [
    {
     "data": {
      "text/plain": [
       "array(['year', 'brand', 'model', 'trim', 'body', 'transmission', 'vin',\n",
       "       'state', 'condition', 'odometer', 'color', 'interior', 'seller',\n",
       "       'mmr', 'sellingprice', 'saledate'], dtype=object)"
      ]
     },
     "execution_count": 8,
     "metadata": {},
     "output_type": "execute_result"
    }
   ],
   "source": [
    "#Accessing column names\n",
    "car_df.columns.values"
   ]
  },
  {
   "cell_type": "code",
   "execution_count": 9,
   "metadata": {},
   "outputs": [
    {
     "data": {
      "text/html": [
       "<div>\n",
       "<style scoped>\n",
       "    .dataframe tbody tr th:only-of-type {\n",
       "        vertical-align: middle;\n",
       "    }\n",
       "\n",
       "    .dataframe tbody tr th {\n",
       "        vertical-align: top;\n",
       "    }\n",
       "\n",
       "    .dataframe thead th {\n",
       "        text-align: right;\n",
       "    }\n",
       "</style>\n",
       "<table border=\"1\" class=\"dataframe\">\n",
       "  <thead>\n",
       "    <tr style=\"text-align: right;\">\n",
       "      <th></th>\n",
       "      <th>year</th>\n",
       "      <th>condition</th>\n",
       "      <th>odometer</th>\n",
       "      <th>mmr</th>\n",
       "      <th>sellingprice</th>\n",
       "    </tr>\n",
       "  </thead>\n",
       "  <tbody>\n",
       "    <tr>\n",
       "      <th>count</th>\n",
       "      <td>558812.000000</td>\n",
       "      <td>547018.000000</td>\n",
       "      <td>558718.000000</td>\n",
       "      <td>558812.000000</td>\n",
       "      <td>558812.000000</td>\n",
       "    </tr>\n",
       "    <tr>\n",
       "      <th>mean</th>\n",
       "      <td>2010.038705</td>\n",
       "      <td>3.424514</td>\n",
       "      <td>68323.082106</td>\n",
       "      <td>13769.323628</td>\n",
       "      <td>13611.267630</td>\n",
       "    </tr>\n",
       "    <tr>\n",
       "      <th>std</th>\n",
       "      <td>3.966814</td>\n",
       "      <td>0.949439</td>\n",
       "      <td>53397.772770</td>\n",
       "      <td>9679.865976</td>\n",
       "      <td>9749.648961</td>\n",
       "    </tr>\n",
       "    <tr>\n",
       "      <th>min</th>\n",
       "      <td>1982.000000</td>\n",
       "      <td>1.000000</td>\n",
       "      <td>1.000000</td>\n",
       "      <td>25.000000</td>\n",
       "      <td>1.000000</td>\n",
       "    </tr>\n",
       "    <tr>\n",
       "      <th>25%</th>\n",
       "      <td>2007.000000</td>\n",
       "      <td>2.700000</td>\n",
       "      <td>28374.000000</td>\n",
       "      <td>7100.000000</td>\n",
       "      <td>6900.000000</td>\n",
       "    </tr>\n",
       "    <tr>\n",
       "      <th>50%</th>\n",
       "      <td>2012.000000</td>\n",
       "      <td>3.600000</td>\n",
       "      <td>52255.500000</td>\n",
       "      <td>12250.000000</td>\n",
       "      <td>12100.000000</td>\n",
       "    </tr>\n",
       "    <tr>\n",
       "      <th>75%</th>\n",
       "      <td>2013.000000</td>\n",
       "      <td>4.200000</td>\n",
       "      <td>99112.000000</td>\n",
       "      <td>18300.000000</td>\n",
       "      <td>18200.000000</td>\n",
       "    </tr>\n",
       "    <tr>\n",
       "      <th>max</th>\n",
       "      <td>2015.000000</td>\n",
       "      <td>5.000000</td>\n",
       "      <td>999999.000000</td>\n",
       "      <td>182000.000000</td>\n",
       "      <td>230000.000000</td>\n",
       "    </tr>\n",
       "  </tbody>\n",
       "</table>\n",
       "</div>"
      ],
      "text/plain": [
       "                year      condition       odometer            mmr  \\\n",
       "count  558812.000000  547018.000000  558718.000000  558812.000000   \n",
       "mean     2010.038705       3.424514   68323.082106   13769.323628   \n",
       "std         3.966814       0.949439   53397.772770    9679.865976   \n",
       "min      1982.000000       1.000000       1.000000      25.000000   \n",
       "25%      2007.000000       2.700000   28374.000000    7100.000000   \n",
       "50%      2012.000000       3.600000   52255.500000   12250.000000   \n",
       "75%      2013.000000       4.200000   99112.000000   18300.000000   \n",
       "max      2015.000000       5.000000  999999.000000  182000.000000   \n",
       "\n",
       "        sellingprice  \n",
       "count  558812.000000  \n",
       "mean    13611.267630  \n",
       "std      9749.648961  \n",
       "min         1.000000  \n",
       "25%      6900.000000  \n",
       "50%     12100.000000  \n",
       "75%     18200.000000  \n",
       "max    230000.000000  "
      ]
     },
     "execution_count": 9,
     "metadata": {},
     "output_type": "execute_result"
    }
   ],
   "source": [
    "#Generating descriptive statistics upfront\n",
    "car_df.describe()"
   ]
  },
  {
   "cell_type": "code",
   "execution_count": 10,
   "metadata": {},
   "outputs": [
    {
     "data": {
      "text/plain": [
       "Ford             93554\n",
       "Chevrolet        60197\n",
       "Nissan           53946\n",
       "Toyota           39871\n",
       "Dodge            30710\n",
       "Honda            27206\n",
       "Hyundai          21816\n",
       "BMW              20719\n",
       "Kia              18077\n",
       "Chrysler         17276\n",
       "Mercedes-Benz    17141\n",
       "Jeep             15372\n",
       "Infiniti         15305\n",
       "Volkswagen       12556\n",
       "Lexus            11861\n",
       "GMC              10613\n",
       "Mazda             8362\n",
       "Cadillac          7519\n",
       "Acura             5901\n",
       "Audi              5869\n",
       "Lincoln           5757\n",
       "Buick             5107\n",
       "Subaru            5043\n",
       "Ram               4574\n",
       "Pontiac           4497\n",
       "Mitsubishi        4140\n",
       "Volvo             3788\n",
       "MINI              3224\n",
       "Saturn            2841\n",
       "Mercury           1992\n",
       "Land Rover        1735\n",
       "Scion             1687\n",
       "Jaguar            1420\n",
       "Porsche           1383\n",
       "Suzuki            1073\n",
       "FIAT               865\n",
       "HUMMER             805\n",
       "Saab               484\n",
       "ford               443\n",
       "smart              396\n",
       "chevrolet          390\n",
       "Oldsmobile         364\n",
       "dodge              245\n",
       "chrysler           209\n",
       "Isuzu              204\n",
       "mazda              146\n",
       "honda              145\n",
       "Maserati           133\n",
       "land rover         129\n",
       "lexus              119\n",
       "mitsubishi         117\n",
       "Bentley            116\n",
       "jeep               111\n",
       "cadillac           110\n",
       "toyota              95\n",
       "bmw                 74\n",
       "nissan              71\n",
       "mercedes            70\n",
       "subaru              60\n",
       "mercury             31\n",
       "lincoln             29\n",
       "landrover           27\n",
       "pontiac             27\n",
       "acura               25\n",
       "Aston Martin        25\n",
       "gmc                 25\n",
       "volkswagen          24\n",
       "vw                  24\n",
       "Tesla               23\n",
       "hyundai             20\n",
       "oldsmobile          20\n",
       "Plymouth            20\n",
       "Geo                 19\n",
       "Ferrari             19\n",
       "porsche             19\n",
       "Rolls-Royce         17\n",
       "buick               14\n",
       "gmc truck           11\n",
       "Fisker               9\n",
       "audi                 8\n",
       "kia                  7\n",
       "plymouth             7\n",
       "suzuki               5\n",
       "Lamborghini          4\n",
       "Daewoo               3\n",
       "maserati             3\n",
       "ford truck           3\n",
       "mercedes-b           2\n",
       "dot                  1\n",
       "dodge tk             1\n",
       "mazda tk             1\n",
       "airstream            1\n",
       "ford tk              1\n",
       "chev truck           1\n",
       "hyundai tk           1\n",
       "Lotus                1\n",
       "Name: brand, dtype: int64"
      ]
     },
     "execution_count": 10,
     "metadata": {},
     "output_type": "execute_result"
    }
   ],
   "source": [
    "#Checking brand names and typos for mapping after\n",
    "pd.set_option('display.max_rows', None)\n",
    "car_df['brand'].value_counts()"
   ]
  },
  {
   "cell_type": "code",
   "execution_count": 11,
   "metadata": {},
   "outputs": [],
   "source": [
    "#Mapping similar brand names to a consistent format\n",
    "car_df['brand'].replace({\n",
    "    'vw' : 'Volkswagen',\n",
    "    'ford tk' : 'Ford',\n",
    "    'ford truck' : 'Ford',\n",
    "    'chev truck' : 'Chevrolet',\n",
    "    'dodge tk' : 'Dodge',\n",
    "    'hyundai tk' : 'Hyundai',\n",
    "    'bmw' : 'BMW',\n",
    "    'mercedes-b' : 'Mercedes-Benz',\n",
    "    'mercedes' : 'Mercedes-Benz',\n",
    "    'gmc' : 'GMC',\n",
    "    'gmc truck' : 'GMC',\n",
    "    'mazda tk' : 'Mazda',\n",
    "    'landrover' : 'Land Rover',\n",
    "}, inplace=True)"
   ]
  },
  {
   "cell_type": "code",
   "execution_count": 12,
   "metadata": {},
   "outputs": [
    {
     "data": {
      "text/plain": [
       "Ford             93558\n",
       "Chevrolet        60198\n",
       "Nissan           53946\n",
       "Toyota           39871\n",
       "Dodge            30711\n",
       "Honda            27206\n",
       "Hyundai          21817\n",
       "BMW              20793\n",
       "Kia              18077\n",
       "Chrysler         17276\n",
       "Mercedes-Benz    17213\n",
       "Jeep             15372\n",
       "Infiniti         15305\n",
       "Volkswagen       12580\n",
       "Lexus            11861\n",
       "GMC              10649\n",
       "Mazda             8363\n",
       "Cadillac          7519\n",
       "Acura             5901\n",
       "Audi              5869\n",
       "Lincoln           5757\n",
       "Buick             5107\n",
       "Subaru            5043\n",
       "Ram               4574\n",
       "Pontiac           4497\n",
       "Mitsubishi        4140\n",
       "Volvo             3788\n",
       "MINI              3224\n",
       "Saturn            2841\n",
       "Mercury           1992\n",
       "Land Rover        1762\n",
       "Scion             1687\n",
       "Jaguar            1420\n",
       "Porsche           1383\n",
       "Suzuki            1073\n",
       "FIAT               865\n",
       "HUMMER             805\n",
       "Saab               484\n",
       "ford               443\n",
       "smart              396\n",
       "chevrolet          390\n",
       "Oldsmobile         364\n",
       "dodge              245\n",
       "chrysler           209\n",
       "Isuzu              204\n",
       "mazda              146\n",
       "honda              145\n",
       "Maserati           133\n",
       "land rover         129\n",
       "lexus              119\n",
       "mitsubishi         117\n",
       "Bentley            116\n",
       "jeep               111\n",
       "cadillac           110\n",
       "toyota              95\n",
       "nissan              71\n",
       "subaru              60\n",
       "mercury             31\n",
       "lincoln             29\n",
       "pontiac             27\n",
       "Aston Martin        25\n",
       "acura               25\n",
       "volkswagen          24\n",
       "Tesla               23\n",
       "Plymouth            20\n",
       "hyundai             20\n",
       "oldsmobile          20\n",
       "porsche             19\n",
       "Geo                 19\n",
       "Ferrari             19\n",
       "Rolls-Royce         17\n",
       "buick               14\n",
       "Fisker               9\n",
       "audi                 8\n",
       "plymouth             7\n",
       "kia                  7\n",
       "suzuki               5\n",
       "Lamborghini          4\n",
       "Daewoo               3\n",
       "maserati             3\n",
       "airstream            1\n",
       "dot                  1\n",
       "Lotus                1\n",
       "Name: brand, dtype: int64"
      ]
     },
     "execution_count": 12,
     "metadata": {},
     "output_type": "execute_result"
    }
   ],
   "source": [
    "#Checking brand names and typos after mapping\n",
    "car_df['brand'].value_counts()"
   ]
  },
  {
   "cell_type": "code",
   "execution_count": 13,
   "metadata": {},
   "outputs": [
    {
     "data": {
      "text/plain": [
       "Ford             94001\n",
       "Chevrolet        60588\n",
       "Nissan           54017\n",
       "Toyota           39966\n",
       "Dodge            30956\n",
       "Honda            27351\n",
       "Hyundai          21837\n",
       "Bmw              20793\n",
       "Kia              18084\n",
       "Chrysler         17485\n",
       "Mercedes-benz    17213\n",
       "Jeep             15483\n",
       "Infiniti         15305\n",
       "Volkswagen       12604\n",
       "Lexus            11980\n",
       "Gmc              10649\n",
       "Mazda             8509\n",
       "Cadillac          7629\n",
       "Acura             5926\n",
       "Audi              5877\n",
       "Lincoln           5786\n",
       "Buick             5121\n",
       "Subaru            5103\n",
       "Ram               4574\n",
       "Pontiac           4524\n",
       "Mitsubishi        4257\n",
       "Volvo             3788\n",
       "Mini              3224\n",
       "Saturn            2841\n",
       "Mercury           2023\n",
       "Land rover        1891\n",
       "Scion             1687\n",
       "Jaguar            1420\n",
       "Porsche           1402\n",
       "Suzuki            1078\n",
       "Fiat               865\n",
       "Hummer             805\n",
       "Saab               484\n",
       "Smart              396\n",
       "Oldsmobile         384\n",
       "Isuzu              204\n",
       "Maserati           136\n",
       "Bentley            116\n",
       "Plymouth            27\n",
       "Aston martin        25\n",
       "Tesla               23\n",
       "Ferrari             19\n",
       "Geo                 19\n",
       "Rolls-royce         17\n",
       "Fisker               9\n",
       "Lamborghini          4\n",
       "Daewoo               3\n",
       "Airstream            1\n",
       "Dot                  1\n",
       "Lotus                1\n",
       "Name: brand, dtype: int64"
      ]
     },
     "execution_count": 13,
     "metadata": {},
     "output_type": "execute_result"
    }
   ],
   "source": [
    "#Capitalizing brand names\n",
    "car_df['brand'] = car_df['brand'].str.capitalize()\n",
    "car_df['brand'].value_counts()"
   ]
  },
  {
   "cell_type": "code",
   "execution_count": 14,
   "metadata": {},
   "outputs": [
    {
     "name": "stdout",
     "output_type": "stream",
     "text": [
      "Missing values in each column:\n",
      "year                0\n",
      "brand           10301\n",
      "model           10399\n",
      "trim            10651\n",
      "body            13195\n",
      "transmission    65353\n",
      "vin                 0\n",
      "state               0\n",
      "condition       11794\n",
      "odometer           94\n",
      "color             749\n",
      "interior          749\n",
      "seller              0\n",
      "mmr                 0\n",
      "sellingprice        0\n",
      "saledate            0\n",
      "dtype: int64\n"
     ]
    }
   ],
   "source": [
    "#Checking for missing values\n",
    "missing_values = car_df.isnull().sum()\n",
    "print(\"Missing values in each column:\")\n",
    "print(missing_values)"
   ]
  },
  {
   "cell_type": "code",
   "execution_count": 15,
   "metadata": {},
   "outputs": [
    {
     "data": {
      "text/plain": [
       "Sedan                      199438\n",
       "SUV                        119292\n",
       "sedan                       41906\n",
       "suv                         24552\n",
       "Hatchback                   21380\n",
       "Minivan                     21363\n",
       "Coupe                       14602\n",
       "Wagon                       13630\n",
       "Crew Cab                    13280\n",
       "Convertible                  8652\n",
       "SuperCrew                    7423\n",
       "G Sedan                      5999\n",
       "hatchback                    4857\n",
       "SuperCab                     4449\n",
       "minivan                      4166\n",
       "Regular Cab                  4067\n",
       "Van                          3958\n",
       "Extended Cab                 3824\n",
       "Quad Cab                     3436\n",
       "coupe                        3150\n",
       "crew cab                     3114\n",
       "wagon                        2499\n",
       "convertible                  1824\n",
       "supercrew                    1610\n",
       "E-Series Van                 1455\n",
       "g sedan                      1418\n",
       "G Coupe                      1263\n",
       "Double Cab                   1251\n",
       "supercab                      862\n",
       "regular cab                   783\n",
       "extended cab                  683\n",
       "quad cab                      659\n",
       "van                           570\n",
       "CrewMax Cab                   445\n",
       "King Cab                      436\n",
       "e-series van                  368\n",
       "double cab                    350\n",
       "g coupe                       330\n",
       "G Convertible                 249\n",
       "Access Cab                    232\n",
       "Genesis Coupe                 232\n",
       "Club Cab                      156\n",
       "Koup                          147\n",
       "CTS Coupe                     129\n",
       "crewmax cab                   120\n",
       "king cab                       96\n",
       "Elantra Coupe                  80\n",
       "g convertible                  74\n",
       "access cab                     62\n",
       "genesis coupe                  62\n",
       "Mega Cab                       59\n",
       "Beetle Convertible             52\n",
       "mega cab                       52\n",
       "Promaster Cargo Van            49\n",
       "Xtracab                        40\n",
       "Q60 Convertible                38\n",
       "koup                           33\n",
       "Q60 Coupe                      32\n",
       "cts coupe                      29\n",
       "TSX Sport Wagon                28\n",
       "CTS-V Coupe                    28\n",
       "elantra coupe                  23\n",
       "club cab                       22\n",
       "G37 Convertible                16\n",
       "regular-cab                    15\n",
       "CTS Wagon                      13\n",
       "Transit Van                    12\n",
       "G37 Coupe                      11\n",
       "promaster cargo van            10\n",
       "tsx sport wagon                 8\n",
       "transit van                     7\n",
       "cts-v coupe                     7\n",
       "GranTurismo Convertible         7\n",
       "beetle convertible              7\n",
       "granturismo convertible         6\n",
       "Cab Plus 4                      5\n",
       "Cab Plus                        4\n",
       "q60 coupe                       4\n",
       "xtracab                         4\n",
       "g37 convertible                 4\n",
       "q60 convertible                 4\n",
       "g37 coupe                       1\n",
       "cab plus 4                      1\n",
       "CTS-V Wagon                     1\n",
       "Ram Van                         1\n",
       "cts wagon                       1\n",
       "Name: body, dtype: int64"
      ]
     },
     "execution_count": 15,
     "metadata": {},
     "output_type": "execute_result"
    }
   ],
   "source": [
    "#Checking brand names and typos after mapping\n",
    "car_df['body'].value_counts()"
   ]
  },
  {
   "cell_type": "code",
   "execution_count": 16,
   "metadata": {},
   "outputs": [],
   "source": [
    "car_df['body'] = car_df['body'].str.title()"
   ]
  },
  {
   "cell_type": "code",
   "execution_count": 17,
   "metadata": {},
   "outputs": [
    {
     "data": {
      "text/plain": [
       "Sedan                      241344\n",
       "Suv                        143844\n",
       "Hatchback                   26237\n",
       "Minivan                     25529\n",
       "Coupe                       17752\n",
       "Crew Cab                    16394\n",
       "Wagon                       16129\n",
       "Convertible                 10476\n",
       "Supercrew                    9033\n",
       "G Sedan                      7417\n",
       "Supercab                     5311\n",
       "Regular Cab                  4850\n",
       "Van                          4528\n",
       "Extended Cab                 4507\n",
       "Quad Cab                     4095\n",
       "E-Series Van                 1823\n",
       "Double Cab                   1601\n",
       "G Coupe                      1593\n",
       "Crewmax Cab                   565\n",
       "King Cab                      532\n",
       "G Convertible                 323\n",
       "Access Cab                    294\n",
       "Genesis Coupe                 294\n",
       "Koup                          180\n",
       "Club Cab                      178\n",
       "Cts Coupe                     158\n",
       "Mega Cab                      111\n",
       "Elantra Coupe                 103\n",
       "Promaster Cargo Van            59\n",
       "Beetle Convertible             59\n",
       "Xtracab                        44\n",
       "Q60 Convertible                42\n",
       "Tsx Sport Wagon                36\n",
       "Q60 Coupe                      36\n",
       "Cts-V Coupe                    35\n",
       "G37 Convertible                20\n",
       "Transit Van                    19\n",
       "Regular-Cab                    15\n",
       "Cts Wagon                      14\n",
       "Granturismo Convertible        13\n",
       "G37 Coupe                      12\n",
       "Cab Plus 4                      6\n",
       "Cab Plus                        4\n",
       "Cts-V Wagon                     1\n",
       "Ram Van                         1\n",
       "Name: body, dtype: int64"
      ]
     },
     "execution_count": 17,
     "metadata": {},
     "output_type": "execute_result"
    }
   ],
   "source": [
    "car_df['body'].value_counts()"
   ]
  },
  {
   "cell_type": "code",
   "execution_count": 18,
   "metadata": {},
   "outputs": [],
   "source": [
    "car_df['body'] = car_df['body'].replace({'Suv': 'SUV', 'Supercrew': 'SuperCrew', 'Regular-Cab': 'Regular Cab'})"
   ]
  },
  {
   "cell_type": "code",
   "execution_count": 19,
   "metadata": {},
   "outputs": [
    {
     "data": {
      "text/plain": [
       "Sedan                      241344\n",
       "SUV                        143844\n",
       "Hatchback                   26237\n",
       "Minivan                     25529\n",
       "Coupe                       17752\n",
       "Crew Cab                    16394\n",
       "Wagon                       16129\n",
       "Convertible                 10476\n",
       "SuperCrew                    9033\n",
       "G Sedan                      7417\n",
       "Supercab                     5311\n",
       "Regular Cab                  4865\n",
       "Van                          4528\n",
       "Extended Cab                 4507\n",
       "Quad Cab                     4095\n",
       "E-Series Van                 1823\n",
       "Double Cab                   1601\n",
       "G Coupe                      1593\n",
       "Crewmax Cab                   565\n",
       "King Cab                      532\n",
       "G Convertible                 323\n",
       "Access Cab                    294\n",
       "Genesis Coupe                 294\n",
       "Koup                          180\n",
       "Club Cab                      178\n",
       "Cts Coupe                     158\n",
       "Mega Cab                      111\n",
       "Elantra Coupe                 103\n",
       "Beetle Convertible             59\n",
       "Promaster Cargo Van            59\n",
       "Xtracab                        44\n",
       "Q60 Convertible                42\n",
       "Tsx Sport Wagon                36\n",
       "Q60 Coupe                      36\n",
       "Cts-V Coupe                    35\n",
       "G37 Convertible                20\n",
       "Transit Van                    19\n",
       "Cts Wagon                      14\n",
       "Granturismo Convertible        13\n",
       "G37 Coupe                      12\n",
       "Cab Plus 4                      6\n",
       "Cab Plus                        4\n",
       "Cts-V Wagon                     1\n",
       "Ram Van                         1\n",
       "Name: body, dtype: int64"
      ]
     },
     "execution_count": 19,
     "metadata": {},
     "output_type": "execute_result"
    }
   ],
   "source": [
    "car_df['body'].value_counts()"
   ]
  },
  {
   "cell_type": "code",
   "execution_count": 20,
   "metadata": {},
   "outputs": [
    {
     "name": "stderr",
     "output_type": "stream",
     "text": [
      "/var/folders/65/5zkp1bys09s2tm2tg0bqn9wc0000gn/T/ipykernel_33063/868540037.py:15: FutureWarning: Not prepending group keys to the result index of transform-like apply. In the future, the group keys will be included in the index, regardless of whether the applied function returns a like-indexed object.\n",
      "To preserve the previous behavior, use\n",
      "\n",
      "\t>>> .groupby(..., group_keys=False)\n",
      "\n",
      "To adopt the future behavior and silence this warning, use \n",
      "\n",
      "\t>>> .groupby(..., group_keys=True)\n",
      "  filled_transmission = grouped.apply(fill_missing_transmission)\n"
     ]
    }
   ],
   "source": [
    "#Identify rows with missing 'transmission'\n",
    "missing_transmission = car_df[car_df['transmission'].isnull()]\n",
    "\n",
    "#Group by 'brand', 'model', 'trim', and 'year' columns\n",
    "grouped = car_df.groupby(['brand', 'model', 'trim', 'year'])\n",
    "\n",
    "#Function to fill missing 'transmission' with most frequent value in each group\n",
    "def fill_missing_transmission(group):\n",
    "    most_common = group['transmission'].mode()\n",
    "    if len(most_common) > 0:\n",
    "        group['transmission'] = group['transmission'].fillna(most_common[0])\n",
    "    return group\n",
    "\n",
    "#Apply the function to fill missing 'transmission'\n",
    "filled_transmission = grouped.apply(fill_missing_transmission)\n",
    "\n",
    "#Update the original DataFrame with filled values\n",
    "car_df['transmission'] = filled_transmission['transmission']"
   ]
  },
  {
   "cell_type": "code",
   "execution_count": 21,
   "metadata": {},
   "outputs": [
    {
     "name": "stdout",
     "output_type": "stream",
     "text": [
      "Missing values in each column:\n",
      "year                0\n",
      "brand           10301\n",
      "model           10399\n",
      "trim            10651\n",
      "body            13195\n",
      "transmission    11141\n",
      "vin                 0\n",
      "state               0\n",
      "condition       11794\n",
      "odometer           94\n",
      "color             749\n",
      "interior          749\n",
      "seller              0\n",
      "mmr                 0\n",
      "sellingprice        0\n",
      "saledate            0\n",
      "dtype: int64\n"
     ]
    }
   ],
   "source": [
    "#Checking for the effect of the previous code\n",
    "missing_values = car_df.isnull().sum()\n",
    "print(\"Missing values in each column:\")\n",
    "print(missing_values)"
   ]
  },
  {
   "cell_type": "code",
   "execution_count": 22,
   "metadata": {},
   "outputs": [
    {
     "name": "stdout",
     "output_type": "stream",
     "text": [
      "Duplicate values: 0\n"
     ]
    }
   ],
   "source": [
    "#Checking duplicates\n",
    "duplicates = car_df.duplicated().sum()\n",
    "print(\"Duplicate values: \" + str(duplicates))"
   ]
  },
  {
   "cell_type": "code",
   "execution_count": 23,
   "metadata": {},
   "outputs": [
    {
     "name": "stdout",
     "output_type": "stream",
     "text": [
      "Data types in this dataset are:\n",
      "year              int64\n",
      "brand            object\n",
      "model            object\n",
      "trim             object\n",
      "body             object\n",
      "transmission     object\n",
      "vin              object\n",
      "state            object\n",
      "condition       float64\n",
      "odometer        float64\n",
      "color            object\n",
      "interior         object\n",
      "seller           object\n",
      "mmr               int64\n",
      "sellingprice      int64\n",
      "saledate         object\n",
      "dtype: object\n"
     ]
    }
   ],
   "source": [
    "#Checking data types for every column\n",
    "print(\"Data types in this dataset are:\")\n",
    "print(car_df.dtypes)"
   ]
  },
  {
   "cell_type": "code",
   "execution_count": 24,
   "metadata": {},
   "outputs": [
    {
     "name": "stdout",
     "output_type": "stream",
     "text": [
      "The numerical columns are:\n",
      "Index(['year', 'condition', 'odometer', 'mmr', 'sellingprice'], dtype='object')\n"
     ]
    }
   ],
   "source": [
    "#Getting all columns with numerical data\n",
    "numerical_col = car_df.select_dtypes(['int64', 'float64']).columns\n",
    "print(\"The numerical columns are:\")\n",
    "print(numerical_col)"
   ]
  },
  {
   "cell_type": "code",
   "execution_count": 25,
   "metadata": {},
   "outputs": [
    {
     "name": "stdout",
     "output_type": "stream",
     "text": [
      "The categorical columns are:\n",
      "Index(['brand', 'model', 'trim', 'body', 'transmission', 'vin', 'state',\n",
      "       'color', 'interior', 'seller', 'saledate'],\n",
      "      dtype='object')\n"
     ]
    }
   ],
   "source": [
    "#Getting all columns with categorical data\n",
    "cat_col = car_df.select_dtypes([object]).columns\n",
    "print(\"The categorical columns are:\")\n",
    "print(cat_col)"
   ]
  },
  {
   "cell_type": "markdown",
   "metadata": {},
   "source": [
    "### 1. EDA"
   ]
  },
  {
   "cell_type": "code",
   "execution_count": 26,
   "metadata": {},
   "outputs": [
    {
     "name": "stdout",
     "output_type": "stream",
     "text": [
      "Basic statistics for numerical features:\n",
      "                year       odometer            mmr   sellingprice\n",
      "count  558812.000000  558718.000000  558812.000000  558812.000000\n",
      "mean     2010.038705   68323.082106   13769.323628   13611.267630\n",
      "std         3.966814   53397.772770    9679.865976    9749.648961\n",
      "min      1982.000000       1.000000      25.000000       1.000000\n",
      "25%      2007.000000   28374.000000    7100.000000    6900.000000\n",
      "50%      2012.000000   52255.500000   12250.000000   12100.000000\n",
      "75%      2013.000000   99112.000000   18300.000000   18200.000000\n",
      "max      2015.000000  999999.000000  182000.000000  230000.000000\n"
     ]
    }
   ],
   "source": [
    "# Selecting numerical columns for basic statistics\n",
    "numerical_features = ['year', 'odometer', 'mmr', 'sellingprice']\n",
    "\n",
    "# Calculating basic statistics using describe()\n",
    "basic_stats = car_df[numerical_features].describe()\n",
    "\n",
    "# Displaying basic statistics\n",
    "print(\"Basic statistics for numerical features:\")\n",
    "print(basic_stats)"
   ]
  },
  {
   "cell_type": "code",
   "execution_count": 27,
   "metadata": {},
   "outputs": [
    {
     "data": {
      "image/png": "[encoded data removed]",
      "text/plain": [
       "<Figure size 1000x800 with 2 Axes>"
      ]
     },
     "metadata": {},
     "output_type": "display_data"
    }
   ],
   "source": [
    "#Selecting numerical columns\n",
    "numerical_columns = ['year', 'condition', 'odometer', 'mmr', 'sellingprice']\n",
    "\n",
    "#Creating a correlation matrix\n",
    "numerical_corr = car_df[numerical_columns].corr()\n",
    "\n",
    "#Visualising the correlation matrix using a heatmap\n",
    "plt.figure(figsize=(10, 8))\n",
    "sns.heatmap(numerical_corr, annot=True, cmap='coolwarm', fmt='.2f')\n",
    "plt.title('Correlation Matrix for Numerical Columns')\n",
    "plt.show()"
   ]
  },
  {
   "cell_type": "code",
   "execution_count": 28,
   "metadata": {},
   "outputs": [
    {
     "data": {
      "text/plain": [
       "sellingprice    1.000000\n",
       "mmr             0.983634\n",
       "year            0.586488\n",
       "condition       0.538787\n",
       "odometer       -0.582405\n",
       "Name: sellingprice, dtype: float64"
      ]
     },
     "execution_count": 28,
     "metadata": {},
     "output_type": "execute_result"
    }
   ],
   "source": [
    "numerical_corr[\"sellingprice\"].sort_values(ascending=False)"
   ]
  },
  {
   "cell_type": "code",
   "execution_count": 29,
   "metadata": {},
   "outputs": [
    {
     "name": "stdout",
     "output_type": "stream",
     "text": [
      "Pearson correlation of numerical variables with 'sellingprice':\n",
      "sellingprice    1.000000\n",
      "mmr             0.983634\n",
      "year            0.586488\n",
      "condition       0.538787\n",
      "odometer       -0.582405\n",
      "Name: sellingprice, dtype: float64\n",
      "\n",
      "Spearman correlation of numerical variables with 'sellingprice':\n",
      "sellingprice    1.000000\n",
      "mmr             0.979468\n",
      "year            0.679325\n",
      "condition       0.616741\n",
      "odometer       -0.704530\n",
      "Name: sellingprice, dtype: float64\n"
     ]
    }
   ],
   "source": [
    "# Selecting numerical columns of interest\n",
    "numerical_columns = ['mmr', 'year', 'condition', 'odometer', 'sellingprice']\n",
    "\n",
    "# Calculating Pearson correlation\n",
    "pearson_corr = car_df[numerical_columns].corr(method='pearson')['sellingprice'].sort_values(ascending=False)\n",
    "\n",
    "# Calculating Spearman correlation\n",
    "spearman_corr = car_df[numerical_columns].corr(method='spearman')['sellingprice'].sort_values(ascending=False)\n",
    "\n",
    "print(\"Pearson correlation of numerical variables with 'sellingprice':\")\n",
    "print(pearson_corr)\n",
    "\n",
    "print(\"\\nSpearman correlation of numerical variables with 'sellingprice':\")\n",
    "print(spearman_corr)"
   ]
  },
  {
   "cell_type": "markdown",
   "metadata": {},
   "source": [
    "The correlation coefficients (Pearson and Spearman) between the numerical variables and the 'sellingprice' provide insights into the relationships between these variables:\n",
    "\n",
    "1. Pearson Correlation:\n",
    "    - The 'sellingprice' has a very strong positive correlation with 'mmr' (0.984), suggesting a high linear relationship between the maximum retail price ('mmr') and the selling price.\n",
    "    - A moderately positive correlation exists between 'sellingprice' and 'year' (0.586) and 'condition' (0.539). This indicates that newer years and better conditions tend to be associated with higher selling prices, but the relationship is not as strong as with 'mmr'.\n",
    "    - 'Sellingprice' has a moderately negative correlation with 'odometer' (-0.582), implying that as the odometer reading increases (indicating higher mileage), the selling price tends to decrease.\n",
    "\n",
    "2. Spearman Correlation:\n",
    "    - The Spearman correlation coefficients show similar trends to the Pearson correlation, but they consider monotonic relationships rather than just linear ones.\n",
    "    - 'mmr' demonstrates a very strong positive monotonic relationship with 'sellingprice' (0.979).\n",
    "    - 'Year', 'condition', and 'odometer' also show relatively strong positive and negative monotonic relationships with 'sellingprice', similar to Pearson correlations but considering non-linear associations.\n",
    "\n",
    "Conclusions:\n",
    "- Both Pearson and Spearman correlations indicate that 'mmr' has the strongest association with 'sellingprice', suggesting that the maximum retail price is highly influential in determining the selling price of cars.\n",
    "- 'Year' and 'condition' have moderate positive associations, indicating that newer vehicles in better condition tend to have higher selling prices.\n",
    "- Conversely, 'odometer' (indicating higher mileage) has a moderate negative association, meaning that increased mileage tends to decrease the selling price.\n",
    "\n",
    "Correlation does not imply causation, and other factors not considered here might influence the selling price of cars. These correlation coefficients provide valuable insights into the relationships between these variables but do not establish causative relationships."
   ]
  },
  {
   "cell_type": "code",
   "execution_count": 30,
   "metadata": {},
   "outputs": [
    {
     "data": {
      "image/png": "[encoded data removed]",
      "text/plain": [
       "<Figure size 2500x600 with 1 Axes>"
      ]
     },
     "metadata": {},
     "output_type": "display_data"
    }
   ],
   "source": [
    "#Selecting a categorical column ('brand') to visualise its relationship with 'sellingprice'\n",
    "categorical_column = 'brand'\n",
    "\n",
    "#Creating a box plot to show 'sellingprice' distribution across different categories of 'brand'\n",
    "plt.figure(figsize=(25, 6))\n",
    "sns.boxplot(x=categorical_column, y='sellingprice', data=car_df)\n",
    "plt.title(f'{categorical_column.capitalize()} vs Selling Price')\n",
    "plt.xlabel(categorical_column.capitalize())\n",
    "plt.ylabel('Selling Price')\n",
    "plt.xticks(rotation=45)\n",
    "plt.show()"
   ]
  },
  {
   "cell_type": "code",
   "execution_count": 31,
   "metadata": {},
   "outputs": [
    {
     "data": {
      "image/png": "[encoded data removed]",
      "text/plain": [
       "<Figure size 1200x800 with 6 Axes>"
      ]
     },
     "metadata": {},
     "output_type": "display_data"
    }
   ],
   "source": [
    "#Comparing different features to the price\n",
    "categrical_columns=['brand', 'body', 'transmission', 'state', 'color', 'interior']\n",
    "plt.figure(figsize=(12,8))\n",
    "for feature in categrical_columns:\n",
    "    plt.subplot(3, 3, categrical_columns.index(feature) + 1)\n",
    "    sns.barplot(data=car_df, x=feature, y='sellingprice')\n",
    "    plt.title(f'{feature} vs. Price')\n",
    "plt.tight_layout()\n",
    "plt.show()"
   ]
  },
  {
   "cell_type": "code",
   "execution_count": 32,
   "metadata": {},
   "outputs": [
    {
     "data": {
      "image/png": "[encoded data removed]",
      "text/plain": [
       "<Figure size 1000x1200 with 2 Axes>"
      ]
     },
     "metadata": {},
     "output_type": "display_data"
    }
   ],
   "source": [
    "#Checking the top 10 and bottom 10 cars that are auctioned\n",
    "top_10_brands = car_df['brand'].value_counts().nlargest(10)\n",
    "bottom_10_brands = car_df['brand'].value_counts().nsmallest(10)\n",
    "\n",
    "#Plotting both top 10 and bottom 10 brands in one figure\n",
    "fig, axes = plt.subplots(nrows=2, ncols=1, figsize=(10, 12))\n",
    "\n",
    "#Plotting the top 10 brands\n",
    "axes[0].bar(top_10_brands.index, top_10_brands, color='darkblue')\n",
    "axes[0].set_title('Top 10 Car Brands')\n",
    "axes[0].set_xlabel('Brands')\n",
    "axes[0].set_ylabel('Frequency')\n",
    "axes[0].tick_params(axis='x', rotation=45)\n",
    "\n",
    "#Plotting the bottom 10 brands\n",
    "axes[1].bar(bottom_10_brands.index, bottom_10_brands, color='darkred')\n",
    "axes[1].set_title('Bottom 10 Car Brands')\n",
    "axes[1].set_xlabel('Brands')\n",
    "axes[1].set_ylabel('Frequency')\n",
    "axes[1].tick_params(axis='x', rotation=45)\n",
    "\n",
    "plt.tight_layout()\n",
    "plt.show()"
   ]
  },
  {
   "cell_type": "code",
   "execution_count": 33,
   "metadata": {},
   "outputs": [
    {
     "data": {
      "application/vnd.plotly.v1+json": {
       "config": {
        "plotlyServerURL": "https://plot.ly"
       },
       "data": [
        {
         "domain": {
          "x": [
           0,
           1
          ],
          "y": [
           0,
           1
          ]
         },
         "hovertemplate": "body=%{label}<br>percent=%{value}<extra></extra>",
         "labels": [
          "Sedan",
          "SUV",
          "Hatchback",
          "Minivan",
          "Coupe",
          "Crew Cab",
          "Wagon",
          "Convertible",
          "SuperCrew",
          "G Sedan",
          "Other"
         ],
         "legendgroup": "",
         "name": "",
         "showlegend": true,
         "type": "pie",
         "values": [
          0.4318876473661983,
          0.25741036341381357,
          0.04695138973393556,
          0.04568441622585055,
          0.03176739225356649,
          0.029337236852465587,
          0.02886301654223603,
          0.018746913094206997,
          0.016164649291711703,
          0.013272800154613715,
          0.05630158264317874
         ]
        }
       ],
       "layout": {
        "height": 500,
        "legend": {
         "tracegroupgap": 0
        },
        "template": {
         "data": {
          "bar": [
           {
            "error_x": {
             "color": "#2a3f5f"
            },
            "error_y": {
             "color": "#2a3f5f"
            },
            "marker": {
             "line": {
              "color": "#E5ECF6",
              "width": 0.5
             },
             "pattern": {
              "fillmode": "overlay",
              "size": 10,
              "solidity": 0.2
             }
            },
            "type": "bar"
           }
          ],
          "barpolar": [
           {
            "marker": {
             "line": {
              "color": "#E5ECF6",
              "width": 0.5
             },
             "pattern": {
              "fillmode": "overlay",
              "size": 10,
              "solidity": 0.2
             }
            },
            "type": "barpolar"
           }
          ],
          "carpet": [
           {
            "aaxis": {
             "endlinecolor": "#2a3f5f",
             "gridcolor": "white",
             "linecolor": "white",
             "minorgridcolor": "white",
             "startlinecolor": "#2a3f5f"
            },
            "baxis": {
             "endlinecolor": "#2a3f5f",
             "gridcolor": "white",
             "linecolor": "white",
             "minorgridcolor": "white",
             "startlinecolor": "#2a3f5f"
            },
            "type": "carpet"
           }
          ],
          "choropleth": [
           {
            "colorbar": {
             "outlinewidth": 0,
             "ticks": ""
            },
            "type": "choropleth"
           }
          ],
          "contour": [
           {
            "colorbar": {
             "outlinewidth": 0,
             "ticks": ""
            },
            "colorscale": [
             [
              0,
              "#0d0887"
             ],
             [
              0.1111111111111111,
              "#46039f"
             ],
             [
              0.2222222222222222,
              "#7201a8"
             ],
             [
              0.3333333333333333,
              "#9c179e"
             ],
             [
              0.4444444444444444,
              "#bd3786"
             ],
             [
              0.5555555555555556,
              "#d8576b"
             ],
             [
              0.6666666666666666,
              "#ed7953"
             ],
             [
              0.7777777777777778,
              "#fb9f3a"
             ],
             [
              0.8888888888888888,
              "#fdca26"
             ],
             [
              1,
              "#f0f921"
             ]
            ],
            "type": "contour"
           }
          ],
          "contourcarpet": [
           {
            "colorbar": {
             "outlinewidth": 0,
             "ticks": ""
            },
            "type": "contourcarpet"
           }
          ],
          "heatmap": [
           {
            "colorbar": {
             "outlinewidth": 0,
             "ticks": ""
            },
            "colorscale": [
             [
              0,
              "#0d0887"
             ],
             [
              0.1111111111111111,
              "#46039f"
             ],
             [
              0.2222222222222222,
              "#7201a8"
             ],
             [
              0.3333333333333333,
              "#9c179e"
             ],
             [
              0.4444444444444444,
              "#bd3786"
             ],
             [
              0.5555555555555556,
              "#d8576b"
             ],
             [
              0.6666666666666666,
              "#ed7953"
             ],
             [
              0.7777777777777778,
              "#fb9f3a"
             ],
             [
              0.8888888888888888,
              "#fdca26"
             ],
             [
              1,
              "#f0f921"
             ]
            ],
            "type": "heatmap"
           }
          ],
          "heatmapgl": [
           {
            "colorbar": {
             "outlinewidth": 0,
             "ticks": ""
            },
            "colorscale": [
             [
              0,
              "#0d0887"
             ],
             [
              0.1111111111111111,
              "#46039f"
             ],
             [
              0.2222222222222222,
              "#7201a8"
             ],
             [
              0.3333333333333333,
              "#9c179e"
             ],
             [
              0.4444444444444444,
              "#bd3786"
             ],
             [
              0.5555555555555556,
              "#d8576b"
             ],
             [
              0.6666666666666666,
              "#ed7953"
             ],
             [
              0.7777777777777778,
              "#fb9f3a"
             ],
             [
              0.8888888888888888,
              "#fdca26"
             ],
             [
              1,
              "#f0f921"
             ]
            ],
            "type": "heatmapgl"
           }
          ],
          "histogram": [
           {
            "marker": {
             "pattern": {
              "fillmode": "overlay",
              "size": 10,
              "solidity": 0.2
             }
            },
            "type": "histogram"
           }
          ],
          "histogram2d": [
           {
            "colorbar": {
             "outlinewidth": 0,
             "ticks": ""
            },
            "colorscale": [
             [
              0,
              "#0d0887"
             ],
             [
              0.1111111111111111,
              "#46039f"
             ],
             [
              0.2222222222222222,
              "#7201a8"
             ],
             [
              0.3333333333333333,
              "#9c179e"
             ],
             [
              0.4444444444444444,
              "#bd3786"
             ],
             [
              0.5555555555555556,
              "#d8576b"
             ],
             [
              0.6666666666666666,
              "#ed7953"
             ],
             [
              0.7777777777777778,
              "#fb9f3a"
             ],
             [
              0.8888888888888888,
              "#fdca26"
             ],
             [
              1,
              "#f0f921"
             ]
            ],
            "type": "histogram2d"
           }
          ],
          "histogram2dcontour": [
           {
            "colorbar": {
             "outlinewidth": 0,
             "ticks": ""
            },
            "colorscale": [
             [
              0,
              "#0d0887"
             ],
             [
              0.1111111111111111,
              "#46039f"
             ],
             [
              0.2222222222222222,
              "#7201a8"
             ],
             [
              0.3333333333333333,
              "#9c179e"
             ],
             [
              0.4444444444444444,
              "#bd3786"
             ],
             [
              0.5555555555555556,
              "#d8576b"
             ],
             [
              0.6666666666666666,
              "#ed7953"
             ],
             [
              0.7777777777777778,
              "#fb9f3a"
             ],
             [
              0.8888888888888888,
              "#fdca26"
             ],
             [
              1,
              "#f0f921"
             ]
            ],
            "type": "histogram2dcontour"
           }
          ],
          "mesh3d": [
           {
            "colorbar": {
             "outlinewidth": 0,
             "ticks": ""
            },
            "type": "mesh3d"
           }
          ],
          "parcoords": [
           {
            "line": {
             "colorbar": {
              "outlinewidth": 0,
              "ticks": ""
             }
            },
            "type": "parcoords"
           }
          ],
          "pie": [
           {
            "automargin": true,
            "type": "pie"
           }
          ],
          "scatter": [
           {
            "fillpattern": {
             "fillmode": "overlay",
             "size": 10,
             "solidity": 0.2
            },
            "type": "scatter"
           }
          ],
          "scatter3d": [
           {
            "line": {
             "colorbar": {
              "outlinewidth": 0,
              "ticks": ""
             }
            },
            "marker": {
             "colorbar": {
              "outlinewidth": 0,
              "ticks": ""
             }
            },
            "type": "scatter3d"
           }
          ],
          "scattercarpet": [
           {
            "marker": {
             "colorbar": {
              "outlinewidth": 0,
              "ticks": ""
             }
            },
            "type": "scattercarpet"
           }
          ],
          "scattergeo": [
           {
            "marker": {
             "colorbar": {
              "outlinewidth": 0,
              "ticks": ""
             }
            },
            "type": "scattergeo"
           }
          ],
          "scattergl": [
           {
            "marker": {
             "colorbar": {
              "outlinewidth": 0,
              "ticks": ""
             }
            },
            "type": "scattergl"
           }
          ],
          "scattermapbox": [
           {
            "marker": {
             "colorbar": {
              "outlinewidth": 0,
              "ticks": ""
             }
            },
            "type": "scattermapbox"
           }
          ],
          "scatterpolar": [
           {
            "marker": {
             "colorbar": {
              "outlinewidth": 0,
              "ticks": ""
             }
            },
            "type": "scatterpolar"
           }
          ],
          "scatterpolargl": [
           {
            "marker": {
             "colorbar": {
              "outlinewidth": 0,
              "ticks": ""
             }
            },
            "type": "scatterpolargl"
           }
          ],
          "scatterternary": [
           {
            "marker": {
             "colorbar": {
              "outlinewidth": 0,
              "ticks": ""
             }
            },
            "type": "scatterternary"
           }
          ],
          "surface": [
           {
            "colorbar": {
             "outlinewidth": 0,
             "ticks": ""
            },
            "colorscale": [
             [
              0,
              "#0d0887"
             ],
             [
              0.1111111111111111,
              "#46039f"
             ],
             [
              0.2222222222222222,
              "#7201a8"
             ],
             [
              0.3333333333333333,
              "#9c179e"
             ],
             [
              0.4444444444444444,
              "#bd3786"
             ],
             [
              0.5555555555555556,
              "#d8576b"
             ],
             [
              0.6666666666666666,
              "#ed7953"
             ],
             [
              0.7777777777777778,
              "#fb9f3a"
             ],
             [
              0.8888888888888888,
              "#fdca26"
             ],
             [
              1,
              "#f0f921"
             ]
            ],
            "type": "surface"
           }
          ],
          "table": [
           {
            "cells": {
             "fill": {
              "color": "#EBF0F8"
             },
             "line": {
              "color": "white"
             }
            },
            "header": {
             "fill": {
              "color": "#C8D4E3"
             },
             "line": {
              "color": "white"
             }
            },
            "type": "table"
           }
          ]
         },
         "layout": {
          "annotationdefaults": {
           "arrowcolor": "#2a3f5f",
           "arrowhead": 0,
           "arrowwidth": 1
          },
          "autotypenumbers": "strict",
          "coloraxis": {
           "colorbar": {
            "outlinewidth": 0,
            "ticks": ""
           }
          },
          "colorscale": {
           "diverging": [
            [
             0,
             "#8e0152"
            ],
            [
             0.1,
             "#c51b7d"
            ],
            [
             0.2,
             "#de77ae"
            ],
            [
             0.3,
             "#f1b6da"
            ],
            [
             0.4,
             "#fde0ef"
            ],
            [
             0.5,
             "#f7f7f7"
            ],
            [
             0.6,
             "#e6f5d0"
            ],
            [
             0.7,
             "#b8e186"
            ],
            [
             0.8,
             "#7fbc41"
            ],
            [
             0.9,
             "#4d9221"
            ],
            [
             1,
             "#276419"
            ]
           ],
           "sequential": [
            [
             0,
             "#0d0887"
            ],
            [
             0.1111111111111111,
             "#46039f"
            ],
            [
             0.2222222222222222,
             "#7201a8"
            ],
            [
             0.3333333333333333,
             "#9c179e"
            ],
            [
             0.4444444444444444,
             "#bd3786"
            ],
            [
             0.5555555555555556,
             "#d8576b"
            ],
            [
             0.6666666666666666,
             "#ed7953"
            ],
            [
             0.7777777777777778,
             "#fb9f3a"
            ],
            [
             0.8888888888888888,
             "#fdca26"
            ],
            [
             1,
             "#f0f921"
            ]
           ],
           "sequentialminus": [
            [
             0,
             "#0d0887"
            ],
            [
             0.1111111111111111,
             "#46039f"
            ],
            [
             0.2222222222222222,
             "#7201a8"
            ],
            [
             0.3333333333333333,
             "#9c179e"
            ],
            [
             0.4444444444444444,
             "#bd3786"
            ],
            [
             0.5555555555555556,
             "#d8576b"
            ],
            [
             0.6666666666666666,
             "#ed7953"
            ],
            [
             0.7777777777777778,
             "#fb9f3a"
            ],
            [
             0.8888888888888888,
             "#fdca26"
            ],
            [
             1,
             "#f0f921"
            ]
           ]
          },
          "colorway": [
           "#636efa",
           "#EF553B",
           "#00cc96",
           "#ab63fa",
           "#FFA15A",
           "#19d3f3",
           "#FF6692",
           "#B6E880",
           "#FF97FF",
           "#FECB52"
          ],
          "font": {
           "color": "#2a3f5f"
          },
          "geo": {
           "bgcolor": "white",
           "lakecolor": "white",
           "landcolor": "#E5ECF6",
           "showlakes": true,
           "showland": true,
           "subunitcolor": "white"
          },
          "hoverlabel": {
           "align": "left"
          },
          "hovermode": "closest",
          "mapbox": {
           "style": "light"
          },
          "paper_bgcolor": "white",
          "plot_bgcolor": "#E5ECF6",
          "polar": {
           "angularaxis": {
            "gridcolor": "white",
            "linecolor": "white",
            "ticks": ""
           },
           "bgcolor": "#E5ECF6",
           "radialaxis": {
            "gridcolor": "white",
            "linecolor": "white",
            "ticks": ""
           }
          },
          "scene": {
           "xaxis": {
            "backgroundcolor": "#E5ECF6",
            "gridcolor": "white",
            "gridwidth": 2,
            "linecolor": "white",
            "showbackground": true,
            "ticks": "",
            "zerolinecolor": "white"
           },
           "yaxis": {
            "backgroundcolor": "#E5ECF6",
            "gridcolor": "white",
            "gridwidth": 2,
            "linecolor": "white",
            "showbackground": true,
            "ticks": "",
            "zerolinecolor": "white"
           },
           "zaxis": {
            "backgroundcolor": "#E5ECF6",
            "gridcolor": "white",
            "gridwidth": 2,
            "linecolor": "white",
            "showbackground": true,
            "ticks": "",
            "zerolinecolor": "white"
           }
          },
          "shapedefaults": {
           "line": {
            "color": "#2a3f5f"
           }
          },
          "ternary": {
           "aaxis": {
            "gridcolor": "white",
            "linecolor": "white",
            "ticks": ""
           },
           "baxis": {
            "gridcolor": "white",
            "linecolor": "white",
            "ticks": ""
           },
           "bgcolor": "#E5ECF6",
           "caxis": {
            "gridcolor": "white",
            "linecolor": "white",
            "ticks": ""
           }
          },
          "title": {
           "x": 0.05
          },
          "xaxis": {
           "automargin": true,
           "gridcolor": "white",
           "linecolor": "white",
           "ticks": "",
           "title": {
            "standoff": 15
           },
           "zerolinecolor": "white",
           "zerolinewidth": 2
          },
          "yaxis": {
           "automargin": true,
           "gridcolor": "white",
           "linecolor": "white",
           "ticks": "",
           "title": {
            "standoff": 15
           },
           "zerolinecolor": "white",
           "zerolinewidth": 2
          }
         }
        },
        "title": {
         "text": "Top 10 Body Types and Others"
        },
        "width": 600
       }
      }
     },
     "metadata": {},
     "output_type": "display_data"
    }
   ],
   "source": [
    "#Count the occurrences of each body type\n",
    "body_counts = car_df['body'].value_counts()\n",
    "\n",
    "#Get the top 10 body types\n",
    "top_10_bodies = body_counts.head(10)\n",
    "\n",
    "#Sum the counts of the body types not in the top 10\n",
    "other_count = body_counts[10:].sum()\n",
    "\n",
    "#Create a DataFrame with the top 10 bodies\n",
    "top_bodies_df = pd.DataFrame({\n",
    "    'body': top_10_bodies.index,\n",
    "    'percent': top_10_bodies.values / len(car_df)\n",
    "})\n",
    "\n",
    "#Calculate 'Other' category and create its DataFrame\n",
    "other_df = pd.DataFrame({'body': ['Other'], 'percent': [other_count / len(car_df)]})\n",
    "\n",
    "#Concatenate top 10 bodies DataFrame and 'Other' DataFrame\n",
    "combined_df = pd.concat([top_bodies_df, other_df], ignore_index=True)\n",
    "\n",
    "#Create the pie chart using Plotly\n",
    "fig = px.pie(\n",
    "    combined_df,\n",
    "    names='body',\n",
    "    values='percent',\n",
    "    title='Top 10 Body Types and Others',\n",
    "    width=600,\n",
    "    height=500\n",
    ")\n",
    "\n",
    "fig.show()"
   ]
  },
  {
   "cell_type": "code",
   "execution_count": 34,
   "metadata": {},
   "outputs": [
    {
     "data": {
      "image/png": "[encoded data removed]",
      "text/plain": [
       "<Figure size 1200x600 with 2 Axes>"
      ]
     },
     "metadata": {},
     "output_type": "display_data"
    }
   ],
   "source": [
    "# Grouping by 'brand' and getting count of cars sold\n",
    "cars_count = car_df['brand'].value_counts()\n",
    "\n",
    "# Selecting top 10 car brands based on max selling price\n",
    "top_car_brands = cars_count.head(10)\n",
    "\n",
    "# Plotting a bar chart showing max selling price for top 10 car brands\n",
    "plt.figure(figsize=(12, 6))\n",
    "\n",
    "# Subplot for the bar chart\n",
    "plt.subplot(1, 2, 1)\n",
    "sns.barplot(x=top_car_brands.values, y=top_car_brands.index, palette='viridis')\n",
    "plt.title('Top 10 Car Models by Max Price')\n",
    "plt.xlabel('Max Price')\n",
    "plt.ylabel('Car Model')\n",
    "\n",
    "# Subplot for the table showing count of cars sold\n",
    "plt.subplot(1, 2, 2)\n",
    "plt.table(cellText=top_car_brands.values.reshape(-1, 1), \n",
    "          rowLabels=top_car_brands.index, \n",
    "          colLabels=['Count of Cars Sold'], \n",
    "          loc='center')\n",
    "plt.axis('off')  # Hide axis for the table\n",
    "\n",
    "plt.tight_layout()\n",
    "plt.show()"
   ]
  },
  {
   "cell_type": "code",
   "execution_count": 35,
   "metadata": {},
   "outputs": [
    {
     "name": "stdout",
     "output_type": "stream",
     "text": [
      "                sum_sq        df           F  PR(>F)\n",
      "C(brand)  1.057256e+13      54.0  2597.53483     0.0\n",
      "Residual  4.133965e+13  548456.0         NaN     NaN\n"
     ]
    }
   ],
   "source": [
    "# Performing ANOVA for 'brand' and 'sellingprice'\n",
    "model = ols('sellingprice ~ C(brand)', data=car_df).fit()\n",
    "anova_table = sm.stats.anova_lm(model, typ=2)\n",
    "print(anova_table)"
   ]
  },
  {
   "cell_type": "markdown",
   "metadata": {},
   "source": [
    "The ANOVA test results show a strong relationship between the vehicle brands and their selling prices. The p-value of nearly zero indicates a significant difference in selling prices across different brands. In essence, the brand of a vehicle significantly influences its selling price in the market."
   ]
  },
  {
   "cell_type": "code",
   "execution_count": null,
   "metadata": {},
   "outputs": [
    {
     "name": "stdout",
     "output_type": "stream",
     "text": [
      "                sum_sq        df            F  PR(>F)\n",
      "C(body)   5.436064e+12      43.0  1493.942675     0.0\n",
      "Residual  4.616736e+13  545573.0          NaN     NaN\n"
     ]
    }
   ],
   "source": [
    "# Performing ANOVA for 'brand' and 'sellingprice'\n",
    "model = ols('sellingprice ~ C(body)', data=car_df).fit()\n",
    "anova_table = sm.stats.anova_lm(model, typ=2)\n",
    "print(anova_table)"
   ]
  },
  {
   "cell_type": "code",
   "execution_count": null,
   "metadata": {},
   "outputs": [
    {
     "name": "stdout",
     "output_type": "stream",
     "text": [
      "                       sum_sq        df            F         PR(>F)\n",
      "C(transmission)  1.094535e+11       1.0  1167.581132  1.262530e-255\n",
      "Residual         5.134058e+13  547669.0          NaN            NaN\n"
     ]
    }
   ],
   "source": [
    "# Performing ANOVA for 'brand' and 'sellingprice'\n",
    "model = ols('sellingprice ~ C(transmission)', data=car_df).fit()\n",
    "anova_table = sm.stats.anova_lm(model, typ=2)\n",
    "print(anova_table)"
   ]
  },
  {
   "cell_type": "code",
   "execution_count": null,
   "metadata": {},
   "outputs": [
    {
     "name": "stdout",
     "output_type": "stream",
     "text": [
      "                sum_sq        df           F  PR(>F)\n",
      "C(state)  2.696881e+12      37.0  807.760197     0.0\n",
      "Residual  5.042126e+13  558774.0         NaN     NaN\n"
     ]
    }
   ],
   "source": [
    "# Performing ANOVA for 'brand' and 'sellingprice'\n",
    "model = ols('sellingprice ~ C(state)', data=car_df).fit()\n",
    "anova_table = sm.stats.anova_lm(model, typ=2)\n",
    "print(anova_table)"
   ]
  },
  {
   "cell_type": "code",
   "execution_count": null,
   "metadata": {},
   "outputs": [
    {
     "name": "stdout",
     "output_type": "stream",
     "text": [
      "                sum_sq        df            F  PR(>F)\n",
      "C(color)  2.405852e+12      19.0  1402.400717     0.0\n",
      "Residual  5.038611e+13  558043.0          NaN     NaN\n"
     ]
    }
   ],
   "source": [
    "# Performing ANOVA for 'brand' and 'sellingprice'\n",
    "model = ols('sellingprice ~ C(color)', data=car_df).fit()\n",
    "anova_table = sm.stats.anova_lm(model, typ=2)\n",
    "print(anova_table)"
   ]
  },
  {
   "cell_type": "code",
   "execution_count": null,
   "metadata": {},
   "outputs": [
    {
     "name": "stdout",
     "output_type": "stream",
     "text": [
      "                   sum_sq        df            F  PR(>F)\n",
      "C(interior)  3.165274e+12      16.0  2224.569593     0.0\n",
      "Residual     4.962669e+13  558046.0          NaN     NaN\n"
     ]
    }
   ],
   "source": [
    "# Performing ANOVA for 'brand' and 'sellingprice'\n",
    "model = ols('sellingprice ~ C(interior)', data=car_df).fit()\n",
    "anova_table = sm.stats.anova_lm(model, typ=2)\n",
    "print(anova_table)"
   ]
  },
  {
   "cell_type": "code",
   "execution_count": 1,
   "metadata": {},
   "outputs": [
    {
     "ename": "SyntaxError",
     "evalue": "invalid syntax (980637034.py, line 1)",
     "output_type": "error",
     "traceback": [
      "\u001b[0;36m  Cell \u001b[0;32mIn[1], line 1\u001b[0;36m\u001b[0m\n\u001b[0;31m    test carl\u001b[0m\n\u001b[0m         ^\u001b[0m\n\u001b[0;31mSyntaxError\u001b[0m\u001b[0;31m:\u001b[0m invalid syntax\n"
     ]
    }
   ],
   "source": [
    "test carl"
   ]
  }
 ],
 "metadata": {
  "kernelspec": {
   "display_name": "base",
   "language": "python",
   "name": "python3"
  },
  "language_info": {
   "codemirror_mode": {
    "name": "ipython",
    "version": 3
   },
   "file_extension": ".py",
   "mimetype": "text/x-python",
   "name": "python",
   "nbconvert_exporter": "python",
   "pygments_lexer": "ipython3",
   "version": "3.11.4"
  }
 },
 "nbformat": 4,
 "nbformat_minor": 2
}
