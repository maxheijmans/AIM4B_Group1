{
 "cells": [
  {
   "cell_type": "code",
   "execution_count": 54,
   "metadata": {},
   "outputs": [],
   "source": [
    "import pandas as pd\n",
    "import seaborn as sns\n",
    "import matplotlib.pyplot as plt\n",
    "from sklearn.impute import KNNImputer\n",
    "from sklearn.preprocessing import LabelEncoder\n",
    "import pandas as pd\n",
    "import plotly.express as px\n",
    "import statsmodels.api as sm\n",
    "from statsmodels.formula.api import ols\n",
    "from sklearn.impute import SimpleImputer"
   ]
  },
  {
   "cell_type": "markdown",
   "metadata": {},
   "source": [
    "### 0. Data familiarisation and cleaning"
   ]
  },
  {
   "cell_type": "code",
   "execution_count": 55,
   "metadata": {},
   "outputs": [
    {
     "name": "stdout",
     "output_type": "stream",
     "text": [
      "Original length of dataframe: 558811\n",
      "There are 558811 rows and 16 columns in the dataset\n"
     ]
    }
   ],
   "source": [
    "# Impporting csv file\n",
    "car_df = pd.read_csv(r\"car_prices.csv\", delimiter=',', on_bad_lines='skip') # Skipping 17 out of 558812, because of faulty data\n",
    "df_original_len = len(car_df)\n",
    "print('Original length of dataframe:', df_original_len)\n",
    "print(\"There are {} rows and {} columns in the dataset\".format(car_df.shape[0], car_df.shape[1]))"
   ]
  },
  {
   "cell_type": "code",
   "execution_count": 56,
   "metadata": {},
   "outputs": [
    {
     "data": {
      "text/html": [
       "<div>\n",
       "<style scoped>\n",
       "    .dataframe tbody tr th:only-of-type {\n",
       "        vertical-align: middle;\n",
       "    }\n",
       "\n",
       "    .dataframe tbody tr th {\n",
       "        vertical-align: top;\n",
       "    }\n",
       "\n",
       "    .dataframe thead th {\n",
       "        text-align: right;\n",
       "    }\n",
       "</style>\n",
       "<table border=\"1\" class=\"dataframe\">\n",
       "  <thead>\n",
       "    <tr style=\"text-align: right;\">\n",
       "      <th></th>\n",
       "      <th>year</th>\n",
       "      <th>make</th>\n",
       "      <th>model</th>\n",
       "      <th>trim</th>\n",
       "      <th>body</th>\n",
       "      <th>transmission</th>\n",
       "      <th>vin</th>\n",
       "      <th>state</th>\n",
       "      <th>condition</th>\n",
       "      <th>odometer</th>\n",
       "      <th>color</th>\n",
       "      <th>interior</th>\n",
       "      <th>seller</th>\n",
       "      <th>mmr</th>\n",
       "      <th>sellingprice</th>\n",
       "      <th>saledate</th>\n",
       "    </tr>\n",
       "  </thead>\n",
       "  <tbody>\n",
       "    <tr>\n",
       "      <th>0</th>\n",
       "      <td>2015</td>\n",
       "      <td>Kia</td>\n",
       "      <td>Sorento</td>\n",
       "      <td>LX</td>\n",
       "      <td>SUV</td>\n",
       "      <td>automatic</td>\n",
       "      <td>5xyktca69fg566472</td>\n",
       "      <td>ca</td>\n",
       "      <td>5.0</td>\n",
       "      <td>16639.0</td>\n",
       "      <td>white</td>\n",
       "      <td>black</td>\n",
       "      <td>kia motors america, inc</td>\n",
       "      <td>20500</td>\n",
       "      <td>21500</td>\n",
       "      <td>Tue Dec 16 2014 12:30:00 GMT-0800 (PST)</td>\n",
       "    </tr>\n",
       "    <tr>\n",
       "      <th>1</th>\n",
       "      <td>2015</td>\n",
       "      <td>Kia</td>\n",
       "      <td>Sorento</td>\n",
       "      <td>LX</td>\n",
       "      <td>SUV</td>\n",
       "      <td>automatic</td>\n",
       "      <td>5xyktca69fg561319</td>\n",
       "      <td>ca</td>\n",
       "      <td>5.0</td>\n",
       "      <td>9393.0</td>\n",
       "      <td>white</td>\n",
       "      <td>beige</td>\n",
       "      <td>kia motors america, inc</td>\n",
       "      <td>20800</td>\n",
       "      <td>21500</td>\n",
       "      <td>Tue Dec 16 2014 12:30:00 GMT-0800 (PST)</td>\n",
       "    </tr>\n",
       "    <tr>\n",
       "      <th>2</th>\n",
       "      <td>2014</td>\n",
       "      <td>BMW</td>\n",
       "      <td>3 Series</td>\n",
       "      <td>328i SULEV</td>\n",
       "      <td>Sedan</td>\n",
       "      <td>automatic</td>\n",
       "      <td>wba3c1c51ek116351</td>\n",
       "      <td>ca</td>\n",
       "      <td>4.5</td>\n",
       "      <td>1331.0</td>\n",
       "      <td>gray</td>\n",
       "      <td>black</td>\n",
       "      <td>financial services remarketing (lease)</td>\n",
       "      <td>31900</td>\n",
       "      <td>30000</td>\n",
       "      <td>Thu Jan 15 2015 04:30:00 GMT-0800 (PST)</td>\n",
       "    </tr>\n",
       "    <tr>\n",
       "      <th>3</th>\n",
       "      <td>2015</td>\n",
       "      <td>Volvo</td>\n",
       "      <td>S60</td>\n",
       "      <td>T5</td>\n",
       "      <td>Sedan</td>\n",
       "      <td>automatic</td>\n",
       "      <td>yv1612tb4f1310987</td>\n",
       "      <td>ca</td>\n",
       "      <td>4.1</td>\n",
       "      <td>14282.0</td>\n",
       "      <td>white</td>\n",
       "      <td>black</td>\n",
       "      <td>volvo na rep/world omni</td>\n",
       "      <td>27500</td>\n",
       "      <td>27750</td>\n",
       "      <td>Thu Jan 29 2015 04:30:00 GMT-0800 (PST)</td>\n",
       "    </tr>\n",
       "    <tr>\n",
       "      <th>4</th>\n",
       "      <td>2014</td>\n",
       "      <td>BMW</td>\n",
       "      <td>6 Series Gran Coupe</td>\n",
       "      <td>650i</td>\n",
       "      <td>Sedan</td>\n",
       "      <td>automatic</td>\n",
       "      <td>wba6b2c57ed129731</td>\n",
       "      <td>ca</td>\n",
       "      <td>4.3</td>\n",
       "      <td>2641.0</td>\n",
       "      <td>gray</td>\n",
       "      <td>black</td>\n",
       "      <td>financial services remarketing (lease)</td>\n",
       "      <td>66000</td>\n",
       "      <td>67000</td>\n",
       "      <td>Thu Dec 18 2014 12:30:00 GMT-0800 (PST)</td>\n",
       "    </tr>\n",
       "  </tbody>\n",
       "</table>\n",
       "</div>"
      ],
      "text/plain": [
       "   year   make                model        trim   body transmission  \\\n",
       "0  2015    Kia              Sorento          LX    SUV    automatic   \n",
       "1  2015    Kia              Sorento          LX    SUV    automatic   \n",
       "2  2014    BMW             3 Series  328i SULEV  Sedan    automatic   \n",
       "3  2015  Volvo                  S60          T5  Sedan    automatic   \n",
       "4  2014    BMW  6 Series Gran Coupe        650i  Sedan    automatic   \n",
       "\n",
       "                 vin state  condition  odometer  color interior  \\\n",
       "0  5xyktca69fg566472    ca        5.0   16639.0  white    black   \n",
       "1  5xyktca69fg561319    ca        5.0    9393.0  white    beige   \n",
       "2  wba3c1c51ek116351    ca        4.5    1331.0   gray    black   \n",
       "3  yv1612tb4f1310987    ca        4.1   14282.0  white    black   \n",
       "4  wba6b2c57ed129731    ca        4.3    2641.0   gray    black   \n",
       "\n",
       "                                   seller    mmr  sellingprice  \\\n",
       "0                 kia motors america, inc  20500         21500   \n",
       "1                 kia motors america, inc  20800         21500   \n",
       "2  financial services remarketing (lease)  31900         30000   \n",
       "3                 volvo na rep/world omni  27500         27750   \n",
       "4  financial services remarketing (lease)  66000         67000   \n",
       "\n",
       "                                  saledate  \n",
       "0  Tue Dec 16 2014 12:30:00 GMT-0800 (PST)  \n",
       "1  Tue Dec 16 2014 12:30:00 GMT-0800 (PST)  \n",
       "2  Thu Jan 15 2015 04:30:00 GMT-0800 (PST)  \n",
       "3  Thu Jan 29 2015 04:30:00 GMT-0800 (PST)  \n",
       "4  Thu Dec 18 2014 12:30:00 GMT-0800 (PST)  "
      ]
     },
     "execution_count": 56,
     "metadata": {},
     "output_type": "execute_result"
    }
   ],
   "source": [
    "car_df.head()"
   ]
  },
  {
   "cell_type": "code",
   "execution_count": 57,
   "metadata": {},
   "outputs": [
    {
     "data": {
      "text/html": [
       "<div>\n",
       "<style scoped>\n",
       "    .dataframe tbody tr th:only-of-type {\n",
       "        vertical-align: middle;\n",
       "    }\n",
       "\n",
       "    .dataframe tbody tr th {\n",
       "        vertical-align: top;\n",
       "    }\n",
       "\n",
       "    .dataframe thead th {\n",
       "        text-align: right;\n",
       "    }\n",
       "</style>\n",
       "<table border=\"1\" class=\"dataframe\">\n",
       "  <thead>\n",
       "    <tr style=\"text-align: right;\">\n",
       "      <th></th>\n",
       "      <th>year</th>\n",
       "      <th>make</th>\n",
       "      <th>model</th>\n",
       "      <th>trim</th>\n",
       "      <th>body</th>\n",
       "      <th>transmission</th>\n",
       "      <th>vin</th>\n",
       "      <th>state</th>\n",
       "      <th>condition</th>\n",
       "      <th>odometer</th>\n",
       "      <th>color</th>\n",
       "      <th>interior</th>\n",
       "      <th>seller</th>\n",
       "      <th>mmr</th>\n",
       "      <th>sellingprice</th>\n",
       "      <th>saledate</th>\n",
       "    </tr>\n",
       "  </thead>\n",
       "  <tbody>\n",
       "    <tr>\n",
       "      <th>558806</th>\n",
       "      <td>2015</td>\n",
       "      <td>Kia</td>\n",
       "      <td>K900</td>\n",
       "      <td>Luxury</td>\n",
       "      <td>Sedan</td>\n",
       "      <td>NaN</td>\n",
       "      <td>knalw4d4xf6019304</td>\n",
       "      <td>in</td>\n",
       "      <td>4.5</td>\n",
       "      <td>18255.0</td>\n",
       "      <td>silver</td>\n",
       "      <td>black</td>\n",
       "      <td>avis corporation</td>\n",
       "      <td>35300</td>\n",
       "      <td>33000</td>\n",
       "      <td>Thu Jul 09 2015 07:00:00 GMT-0700 (PDT)</td>\n",
       "    </tr>\n",
       "    <tr>\n",
       "      <th>558807</th>\n",
       "      <td>2012</td>\n",
       "      <td>Ram</td>\n",
       "      <td>2500</td>\n",
       "      <td>Power Wagon</td>\n",
       "      <td>Crew Cab</td>\n",
       "      <td>automatic</td>\n",
       "      <td>3c6td5et6cg112407</td>\n",
       "      <td>wa</td>\n",
       "      <td>5.0</td>\n",
       "      <td>54393.0</td>\n",
       "      <td>white</td>\n",
       "      <td>black</td>\n",
       "      <td>i -5 uhlmann rv</td>\n",
       "      <td>30200</td>\n",
       "      <td>30800</td>\n",
       "      <td>Wed Jul 08 2015 09:30:00 GMT-0700 (PDT)</td>\n",
       "    </tr>\n",
       "    <tr>\n",
       "      <th>558808</th>\n",
       "      <td>2012</td>\n",
       "      <td>BMW</td>\n",
       "      <td>X5</td>\n",
       "      <td>xDrive35d</td>\n",
       "      <td>SUV</td>\n",
       "      <td>automatic</td>\n",
       "      <td>5uxzw0c58cl668465</td>\n",
       "      <td>ca</td>\n",
       "      <td>4.8</td>\n",
       "      <td>50561.0</td>\n",
       "      <td>black</td>\n",
       "      <td>black</td>\n",
       "      <td>financial services remarketing (lease)</td>\n",
       "      <td>29800</td>\n",
       "      <td>34000</td>\n",
       "      <td>Wed Jul 08 2015 09:30:00 GMT-0700 (PDT)</td>\n",
       "    </tr>\n",
       "    <tr>\n",
       "      <th>558809</th>\n",
       "      <td>2015</td>\n",
       "      <td>Nissan</td>\n",
       "      <td>Altima</td>\n",
       "      <td>2.5 S</td>\n",
       "      <td>sedan</td>\n",
       "      <td>automatic</td>\n",
       "      <td>1n4al3ap0fc216050</td>\n",
       "      <td>ga</td>\n",
       "      <td>3.8</td>\n",
       "      <td>16658.0</td>\n",
       "      <td>white</td>\n",
       "      <td>black</td>\n",
       "      <td>enterprise vehicle exchange / tra / rental / t...</td>\n",
       "      <td>15100</td>\n",
       "      <td>11100</td>\n",
       "      <td>Thu Jul 09 2015 06:45:00 GMT-0700 (PDT)</td>\n",
       "    </tr>\n",
       "    <tr>\n",
       "      <th>558810</th>\n",
       "      <td>2014</td>\n",
       "      <td>Ford</td>\n",
       "      <td>F-150</td>\n",
       "      <td>XLT</td>\n",
       "      <td>SuperCrew</td>\n",
       "      <td>automatic</td>\n",
       "      <td>1ftfw1et2eke87277</td>\n",
       "      <td>ca</td>\n",
       "      <td>3.4</td>\n",
       "      <td>15008.0</td>\n",
       "      <td>gray</td>\n",
       "      <td>gray</td>\n",
       "      <td>ford motor credit company,llc pd</td>\n",
       "      <td>29600</td>\n",
       "      <td>26700</td>\n",
       "      <td>Thu May 28 2015 05:30:00 GMT-0700 (PDT)</td>\n",
       "    </tr>\n",
       "  </tbody>\n",
       "</table>\n",
       "</div>"
      ],
      "text/plain": [
       "        year    make   model         trim       body transmission  \\\n",
       "558806  2015     Kia    K900       Luxury      Sedan          NaN   \n",
       "558807  2012     Ram    2500  Power Wagon   Crew Cab    automatic   \n",
       "558808  2012     BMW      X5    xDrive35d        SUV    automatic   \n",
       "558809  2015  Nissan  Altima        2.5 S      sedan    automatic   \n",
       "558810  2014    Ford   F-150          XLT  SuperCrew    automatic   \n",
       "\n",
       "                      vin state  condition  odometer   color interior  \\\n",
       "558806  knalw4d4xf6019304    in        4.5   18255.0  silver    black   \n",
       "558807  3c6td5et6cg112407    wa        5.0   54393.0   white    black   \n",
       "558808  5uxzw0c58cl668465    ca        4.8   50561.0   black    black   \n",
       "558809  1n4al3ap0fc216050    ga        3.8   16658.0   white    black   \n",
       "558810  1ftfw1et2eke87277    ca        3.4   15008.0    gray     gray   \n",
       "\n",
       "                                                   seller    mmr  \\\n",
       "558806                                   avis corporation  35300   \n",
       "558807                                    i -5 uhlmann rv  30200   \n",
       "558808             financial services remarketing (lease)  29800   \n",
       "558809  enterprise vehicle exchange / tra / rental / t...  15100   \n",
       "558810                   ford motor credit company,llc pd  29600   \n",
       "\n",
       "        sellingprice                                 saledate  \n",
       "558806         33000  Thu Jul 09 2015 07:00:00 GMT-0700 (PDT)  \n",
       "558807         30800  Wed Jul 08 2015 09:30:00 GMT-0700 (PDT)  \n",
       "558808         34000  Wed Jul 08 2015 09:30:00 GMT-0700 (PDT)  \n",
       "558809         11100  Thu Jul 09 2015 06:45:00 GMT-0700 (PDT)  \n",
       "558810         26700  Thu May 28 2015 05:30:00 GMT-0700 (PDT)  "
      ]
     },
     "execution_count": 57,
     "metadata": {},
     "output_type": "execute_result"
    }
   ],
   "source": [
    "car_df.tail()"
   ]
  },
  {
   "cell_type": "code",
   "execution_count": 58,
   "metadata": {},
   "outputs": [],
   "source": [
    "#renaming 'make' to 'brand' for easier understanding\n",
    "car_df.rename(columns={'make': 'brand'}, inplace=True)"
   ]
  },
  {
   "cell_type": "code",
   "execution_count": 59,
   "metadata": {},
   "outputs": [
    {
     "data": {
      "text/html": [
       "<div>\n",
       "<style scoped>\n",
       "    .dataframe tbody tr th:only-of-type {\n",
       "        vertical-align: middle;\n",
       "    }\n",
       "\n",
       "    .dataframe tbody tr th {\n",
       "        vertical-align: top;\n",
       "    }\n",
       "\n",
       "    .dataframe thead th {\n",
       "        text-align: right;\n",
       "    }\n",
       "</style>\n",
       "<table border=\"1\" class=\"dataframe\">\n",
       "  <thead>\n",
       "    <tr style=\"text-align: right;\">\n",
       "      <th></th>\n",
       "      <th>year</th>\n",
       "      <th>brand</th>\n",
       "      <th>model</th>\n",
       "      <th>trim</th>\n",
       "      <th>body</th>\n",
       "      <th>transmission</th>\n",
       "      <th>vin</th>\n",
       "      <th>state</th>\n",
       "      <th>condition</th>\n",
       "      <th>odometer</th>\n",
       "      <th>color</th>\n",
       "      <th>interior</th>\n",
       "      <th>seller</th>\n",
       "      <th>mmr</th>\n",
       "      <th>sellingprice</th>\n",
       "      <th>saledate</th>\n",
       "    </tr>\n",
       "  </thead>\n",
       "  <tbody>\n",
       "    <tr>\n",
       "      <th>0</th>\n",
       "      <td>2015</td>\n",
       "      <td>Kia</td>\n",
       "      <td>Sorento</td>\n",
       "      <td>LX</td>\n",
       "      <td>SUV</td>\n",
       "      <td>automatic</td>\n",
       "      <td>5xyktca69fg566472</td>\n",
       "      <td>ca</td>\n",
       "      <td>5.0</td>\n",
       "      <td>16639.0</td>\n",
       "      <td>white</td>\n",
       "      <td>black</td>\n",
       "      <td>kia motors america, inc</td>\n",
       "      <td>20500</td>\n",
       "      <td>21500</td>\n",
       "      <td>Tue Dec 16 2014 12:30:00 GMT-0800 (PST)</td>\n",
       "    </tr>\n",
       "    <tr>\n",
       "      <th>1</th>\n",
       "      <td>2015</td>\n",
       "      <td>Kia</td>\n",
       "      <td>Sorento</td>\n",
       "      <td>LX</td>\n",
       "      <td>SUV</td>\n",
       "      <td>automatic</td>\n",
       "      <td>5xyktca69fg561319</td>\n",
       "      <td>ca</td>\n",
       "      <td>5.0</td>\n",
       "      <td>9393.0</td>\n",
       "      <td>white</td>\n",
       "      <td>beige</td>\n",
       "      <td>kia motors america, inc</td>\n",
       "      <td>20800</td>\n",
       "      <td>21500</td>\n",
       "      <td>Tue Dec 16 2014 12:30:00 GMT-0800 (PST)</td>\n",
       "    </tr>\n",
       "    <tr>\n",
       "      <th>2</th>\n",
       "      <td>2014</td>\n",
       "      <td>BMW</td>\n",
       "      <td>3 Series</td>\n",
       "      <td>328i SULEV</td>\n",
       "      <td>Sedan</td>\n",
       "      <td>automatic</td>\n",
       "      <td>wba3c1c51ek116351</td>\n",
       "      <td>ca</td>\n",
       "      <td>4.5</td>\n",
       "      <td>1331.0</td>\n",
       "      <td>gray</td>\n",
       "      <td>black</td>\n",
       "      <td>financial services remarketing (lease)</td>\n",
       "      <td>31900</td>\n",
       "      <td>30000</td>\n",
       "      <td>Thu Jan 15 2015 04:30:00 GMT-0800 (PST)</td>\n",
       "    </tr>\n",
       "    <tr>\n",
       "      <th>3</th>\n",
       "      <td>2015</td>\n",
       "      <td>Volvo</td>\n",
       "      <td>S60</td>\n",
       "      <td>T5</td>\n",
       "      <td>Sedan</td>\n",
       "      <td>automatic</td>\n",
       "      <td>yv1612tb4f1310987</td>\n",
       "      <td>ca</td>\n",
       "      <td>4.1</td>\n",
       "      <td>14282.0</td>\n",
       "      <td>white</td>\n",
       "      <td>black</td>\n",
       "      <td>volvo na rep/world omni</td>\n",
       "      <td>27500</td>\n",
       "      <td>27750</td>\n",
       "      <td>Thu Jan 29 2015 04:30:00 GMT-0800 (PST)</td>\n",
       "    </tr>\n",
       "    <tr>\n",
       "      <th>4</th>\n",
       "      <td>2014</td>\n",
       "      <td>BMW</td>\n",
       "      <td>6 Series Gran Coupe</td>\n",
       "      <td>650i</td>\n",
       "      <td>Sedan</td>\n",
       "      <td>automatic</td>\n",
       "      <td>wba6b2c57ed129731</td>\n",
       "      <td>ca</td>\n",
       "      <td>4.3</td>\n",
       "      <td>2641.0</td>\n",
       "      <td>gray</td>\n",
       "      <td>black</td>\n",
       "      <td>financial services remarketing (lease)</td>\n",
       "      <td>66000</td>\n",
       "      <td>67000</td>\n",
       "      <td>Thu Dec 18 2014 12:30:00 GMT-0800 (PST)</td>\n",
       "    </tr>\n",
       "  </tbody>\n",
       "</table>\n",
       "</div>"
      ],
      "text/plain": [
       "   year  brand                model        trim   body transmission  \\\n",
       "0  2015    Kia              Sorento          LX    SUV    automatic   \n",
       "1  2015    Kia              Sorento          LX    SUV    automatic   \n",
       "2  2014    BMW             3 Series  328i SULEV  Sedan    automatic   \n",
       "3  2015  Volvo                  S60          T5  Sedan    automatic   \n",
       "4  2014    BMW  6 Series Gran Coupe        650i  Sedan    automatic   \n",
       "\n",
       "                 vin state  condition  odometer  color interior  \\\n",
       "0  5xyktca69fg566472    ca        5.0   16639.0  white    black   \n",
       "1  5xyktca69fg561319    ca        5.0    9393.0  white    beige   \n",
       "2  wba3c1c51ek116351    ca        4.5    1331.0   gray    black   \n",
       "3  yv1612tb4f1310987    ca        4.1   14282.0  white    black   \n",
       "4  wba6b2c57ed129731    ca        4.3    2641.0   gray    black   \n",
       "\n",
       "                                   seller    mmr  sellingprice  \\\n",
       "0                 kia motors america, inc  20500         21500   \n",
       "1                 kia motors america, inc  20800         21500   \n",
       "2  financial services remarketing (lease)  31900         30000   \n",
       "3                 volvo na rep/world omni  27500         27750   \n",
       "4  financial services remarketing (lease)  66000         67000   \n",
       "\n",
       "                                  saledate  \n",
       "0  Tue Dec 16 2014 12:30:00 GMT-0800 (PST)  \n",
       "1  Tue Dec 16 2014 12:30:00 GMT-0800 (PST)  \n",
       "2  Thu Jan 15 2015 04:30:00 GMT-0800 (PST)  \n",
       "3  Thu Jan 29 2015 04:30:00 GMT-0800 (PST)  \n",
       "4  Thu Dec 18 2014 12:30:00 GMT-0800 (PST)  "
      ]
     },
     "execution_count": 59,
     "metadata": {},
     "output_type": "execute_result"
    }
   ],
   "source": [
    "car_df.head()"
   ]
  },
  {
   "cell_type": "code",
   "execution_count": 60,
   "metadata": {},
   "outputs": [
    {
     "name": "stdout",
     "output_type": "stream",
     "text": [
      "<class 'pandas.core.frame.DataFrame'>\n",
      "RangeIndex: 558811 entries, 0 to 558810\n",
      "Data columns (total 16 columns):\n",
      " #   Column        Non-Null Count   Dtype  \n",
      "---  ------        --------------   -----  \n",
      " 0   year          558811 non-null  int64  \n",
      " 1   brand         548510 non-null  object \n",
      " 2   model         548412 non-null  object \n",
      " 3   trim          548160 non-null  object \n",
      " 4   body          545616 non-null  object \n",
      " 5   transmission  493458 non-null  object \n",
      " 6   vin           558811 non-null  object \n",
      " 7   state         558811 non-null  object \n",
      " 8   condition     547017 non-null  float64\n",
      " 9   odometer      558717 non-null  float64\n",
      " 10  color         558062 non-null  object \n",
      " 11  interior      558062 non-null  object \n",
      " 12  seller        558811 non-null  object \n",
      " 13  mmr           558811 non-null  int64  \n",
      " 14  sellingprice  558811 non-null  int64  \n",
      " 15  saledate      558811 non-null  object \n",
      "dtypes: float64(2), int64(3), object(11)\n",
      "memory usage: 68.2+ MB\n",
      "year             0.000000\n",
      "brand            1.843378\n",
      "model            1.860915\n",
      "trim             1.906011\n",
      "body             2.361263\n",
      "transmission    11.695010\n",
      "vin              0.000000\n",
      "state            0.000000\n",
      "condition        2.110553\n",
      "odometer         0.016821\n",
      "color            0.134035\n",
      "interior         0.134035\n",
      "seller           0.000000\n",
      "mmr              0.000000\n",
      "sellingprice     0.000000\n",
      "saledate         0.000000\n",
      "dtype: float64\n"
     ]
    }
   ],
   "source": [
    "#Getting dataframe information\n",
    "car_df.info()\n",
    "\n",
    "# Calculate the percentage of missing values for each column\n",
    "missing_percentage = car_df.isnull().mean() * 100\n",
    "\n",
    "# Display the missing percentages\n",
    "print(missing_percentage)"
   ]
  },
  {
   "cell_type": "code",
   "execution_count": 61,
   "metadata": {},
   "outputs": [
    {
     "data": {
      "text/html": [
       "<div>\n",
       "<style scoped>\n",
       "    .dataframe tbody tr th:only-of-type {\n",
       "        vertical-align: middle;\n",
       "    }\n",
       "\n",
       "    .dataframe tbody tr th {\n",
       "        vertical-align: top;\n",
       "    }\n",
       "\n",
       "    .dataframe thead th {\n",
       "        text-align: right;\n",
       "    }\n",
       "</style>\n",
       "<table border=\"1\" class=\"dataframe\">\n",
       "  <thead>\n",
       "    <tr style=\"text-align: right;\">\n",
       "      <th></th>\n",
       "      <th>brand</th>\n",
       "      <th>model</th>\n",
       "      <th>trim</th>\n",
       "      <th>body</th>\n",
       "      <th>transmission</th>\n",
       "      <th>vin</th>\n",
       "      <th>state</th>\n",
       "      <th>color</th>\n",
       "      <th>interior</th>\n",
       "      <th>seller</th>\n",
       "      <th>saledate</th>\n",
       "    </tr>\n",
       "  </thead>\n",
       "  <tbody>\n",
       "    <tr>\n",
       "      <th>count</th>\n",
       "      <td>548510</td>\n",
       "      <td>548412</td>\n",
       "      <td>548160</td>\n",
       "      <td>545616</td>\n",
       "      <td>493458</td>\n",
       "      <td>558811</td>\n",
       "      <td>558811</td>\n",
       "      <td>558062</td>\n",
       "      <td>558062</td>\n",
       "      <td>558811</td>\n",
       "      <td>558811</td>\n",
       "    </tr>\n",
       "    <tr>\n",
       "      <th>unique</th>\n",
       "      <td>96</td>\n",
       "      <td>973</td>\n",
       "      <td>1975</td>\n",
       "      <td>86</td>\n",
       "      <td>2</td>\n",
       "      <td>550296</td>\n",
       "      <td>38</td>\n",
       "      <td>20</td>\n",
       "      <td>17</td>\n",
       "      <td>14264</td>\n",
       "      <td>3745</td>\n",
       "    </tr>\n",
       "    <tr>\n",
       "      <th>top</th>\n",
       "      <td>Ford</td>\n",
       "      <td>Altima</td>\n",
       "      <td>Base</td>\n",
       "      <td>Sedan</td>\n",
       "      <td>automatic</td>\n",
       "      <td>wbanv13588cz57827</td>\n",
       "      <td>fl</td>\n",
       "      <td>black</td>\n",
       "      <td>black</td>\n",
       "      <td>nissan-infiniti lt</td>\n",
       "      <td>Tue Feb 10 2015 01:30:00 GMT-0800 (PST)</td>\n",
       "    </tr>\n",
       "    <tr>\n",
       "      <th>freq</th>\n",
       "      <td>93554</td>\n",
       "      <td>19349</td>\n",
       "      <td>55817</td>\n",
       "      <td>199437</td>\n",
       "      <td>475914</td>\n",
       "      <td>5</td>\n",
       "      <td>82945</td>\n",
       "      <td>110970</td>\n",
       "      <td>244325</td>\n",
       "      <td>19693</td>\n",
       "      <td>5334</td>\n",
       "    </tr>\n",
       "  </tbody>\n",
       "</table>\n",
       "</div>"
      ],
      "text/plain": [
       "         brand   model    trim    body transmission                vin  \\\n",
       "count   548510  548412  548160  545616       493458             558811   \n",
       "unique      96     973    1975      86            2             550296   \n",
       "top       Ford  Altima    Base   Sedan    automatic  wbanv13588cz57827   \n",
       "freq     93554   19349   55817  199437       475914                  5   \n",
       "\n",
       "         state   color interior              seller  \\\n",
       "count   558811  558062   558062              558811   \n",
       "unique      38      20       17               14264   \n",
       "top         fl   black    black  nissan-infiniti lt   \n",
       "freq     82945  110970   244325               19693   \n",
       "\n",
       "                                       saledate  \n",
       "count                                    558811  \n",
       "unique                                     3745  \n",
       "top     Tue Feb 10 2015 01:30:00 GMT-0800 (PST)  \n",
       "freq                                       5334  "
      ]
     },
     "execution_count": 61,
     "metadata": {},
     "output_type": "execute_result"
    }
   ],
   "source": [
    "# Select columns with object or category data type\n",
    "categorical_columns = car_df.select_dtypes(include=['object']).columns\n",
    "\n",
    "# Describe only the categorical columns\n",
    "car_df[categorical_columns].describe()\n"
   ]
  },
  {
   "cell_type": "markdown",
   "metadata": {},
   "source": [
    "## <font color='gold'>**for each column you should decide how to limit the number of unique values **</font>:\n",
    "\n",
    "- for brand model and trim it is normal to have large number\n",
    "- create a new feature \"Brand-Model Combination\" \n",
    "- for budy type, and state and seller plot them based on frequency and keep most the repeatitive onces and replace the value of the rest to \"Other\" \n",
    "- for vin you can check how many cars are sold more than once and aggregate those rows \n",
    "- for color and interior you can merge similar colors and for low frequent colors replace them with \"other\"\n",
    "- convert correct saledate to correct format and just keep month and day and year\n",
    "- create a new feature \"car_age\" with year and saledate \n",
    "\n",
    "GPT Suggestions for other features : \n",
    "- Mileage per Year (from 'year' and 'odometer'): High mileage can decrease a car's value. Calculate the average annual mileage by dividing the odometer reading by the car's age. This accounts for the car's usage intensity.\n",
    "- Market Price Deviation (from 'mmr' - Market Price and 'sellingprice'): You could calculate the deviation of the selling price from the market price (mmr) as a feature, which might help in understanding how prices vary from the expected market value.\n"
   ]
  },
  {
   "cell_type": "code",
   "execution_count": 62,
   "metadata": {},
   "outputs": [
    {
     "data": {
      "text/plain": [
       "array(['year', 'brand', 'model', 'trim', 'body', 'transmission', 'vin',\n",
       "       'state', 'condition', 'odometer', 'color', 'interior', 'seller',\n",
       "       'mmr', 'sellingprice', 'saledate'], dtype=object)"
      ]
     },
     "execution_count": 62,
     "metadata": {},
     "output_type": "execute_result"
    }
   ],
   "source": [
    "#Accessing column names\n",
    "car_df.columns.values"
   ]
  },
  {
   "cell_type": "code",
   "execution_count": 63,
   "metadata": {},
   "outputs": [
    {
     "data": {
      "text/html": [
       "<div>\n",
       "<style scoped>\n",
       "    .dataframe tbody tr th:only-of-type {\n",
       "        vertical-align: middle;\n",
       "    }\n",
       "\n",
       "    .dataframe tbody tr th {\n",
       "        vertical-align: top;\n",
       "    }\n",
       "\n",
       "    .dataframe thead th {\n",
       "        text-align: right;\n",
       "    }\n",
       "</style>\n",
       "<table border=\"1\" class=\"dataframe\">\n",
       "  <thead>\n",
       "    <tr style=\"text-align: right;\">\n",
       "      <th></th>\n",
       "      <th>year</th>\n",
       "      <th>condition</th>\n",
       "      <th>odometer</th>\n",
       "      <th>mmr</th>\n",
       "      <th>sellingprice</th>\n",
       "    </tr>\n",
       "  </thead>\n",
       "  <tbody>\n",
       "    <tr>\n",
       "      <th>count</th>\n",
       "      <td>558811.000000</td>\n",
       "      <td>547017.000000</td>\n",
       "      <td>558717.000000</td>\n",
       "      <td>558811.000000</td>\n",
       "      <td>558811.000000</td>\n",
       "    </tr>\n",
       "    <tr>\n",
       "      <th>mean</th>\n",
       "      <td>2010.038696</td>\n",
       "      <td>3.424512</td>\n",
       "      <td>68323.195797</td>\n",
       "      <td>13769.324646</td>\n",
       "      <td>13611.262461</td>\n",
       "    </tr>\n",
       "    <tr>\n",
       "      <th>std</th>\n",
       "      <td>3.966812</td>\n",
       "      <td>0.949439</td>\n",
       "      <td>53397.752933</td>\n",
       "      <td>9679.874607</td>\n",
       "      <td>9749.656919</td>\n",
       "    </tr>\n",
       "    <tr>\n",
       "      <th>min</th>\n",
       "      <td>1982.000000</td>\n",
       "      <td>1.000000</td>\n",
       "      <td>1.000000</td>\n",
       "      <td>25.000000</td>\n",
       "      <td>1.000000</td>\n",
       "    </tr>\n",
       "    <tr>\n",
       "      <th>25%</th>\n",
       "      <td>2007.000000</td>\n",
       "      <td>2.700000</td>\n",
       "      <td>28374.000000</td>\n",
       "      <td>7100.000000</td>\n",
       "      <td>6900.000000</td>\n",
       "    </tr>\n",
       "    <tr>\n",
       "      <th>50%</th>\n",
       "      <td>2012.000000</td>\n",
       "      <td>3.600000</td>\n",
       "      <td>52256.000000</td>\n",
       "      <td>12250.000000</td>\n",
       "      <td>12100.000000</td>\n",
       "    </tr>\n",
       "    <tr>\n",
       "      <th>75%</th>\n",
       "      <td>2013.000000</td>\n",
       "      <td>4.200000</td>\n",
       "      <td>99112.000000</td>\n",
       "      <td>18300.000000</td>\n",
       "      <td>18200.000000</td>\n",
       "    </tr>\n",
       "    <tr>\n",
       "      <th>max</th>\n",
       "      <td>2015.000000</td>\n",
       "      <td>5.000000</td>\n",
       "      <td>999999.000000</td>\n",
       "      <td>182000.000000</td>\n",
       "      <td>230000.000000</td>\n",
       "    </tr>\n",
       "  </tbody>\n",
       "</table>\n",
       "</div>"
      ],
      "text/plain": [
       "                year      condition       odometer            mmr  \\\n",
       "count  558811.000000  547017.000000  558717.000000  558811.000000   \n",
       "mean     2010.038696       3.424512   68323.195797   13769.324646   \n",
       "std         3.966812       0.949439   53397.752933    9679.874607   \n",
       "min      1982.000000       1.000000       1.000000      25.000000   \n",
       "25%      2007.000000       2.700000   28374.000000    7100.000000   \n",
       "50%      2012.000000       3.600000   52256.000000   12250.000000   \n",
       "75%      2013.000000       4.200000   99112.000000   18300.000000   \n",
       "max      2015.000000       5.000000  999999.000000  182000.000000   \n",
       "\n",
       "        sellingprice  \n",
       "count  558811.000000  \n",
       "mean    13611.262461  \n",
       "std      9749.656919  \n",
       "min         1.000000  \n",
       "25%      6900.000000  \n",
       "50%     12100.000000  \n",
       "75%     18200.000000  \n",
       "max    230000.000000  "
      ]
     },
     "execution_count": 63,
     "metadata": {},
     "output_type": "execute_result"
    }
   ],
   "source": [
    "#Generating descriptive statistics upfront\n",
    "car_df.describe()"
   ]
  },
  {
   "cell_type": "markdown",
   "metadata": {},
   "source": [
    "## <font color='gold'>**Instead of these kind of code plot each categorical column **</font>:"
   ]
  },
  {
   "cell_type": "code",
   "execution_count": 64,
   "metadata": {},
   "outputs": [
    {
     "name": "stdout",
     "output_type": "stream",
     "text": [
      "The numerical columns are:\n",
      "Index(['year', 'condition', 'odometer', 'mmr', 'sellingprice'], dtype='object')\n"
     ]
    }
   ],
   "source": [
    "#Getting all columns with numerical data\n",
    "numerical_col = car_df.select_dtypes(['int64', 'float64']).columns\n",
    "print(\"The numerical columns are:\")\n",
    "print(numerical_col)"
   ]
  },
  {
   "cell_type": "code",
   "execution_count": 65,
   "metadata": {},
   "outputs": [
    {
     "name": "stdout",
     "output_type": "stream",
     "text": [
      "The categorical columns are:\n",
      "Index(['brand', 'model', 'trim', 'body', 'transmission', 'vin', 'state',\n",
      "       'color', 'interior', 'seller', 'saledate'],\n",
      "      dtype='object')\n"
     ]
    }
   ],
   "source": [
    "#Getting all columns with categorical data\n",
    "cat_col = car_df.select_dtypes([object]).columns\n",
    "print(\"The categorical columns are:\")\n",
    "print(cat_col)"
   ]
  },
  {
   "cell_type": "code",
   "execution_count": 66,
   "metadata": {},
   "outputs": [
    {
     "data": {
      "text/html": [
       "<div>\n",
       "<style scoped>\n",
       "    .dataframe tbody tr th:only-of-type {\n",
       "        vertical-align: middle;\n",
       "    }\n",
       "\n",
       "    .dataframe tbody tr th {\n",
       "        vertical-align: top;\n",
       "    }\n",
       "\n",
       "    .dataframe thead th {\n",
       "        text-align: right;\n",
       "    }\n",
       "</style>\n",
       "<table border=\"1\" class=\"dataframe\">\n",
       "  <thead>\n",
       "    <tr style=\"text-align: right;\">\n",
       "      <th></th>\n",
       "      <th>brand</th>\n",
       "      <th>model</th>\n",
       "      <th>trim</th>\n",
       "      <th>body</th>\n",
       "      <th>transmission</th>\n",
       "      <th>vin</th>\n",
       "      <th>state</th>\n",
       "      <th>color</th>\n",
       "      <th>interior</th>\n",
       "      <th>seller</th>\n",
       "      <th>saledate</th>\n",
       "    </tr>\n",
       "  </thead>\n",
       "  <tbody>\n",
       "    <tr>\n",
       "      <th>count</th>\n",
       "      <td>548510</td>\n",
       "      <td>548412</td>\n",
       "      <td>548160</td>\n",
       "      <td>545616</td>\n",
       "      <td>493458</td>\n",
       "      <td>558811</td>\n",
       "      <td>558811</td>\n",
       "      <td>558062</td>\n",
       "      <td>558062</td>\n",
       "      <td>558811</td>\n",
       "      <td>558811</td>\n",
       "    </tr>\n",
       "    <tr>\n",
       "      <th>unique</th>\n",
       "      <td>96</td>\n",
       "      <td>973</td>\n",
       "      <td>1975</td>\n",
       "      <td>86</td>\n",
       "      <td>2</td>\n",
       "      <td>550296</td>\n",
       "      <td>38</td>\n",
       "      <td>20</td>\n",
       "      <td>17</td>\n",
       "      <td>14264</td>\n",
       "      <td>3745</td>\n",
       "    </tr>\n",
       "    <tr>\n",
       "      <th>top</th>\n",
       "      <td>Ford</td>\n",
       "      <td>Altima</td>\n",
       "      <td>Base</td>\n",
       "      <td>Sedan</td>\n",
       "      <td>automatic</td>\n",
       "      <td>wbanv13588cz57827</td>\n",
       "      <td>fl</td>\n",
       "      <td>black</td>\n",
       "      <td>black</td>\n",
       "      <td>nissan-infiniti lt</td>\n",
       "      <td>Tue Feb 10 2015 01:30:00 GMT-0800 (PST)</td>\n",
       "    </tr>\n",
       "    <tr>\n",
       "      <th>freq</th>\n",
       "      <td>93554</td>\n",
       "      <td>19349</td>\n",
       "      <td>55817</td>\n",
       "      <td>199437</td>\n",
       "      <td>475914</td>\n",
       "      <td>5</td>\n",
       "      <td>82945</td>\n",
       "      <td>110970</td>\n",
       "      <td>244325</td>\n",
       "      <td>19693</td>\n",
       "      <td>5334</td>\n",
       "    </tr>\n",
       "  </tbody>\n",
       "</table>\n",
       "</div>"
      ],
      "text/plain": [
       "         brand   model    trim    body transmission                vin  \\\n",
       "count   548510  548412  548160  545616       493458             558811   \n",
       "unique      96     973    1975      86            2             550296   \n",
       "top       Ford  Altima    Base   Sedan    automatic  wbanv13588cz57827   \n",
       "freq     93554   19349   55817  199437       475914                  5   \n",
       "\n",
       "         state   color interior              seller  \\\n",
       "count   558811  558062   558062              558811   \n",
       "unique      38      20       17               14264   \n",
       "top         fl   black    black  nissan-infiniti lt   \n",
       "freq     82945  110970   244325               19693   \n",
       "\n",
       "                                       saledate  \n",
       "count                                    558811  \n",
       "unique                                     3745  \n",
       "top     Tue Feb 10 2015 01:30:00 GMT-0800 (PST)  \n",
       "freq                                       5334  "
      ]
     },
     "execution_count": 66,
     "metadata": {},
     "output_type": "execute_result"
    }
   ],
   "source": [
    "car_df[cat_col].describe()"
   ]
  },
  {
   "cell_type": "markdown",
   "metadata": {},
   "source": [
    "Observations on Categoricals:\n",
    "\n",
    "- The transmission column is predominantly populated by vehicles with automatic transmission (more than 50%).\n",
    "- The vin, seller, saledate columns have high cardinality (a high number of unique values).\n",
    "- The color and interior columns are dominated by vehicles with black exterior and interior colours (more than 20%).\n",
    "- The brand column is predominantly populated by Ford vehicles (more than 15%)."
   ]
  },
  {
   "cell_type": "code",
   "execution_count": 67,
   "metadata": {},
   "outputs": [
    {
     "data": {
      "text/html": [
       "<div>\n",
       "<style scoped>\n",
       "    .dataframe tbody tr th:only-of-type {\n",
       "        vertical-align: middle;\n",
       "    }\n",
       "\n",
       "    .dataframe tbody tr th {\n",
       "        vertical-align: top;\n",
       "    }\n",
       "\n",
       "    .dataframe thead th {\n",
       "        text-align: right;\n",
       "    }\n",
       "</style>\n",
       "<table border=\"1\" class=\"dataframe\">\n",
       "  <thead>\n",
       "    <tr style=\"text-align: right;\">\n",
       "      <th></th>\n",
       "      <th>year</th>\n",
       "      <th>condition</th>\n",
       "      <th>odometer</th>\n",
       "      <th>mmr</th>\n",
       "      <th>sellingprice</th>\n",
       "    </tr>\n",
       "  </thead>\n",
       "  <tbody>\n",
       "    <tr>\n",
       "      <th>count</th>\n",
       "      <td>558811.000000</td>\n",
       "      <td>547017.000000</td>\n",
       "      <td>558717.000000</td>\n",
       "      <td>558811.000000</td>\n",
       "      <td>558811.000000</td>\n",
       "    </tr>\n",
       "    <tr>\n",
       "      <th>mean</th>\n",
       "      <td>2010.038696</td>\n",
       "      <td>3.424512</td>\n",
       "      <td>68323.195797</td>\n",
       "      <td>13769.324646</td>\n",
       "      <td>13611.262461</td>\n",
       "    </tr>\n",
       "    <tr>\n",
       "      <th>std</th>\n",
       "      <td>3.966812</td>\n",
       "      <td>0.949439</td>\n",
       "      <td>53397.752933</td>\n",
       "      <td>9679.874607</td>\n",
       "      <td>9749.656919</td>\n",
       "    </tr>\n",
       "    <tr>\n",
       "      <th>min</th>\n",
       "      <td>1982.000000</td>\n",
       "      <td>1.000000</td>\n",
       "      <td>1.000000</td>\n",
       "      <td>25.000000</td>\n",
       "      <td>1.000000</td>\n",
       "    </tr>\n",
       "    <tr>\n",
       "      <th>25%</th>\n",
       "      <td>2007.000000</td>\n",
       "      <td>2.700000</td>\n",
       "      <td>28374.000000</td>\n",
       "      <td>7100.000000</td>\n",
       "      <td>6900.000000</td>\n",
       "    </tr>\n",
       "    <tr>\n",
       "      <th>50%</th>\n",
       "      <td>2012.000000</td>\n",
       "      <td>3.600000</td>\n",
       "      <td>52256.000000</td>\n",
       "      <td>12250.000000</td>\n",
       "      <td>12100.000000</td>\n",
       "    </tr>\n",
       "    <tr>\n",
       "      <th>75%</th>\n",
       "      <td>2013.000000</td>\n",
       "      <td>4.200000</td>\n",
       "      <td>99112.000000</td>\n",
       "      <td>18300.000000</td>\n",
       "      <td>18200.000000</td>\n",
       "    </tr>\n",
       "    <tr>\n",
       "      <th>max</th>\n",
       "      <td>2015.000000</td>\n",
       "      <td>5.000000</td>\n",
       "      <td>999999.000000</td>\n",
       "      <td>182000.000000</td>\n",
       "      <td>230000.000000</td>\n",
       "    </tr>\n",
       "  </tbody>\n",
       "</table>\n",
       "</div>"
      ],
      "text/plain": [
       "                year      condition       odometer            mmr  \\\n",
       "count  558811.000000  547017.000000  558717.000000  558811.000000   \n",
       "mean     2010.038696       3.424512   68323.195797   13769.324646   \n",
       "std         3.966812       0.949439   53397.752933    9679.874607   \n",
       "min      1982.000000       1.000000       1.000000      25.000000   \n",
       "25%      2007.000000       2.700000   28374.000000    7100.000000   \n",
       "50%      2012.000000       3.600000   52256.000000   12250.000000   \n",
       "75%      2013.000000       4.200000   99112.000000   18300.000000   \n",
       "max      2015.000000       5.000000  999999.000000  182000.000000   \n",
       "\n",
       "        sellingprice  \n",
       "count  558811.000000  \n",
       "mean    13611.262461  \n",
       "std      9749.656919  \n",
       "min         1.000000  \n",
       "25%      6900.000000  \n",
       "50%     12100.000000  \n",
       "75%     18200.000000  \n",
       "max    230000.000000  "
      ]
     },
     "execution_count": 67,
     "metadata": {},
     "output_type": "execute_result"
    }
   ],
   "source": [
    "car_df[numerical_col].describe()"
   ]
  },
  {
   "cell_type": "markdown",
   "metadata": {},
   "source": [
    "Observations on Numericals:\n",
    "\n",
    "- The columns year, condition, odometer have no issues with their min/max values.\n",
    "- All column values still fall within reasonable ranges.\n",
    "- There are differences between the mean and median in the columns year, condition, odometer, mmr, selling price, suggesting potential variations.\n",
    "- Further review is necessary for the mmr column in preprocessing as the minimum value range is considerably distant from the mean and median.\n",
    "- An anomaly exists in the minimum selling price, suspected to be unknown data, thus imputed with a value of 1 or vehicles sold as part of a corporate program (gifts)."
   ]
  },
  {
   "cell_type": "markdown",
   "metadata": {},
   "source": [
    "Counting values"
   ]
  },
  {
   "cell_type": "code",
   "execution_count": 68,
   "metadata": {},
   "outputs": [
    {
     "name": "stdout",
     "output_type": "stream",
     "text": [
      "Value count columns brand:\n",
      "Ford          93554\n",
      "Chevrolet     60197\n",
      "Nissan        53946\n",
      "Toyota        39871\n",
      "Dodge         30710\n",
      "              ...  \n",
      "airstream         1\n",
      "ford tk           1\n",
      "chev truck        1\n",
      "hyundai tk        1\n",
      "Lotus             1\n",
      "Name: brand, Length: 96, dtype: int64\n",
      "\n",
      "Value count columns model:\n",
      "Altima        19349\n",
      "F-150         14479\n",
      "Fusion        12946\n",
      "Camry         12545\n",
      "Escape        11861\n",
      "              ...  \n",
      "rrs               1\n",
      "golf              1\n",
      "g500              1\n",
      "tahoe             1\n",
      "458 Italia        1\n",
      "Name: model, Length: 973, dtype: int64\n",
      "\n",
      "Value count columns trim:\n",
      "Base                 55817\n",
      "SE                   43648\n",
      "LX                   20757\n",
      "Limited              18356\n",
      "LT                   16915\n",
      "                     ...  \n",
      "xls                      1\n",
      "4x2 reg silverado        1\n",
      "awd v8 limited           1\n",
      "4x2 v6 limited           1\n",
      "Power Wagon              1\n",
      "Name: trim, Length: 1975, dtype: int64\n",
      "\n",
      "Value count columns body:\n",
      "Sedan          199437\n",
      "SUV            119292\n",
      "sedan           41906\n",
      "suv             24552\n",
      "Hatchback       21380\n",
      "                ...  \n",
      "g37 coupe           1\n",
      "cab plus 4          1\n",
      "CTS-V Wagon         1\n",
      "Ram Van             1\n",
      "cts wagon           1\n",
      "Name: body, Length: 86, dtype: int64\n",
      "\n",
      "Value count columns transmission:\n",
      "automatic    475914\n",
      "manual        17544\n",
      "Name: transmission, dtype: int64\n",
      "\n",
      "Value count columns vin:\n",
      "wbanv13588cz57827    5\n",
      "1ftfw1cv5afb30053    4\n",
      "wp0ca2988xu629622    4\n",
      "5n1ar1nn2bc632869    4\n",
      "wddgf56x78f009940    4\n",
      "                    ..\n",
      "1p3ew65g7yv603989    1\n",
      "4t1bf28b1yu016829    1\n",
      "jtdbt1231y0082703    1\n",
      "jtddr32t8y0063746    1\n",
      "1ftfw1et2eke87277    1\n",
      "Name: vin, Length: 550296, dtype: int64\n",
      "\n",
      "Value count columns state:\n",
      "fl    82945\n",
      "ca    73148\n",
      "pa    53907\n",
      "tx    45913\n",
      "ga    34750\n",
      "nj    27784\n",
      "il    23486\n",
      "nc    21845\n",
      "oh    21575\n",
      "tn    20895\n",
      "mo    16013\n",
      "mi    15511\n",
      "nv    12685\n",
      "va    12027\n",
      "md    11158\n",
      "wi     9851\n",
      "mn     9429\n",
      "az     8741\n",
      "co     7775\n",
      "wa     7416\n",
      "ma     6729\n",
      "ny     5699\n",
      "in     4325\n",
      "sc     4251\n",
      "ne     4013\n",
      "on     3442\n",
      "pr     2725\n",
      "la     2191\n",
      "ms     1851\n",
      "ut     1836\n",
      "qc     1245\n",
      "hi     1237\n",
      "or     1155\n",
      "ab      928\n",
      "nm      171\n",
      "ok       72\n",
      "ns       61\n",
      "al       26\n",
      "Name: state, dtype: int64\n",
      "\n",
      "Value count columns color:\n",
      "black        110970\n",
      "white        106673\n",
      "silver        83389\n",
      "gray          82857\n",
      "blue          51139\n",
      "red           43569\n",
      "—             24685\n",
      "green         11382\n",
      "gold          11342\n",
      "beige          9222\n",
      "burgundy       8972\n",
      "brown          6717\n",
      "orange         2078\n",
      "purple         1561\n",
      "off-white      1449\n",
      "yellow         1285\n",
      "charcoal        479\n",
      "turquoise       236\n",
      "pink             42\n",
      "lime             15\n",
      "Name: color, dtype: int64\n",
      "\n",
      "Value count columns interior:\n",
      "black        244325\n",
      "gray         178578\n",
      "beige         59758\n",
      "tan           44093\n",
      "—             17076\n",
      "brown          8640\n",
      "red            1359\n",
      "blue           1138\n",
      "silver         1099\n",
      "off-white       480\n",
      "purple          339\n",
      "gold            324\n",
      "white           252\n",
      "green           245\n",
      "burgundy        191\n",
      "orange          145\n",
      "yellow           20\n",
      "Name: interior, dtype: int64\n",
      "\n",
      "Value count columns seller:\n",
      "nissan-infiniti lt                  19693\n",
      "ford motor credit company,llc       19162\n",
      "the hertz corporation               18299\n",
      "santander consumer                  15285\n",
      "avis corporation                    12540\n",
      "                                    ...  \n",
      "financeco of kansas                     1\n",
      "r t m motors                            1\n",
      "navigant credit union                   1\n",
      "columbus preowned auto sales llc        1\n",
      "i -5 uhlmann rv                         1\n",
      "Name: seller, Length: 14264, dtype: int64\n",
      "\n",
      "Value count columns saledate:\n",
      "Tue Feb 10 2015 01:30:00 GMT-0800 (PST)    5334\n",
      "Tue Feb 17 2015 01:30:00 GMT-0800 (PST)    5016\n",
      "Tue Jan 27 2015 01:30:00 GMT-0800 (PST)    4902\n",
      "Tue Jan 20 2015 01:30:00 GMT-0800 (PST)    4731\n",
      "Tue Mar 03 2015 01:30:00 GMT-0800 (PST)    4653\n",
      "                                           ... \n",
      "Wed Apr 15 2015 08:05:00 GMT-0700 (PDT)       1\n",
      "Wed May 13 2015 05:05:00 GMT-0700 (PDT)       1\n",
      "Tue Feb 24 2015 11:20:00 GMT-0800 (PST)       1\n",
      "Fri Jul 03 2015 06:35:00 GMT-0700 (PDT)       1\n",
      "Wed Jul 08 2015 09:45:00 GMT-0700 (PDT)       1\n",
      "Name: saledate, Length: 3745, dtype: int64\n",
      "\n"
     ]
    }
   ],
   "source": [
    "for col in cat_col:\n",
    "    print(f'''Value count columns {col}:''')\n",
    "    print(car_df[col].value_counts())\n",
    "    print()"
   ]
  },
  {
   "cell_type": "markdown",
   "metadata": {},
   "source": [
    "## <font color='gold'>**here you should handle missing values **</font>:\n",
    "\n",
    "- for brand model, trim, budy, transmission use knn imputation \n",
    "- for condition and odometer use mean or median based on its distribution\n",
    "- for color and interior use mode\n"
   ]
  },
  {
   "cell_type": "code",
   "execution_count": 69,
   "metadata": {},
   "outputs": [
    {
     "name": "stdout",
     "output_type": "stream",
     "text": [
      "Missing values in each column:\n",
      "              Missing Values Count  Missing Values Percentage\n",
      "transmission                 65353                  11.695010\n",
      "body                         13195                   2.361263\n",
      "condition                    11794                   2.110553\n",
      "trim                         10651                   1.906011\n",
      "model                        10399                   1.860915\n",
      "brand                        10301                   1.843378\n",
      "color                          749                   0.134035\n",
      "interior                       749                   0.134035\n",
      "odometer                        94                   0.016821\n",
      "year                             0                   0.000000\n",
      "vin                              0                   0.000000\n",
      "state                            0                   0.000000\n",
      "seller                           0                   0.000000\n",
      "mmr                              0                   0.000000\n",
      "sellingprice                     0                   0.000000\n",
      "saledate                         0                   0.000000\n"
     ]
    }
   ],
   "source": [
    "#Checking for missing values\n",
    "missing_values_count = car_df.isnull().sum()\n",
    "missing_values_percentage = (missing_values_count / len(car_df)) * 100\n",
    "\n",
    "missing_data_summary = pd.DataFrame({\n",
    "    'Missing Values Count': missing_values_count,\n",
    "    'Missing Values Percentage': missing_values_percentage\n",
    "})\n",
    "\n",
    "missing_data_summary = missing_data_summary.sort_values(by='Missing Values Count', ascending=False)\n",
    "\n",
    "print(\"Missing values in each column:\")\n",
    "print(missing_data_summary)"
   ]
  },
  {
   "cell_type": "markdown",
   "metadata": {},
   "source": [
    "Descriptive Statistics Observations:\n",
    "\n",
    "- The dataset comprises 558,811 rows and 16 columns.\n",
    "- There are no issues found with the names and content of each column.\n",
    "- Several columns still contain null/missing values: brand, model, trim, body, transmission, condition, odometer, color, interior.\n",
    "- The largest count of missing values is in the transmission column, totaling 65,353 entries (11.7% of the data).\n",
    "- It appears that there are no evident issues with the data types in each column (they are already appropriate)."
   ]
  },
  {
   "cell_type": "markdown",
   "metadata": {},
   "source": [
    "Handling missing Values:\n",
    "- Imputing transmission data by identifying missing values and filling them with the most frequent transmission type within grouped categories of car brand, model, trim, and year.\n",
    "- Drop the columns body, trim, condition, color, odometer, brand, and model (as their total percentage of missing values is only 10%).\n",
    "- The columns year, saledate, and sellingprice do not have any missing values, so there's no need for handling them."
   ]
  },
  {
   "cell_type": "markdown",
   "metadata": {},
   "source": [
    "Performing imputation for the columns 'transmission', 'body', 'condition', 'make', 'color', and 'odometer'. Also cleaning up the names of the columns."
   ]
  },
  {
   "cell_type": "code",
   "execution_count": 70,
   "metadata": {},
   "outputs": [],
   "source": [
    "# Define the columns to impute\n",
    "columns_to_impute = ['transmission', 'brand', 'model', 'body', 'trim']\n",
    "\n",
    "# Create a SimpleImputer instance\n",
    "imputer = SimpleImputer(strategy='most_frequent')\n",
    "\n",
    "# Fit and transform the imputer on the selected columns\n",
    "car_df[columns_to_impute] = imputer.fit_transform(car_df[columns_to_impute])\n"
   ]
  },
  {
   "cell_type": "markdown",
   "metadata": {},
   "source": [
    "## <font color='red'>**1. Missing values**</font>"
   ]
  },
  {
   "cell_type": "markdown",
   "metadata": {},
   "source": [
    "### 1.1 Imputing missing values for 'condition'"
   ]
  },
  {
   "cell_type": "code",
   "execution_count": 71,
   "metadata": {},
   "outputs": [
    {
     "data": {
      "image/png": "[encoded data removed]",
      "text/plain": [
       "<Figure size 800x600 with 1 Axes>"
      ]
     },
     "metadata": {},
     "output_type": "display_data"
    }
   ],
   "source": [
    "# Plotting the distribution of 'condition'\n",
    "plt.figure(figsize=(8, 6))\n",
    "sns.histplot(car_df['condition'].dropna(), discrete=True)\n",
    "plt.title('Distribution of Condition')\n",
    "plt.xlabel('Condition')\n",
    "plt.ylabel('Frequency')\n",
    "plt.show()"
   ]
  },
  {
   "cell_type": "markdown",
   "metadata": {},
   "source": [
    "As the data is numeric it appears to be normally distributed, we will use the Mean to imoute the missing values:"
   ]
  },
  {
   "cell_type": "code",
   "execution_count": 72,
   "metadata": {},
   "outputs": [
    {
     "name": "stdout",
     "output_type": "stream",
     "text": [
      "Missing values in 'condition' after imputation: 0\n"
     ]
    }
   ],
   "source": [
    "# Impute missing values in the 'condition' column with the mean\n",
    "condition_mean = car_df['condition'].mean()\n",
    "car_df['condition'].fillna(condition_mean, inplace=True)\n",
    "\n",
    "# Check if there are any remaining missing values\n",
    "missing_values_after_imputation = car_df['condition'].isnull().sum()\n",
    "print(\"Missing values in 'condition' after imputation:\", missing_values_after_imputation)"
   ]
  },
  {
   "cell_type": "markdown",
   "metadata": {},
   "source": [
    "### 1.2 Imputing missing values for 'odometer'"
   ]
  },
  {
   "cell_type": "markdown",
   "metadata": {},
   "source": [
    "Plotting the distribution of condition and odemeter, to see if we should use mean or meadian to impute the missing values."
   ]
  },
  {
   "cell_type": "code",
   "execution_count": 73,
   "metadata": {},
   "outputs": [
    {
     "data": {
      "image/png": "[encoded data removed]",
      "text/plain": [
       "<Figure size 800x600 with 1 Axes>"
      ]
     },
     "metadata": {},
     "output_type": "display_data"
    }
   ],
   "source": [
    "# Plotting the distribution of 'odometer'\n",
    "plt.figure(figsize=(8, 6))\n",
    "sns.histplot(car_df['odometer'].dropna(), kde=True)\n",
    "plt.title('Distribution of Odometer')\n",
    "plt.xlabel('Odometer')\n",
    "plt.ylabel('Frequency')\n",
    "plt.show()"
   ]
  },
  {
   "cell_type": "markdown",
   "metadata": {},
   "source": [
    "As the data is numeric it appears to be skewed to the left, we will use the Median to imoute the missing values:"
   ]
  },
  {
   "cell_type": "code",
   "execution_count": 74,
   "metadata": {},
   "outputs": [
    {
     "name": "stdout",
     "output_type": "stream",
     "text": [
      "Missing values in 'odometer' after imputation: 0\n"
     ]
    }
   ],
   "source": [
    "# Impute missing values in the 'odometer' column with the median\n",
    "odometer_median = car_df['odometer'].median()\n",
    "car_df['odometer'].fillna(odometer_median, inplace=True)\n",
    "\n",
    "# Check if there are any remaining missing values\n",
    "missing_values_after_imputation = car_df['odometer'].isnull().sum()\n",
    "print(\"Missing values in 'odometer' after imputation:\", missing_values_after_imputation)"
   ]
  },
  {
   "cell_type": "markdown",
   "metadata": {},
   "source": [
    "### 1.3 Imputing missing values for 'color'"
   ]
  },
  {
   "cell_type": "code",
   "execution_count": 75,
   "metadata": {},
   "outputs": [
    {
     "name": "stdout",
     "output_type": "stream",
     "text": [
      "Data type of 'interior' column: object\n"
     ]
    }
   ],
   "source": [
    "print(\"Data type of 'interior' column:\", car_df['color'].dtype)"
   ]
  },
  {
   "cell_type": "markdown",
   "metadata": {},
   "source": [
    "As 'color' is a categorical variable, we use Mode to impute missing values:"
   ]
  },
  {
   "cell_type": "code",
   "execution_count": 76,
   "metadata": {},
   "outputs": [
    {
     "name": "stdout",
     "output_type": "stream",
     "text": [
      "Missing values in 'color' after imputation: 0\n"
     ]
    }
   ],
   "source": [
    "# Calculate the mode of the 'color' column\n",
    "color_mode = car_df['color'].mode()[0]\n",
    "\n",
    "# Fill missing values in the 'color' column with the mode\n",
    "car_df['color'].fillna(color_mode, inplace=True)\n",
    "\n",
    "# Check if there are any remaining missing values\n",
    "missing_values_after_imputation = car_df['color'].isnull().sum()\n",
    "print(\"Missing values in 'color' after imputation:\", missing_values_after_imputation)"
   ]
  },
  {
   "cell_type": "markdown",
   "metadata": {},
   "source": [
    "### 1.3 Imputing missing values for 'interior'"
   ]
  },
  {
   "cell_type": "code",
   "execution_count": 77,
   "metadata": {},
   "outputs": [
    {
     "name": "stdout",
     "output_type": "stream",
     "text": [
      "Data type of 'interior' column: object\n"
     ]
    }
   ],
   "source": [
    "print(\"Data type of 'interior' column:\", car_df['interior'].dtype)"
   ]
  },
  {
   "cell_type": "markdown",
   "metadata": {},
   "source": [
    "As 'interior' is a categorical variable, we use Mode to impute missing values:"
   ]
  },
  {
   "cell_type": "code",
   "execution_count": 78,
   "metadata": {},
   "outputs": [
    {
     "name": "stdout",
     "output_type": "stream",
     "text": [
      "Missing values in 'interior' after imputation: 0\n"
     ]
    }
   ],
   "source": [
    "# Calculate the mode of the 'interior' column\n",
    "interior_mode = car_df['interior'].mode()[0]\n",
    "\n",
    "# Fill missing values in the 'interior' column with the mode\n",
    "car_df['interior'].fillna(interior_mode, inplace=True)\n",
    "\n",
    "# Check if there are any remaining missing values\n",
    "missing_values_after_imputation = car_df['interior'].isnull().sum()\n",
    "print(\"Missing values in 'interior' after imputation:\", missing_values_after_imputation)"
   ]
  },
  {
   "cell_type": "markdown",
   "metadata": {},
   "source": [
    "### Finally: checking if there are still empty values left:"
   ]
  },
  {
   "cell_type": "code",
   "execution_count": 80,
   "metadata": {},
   "outputs": [
    {
     "data": {
      "text/plain": [
       "year            0\n",
       "brand           0\n",
       "model           0\n",
       "trim            0\n",
       "body            0\n",
       "transmission    0\n",
       "vin             0\n",
       "state           0\n",
       "condition       0\n",
       "odometer        0\n",
       "color           0\n",
       "interior        0\n",
       "seller          0\n",
       "mmr             0\n",
       "sellingprice    0\n",
       "saledate        0\n",
       "dtype: int64"
      ]
     },
     "execution_count": 80,
     "metadata": {},
     "output_type": "execute_result"
    }
   ],
   "source": [
    "#Checking for null values again to check the previous code\n",
    "car_df.isna().sum().sort_values(ascending=False)"
   ]
  },
  {
   "cell_type": "code",
   "execution_count": 81,
   "metadata": {},
   "outputs": [
    {
     "data": {
      "text/html": [
       "<div>\n",
       "<style scoped>\n",
       "    .dataframe tbody tr th:only-of-type {\n",
       "        vertical-align: middle;\n",
       "    }\n",
       "\n",
       "    .dataframe tbody tr th {\n",
       "        vertical-align: top;\n",
       "    }\n",
       "\n",
       "    .dataframe thead th {\n",
       "        text-align: right;\n",
       "    }\n",
       "</style>\n",
       "<table border=\"1\" class=\"dataframe\">\n",
       "  <thead>\n",
       "    <tr style=\"text-align: right;\">\n",
       "      <th></th>\n",
       "      <th>year</th>\n",
       "      <th>brand</th>\n",
       "      <th>model</th>\n",
       "      <th>trim</th>\n",
       "      <th>body</th>\n",
       "      <th>transmission</th>\n",
       "      <th>vin</th>\n",
       "      <th>state</th>\n",
       "      <th>condition</th>\n",
       "      <th>odometer</th>\n",
       "      <th>color</th>\n",
       "      <th>interior</th>\n",
       "      <th>seller</th>\n",
       "      <th>mmr</th>\n",
       "      <th>sellingprice</th>\n",
       "      <th>saledate</th>\n",
       "    </tr>\n",
       "  </thead>\n",
       "  <tbody>\n",
       "    <tr>\n",
       "      <th>0</th>\n",
       "      <td>2015</td>\n",
       "      <td>Kia</td>\n",
       "      <td>Sorento</td>\n",
       "      <td>LX</td>\n",
       "      <td>SUV</td>\n",
       "      <td>automatic</td>\n",
       "      <td>5xyktca69fg566472</td>\n",
       "      <td>ca</td>\n",
       "      <td>5.0</td>\n",
       "      <td>16639.0</td>\n",
       "      <td>white</td>\n",
       "      <td>black</td>\n",
       "      <td>kia motors america, inc</td>\n",
       "      <td>20500</td>\n",
       "      <td>21500</td>\n",
       "      <td>Tue Dec 16 2014 12:30:00 GMT-0800 (PST)</td>\n",
       "    </tr>\n",
       "    <tr>\n",
       "      <th>1</th>\n",
       "      <td>2015</td>\n",
       "      <td>Kia</td>\n",
       "      <td>Sorento</td>\n",
       "      <td>LX</td>\n",
       "      <td>SUV</td>\n",
       "      <td>automatic</td>\n",
       "      <td>5xyktca69fg561319</td>\n",
       "      <td>ca</td>\n",
       "      <td>5.0</td>\n",
       "      <td>9393.0</td>\n",
       "      <td>white</td>\n",
       "      <td>beige</td>\n",
       "      <td>kia motors america, inc</td>\n",
       "      <td>20800</td>\n",
       "      <td>21500</td>\n",
       "      <td>Tue Dec 16 2014 12:30:00 GMT-0800 (PST)</td>\n",
       "    </tr>\n",
       "    <tr>\n",
       "      <th>2</th>\n",
       "      <td>2014</td>\n",
       "      <td>BMW</td>\n",
       "      <td>3 Series</td>\n",
       "      <td>328i SULEV</td>\n",
       "      <td>Sedan</td>\n",
       "      <td>automatic</td>\n",
       "      <td>wba3c1c51ek116351</td>\n",
       "      <td>ca</td>\n",
       "      <td>4.5</td>\n",
       "      <td>1331.0</td>\n",
       "      <td>gray</td>\n",
       "      <td>black</td>\n",
       "      <td>financial services remarketing (lease)</td>\n",
       "      <td>31900</td>\n",
       "      <td>30000</td>\n",
       "      <td>Thu Jan 15 2015 04:30:00 GMT-0800 (PST)</td>\n",
       "    </tr>\n",
       "    <tr>\n",
       "      <th>3</th>\n",
       "      <td>2015</td>\n",
       "      <td>Volvo</td>\n",
       "      <td>S60</td>\n",
       "      <td>T5</td>\n",
       "      <td>Sedan</td>\n",
       "      <td>automatic</td>\n",
       "      <td>yv1612tb4f1310987</td>\n",
       "      <td>ca</td>\n",
       "      <td>4.1</td>\n",
       "      <td>14282.0</td>\n",
       "      <td>white</td>\n",
       "      <td>black</td>\n",
       "      <td>volvo na rep/world omni</td>\n",
       "      <td>27500</td>\n",
       "      <td>27750</td>\n",
       "      <td>Thu Jan 29 2015 04:30:00 GMT-0800 (PST)</td>\n",
       "    </tr>\n",
       "    <tr>\n",
       "      <th>4</th>\n",
       "      <td>2014</td>\n",
       "      <td>BMW</td>\n",
       "      <td>6 Series Gran Coupe</td>\n",
       "      <td>650i</td>\n",
       "      <td>Sedan</td>\n",
       "      <td>automatic</td>\n",
       "      <td>wba6b2c57ed129731</td>\n",
       "      <td>ca</td>\n",
       "      <td>4.3</td>\n",
       "      <td>2641.0</td>\n",
       "      <td>gray</td>\n",
       "      <td>black</td>\n",
       "      <td>financial services remarketing (lease)</td>\n",
       "      <td>66000</td>\n",
       "      <td>67000</td>\n",
       "      <td>Thu Dec 18 2014 12:30:00 GMT-0800 (PST)</td>\n",
       "    </tr>\n",
       "  </tbody>\n",
       "</table>\n",
       "</div>"
      ],
      "text/plain": [
       "   year  brand                model        trim   body transmission  \\\n",
       "0  2015    Kia              Sorento          LX    SUV    automatic   \n",
       "1  2015    Kia              Sorento          LX    SUV    automatic   \n",
       "2  2014    BMW             3 Series  328i SULEV  Sedan    automatic   \n",
       "3  2015  Volvo                  S60          T5  Sedan    automatic   \n",
       "4  2014    BMW  6 Series Gran Coupe        650i  Sedan    automatic   \n",
       "\n",
       "                 vin state  condition  odometer  color interior  \\\n",
       "0  5xyktca69fg566472    ca        5.0   16639.0  white    black   \n",
       "1  5xyktca69fg561319    ca        5.0    9393.0  white    beige   \n",
       "2  wba3c1c51ek116351    ca        4.5    1331.0   gray    black   \n",
       "3  yv1612tb4f1310987    ca        4.1   14282.0  white    black   \n",
       "4  wba6b2c57ed129731    ca        4.3    2641.0   gray    black   \n",
       "\n",
       "                                   seller    mmr  sellingprice  \\\n",
       "0                 kia motors america, inc  20500         21500   \n",
       "1                 kia motors america, inc  20800         21500   \n",
       "2  financial services remarketing (lease)  31900         30000   \n",
       "3                 volvo na rep/world omni  27500         27750   \n",
       "4  financial services remarketing (lease)  66000         67000   \n",
       "\n",
       "                                  saledate  \n",
       "0  Tue Dec 16 2014 12:30:00 GMT-0800 (PST)  \n",
       "1  Tue Dec 16 2014 12:30:00 GMT-0800 (PST)  \n",
       "2  Thu Jan 15 2015 04:30:00 GMT-0800 (PST)  \n",
       "3  Thu Jan 29 2015 04:30:00 GMT-0800 (PST)  \n",
       "4  Thu Dec 18 2014 12:30:00 GMT-0800 (PST)  "
      ]
     },
     "execution_count": 81,
     "metadata": {},
     "output_type": "execute_result"
    }
   ],
   "source": [
    "car_df.head()"
   ]
  },
  {
   "cell_type": "code",
   "execution_count": 82,
   "metadata": {},
   "outputs": [
    {
     "name": "stdout",
     "output_type": "stream",
     "text": [
      "Brand Counts:\n",
      "Ford         103859\n",
      "Chevrolet     60198\n",
      "Nissan        53946\n",
      "Toyota        39871\n",
      "Dodge         30711\n",
      "              ...  \n",
      "Daewoo            3\n",
      "maserati          3\n",
      "airstream         1\n",
      "dot               1\n",
      "Lotus             1\n",
      "Name: brand, Length: 83, dtype: int64\n",
      "\n",
      "Body Counts:\n",
      "Sedan          212632\n",
      "SUV            119292\n",
      "sedan           41906\n",
      "suv             24552\n",
      "Hatchback       21380\n",
      "                ...  \n",
      "g37 coupe           1\n",
      "cab plus 4          1\n",
      "CTS-V Wagon         1\n",
      "Ram Van             1\n",
      "cts wagon           1\n",
      "Name: body, Length: 86, dtype: int64\n",
      "\n"
     ]
    }
   ],
   "source": [
    "#Function for capitalising and mapping brand and body names\n",
    "def clean_and_count(df, mapping_dict):\n",
    "    for column_name, mapping in mapping_dict.items():\n",
    "        if mapping:\n",
    "            df.loc[:, column_name] = df[column_name].replace(mapping)\n",
    "        else:\n",
    "            df.loc[:, column_name] = df[column_name].apply(lambda x: x.capitalize())\n",
    "\n",
    "        counts = df[column_name].value_counts()\n",
    "        print(f\"{column_name.capitalize()} Counts:\")\n",
    "        print(counts)\n",
    "        print()\n",
    "\n",
    "#Mapping dictionaries for capitalisation\n",
    "mapping_dict = {\n",
    "    'brand': {'vw': 'Volkswagen', 'ford tk': 'Ford', 'ford truck': 'Ford', 'chev truck': 'Chevrolet',\n",
    "              'dodge tk': 'Dodge', 'hyundai tk': 'Hyundai', 'bmw': 'BMW', 'mercedes-b': 'Mercedes-Benz',\n",
    "              'mercedes': 'Mercedes-Benz', 'gmc': 'GMC', 'gmc truck': 'GMC', 'mazda tk': 'Mazda', \n",
    "              'landrover': 'Land Rover'},\n",
    "    'body': {'Suv': 'SUV', 'Supercrew': 'SuperCrew', 'Regular-Cab': 'Regular Cab'}\n",
    "}\n",
    "\n",
    "#Calling the function to capitalise and count occurrences in specified columns\n",
    "clean_and_count(car_df.copy(), mapping_dict)\n"
   ]
  },
  {
   "cell_type": "code",
   "execution_count": 83,
   "metadata": {},
   "outputs": [
    {
     "name": "stdout",
     "output_type": "stream",
     "text": [
      "There are 0 in the dataset\n"
     ]
    }
   ],
   "source": [
    "#Checking duplicates\n",
    "duplicates = car_df.duplicated().sum()\n",
    "if duplicates == 0:\n",
    "    print(\"There are \" + str(duplicates) + \" in the dataset\")\n",
    "else:\n",
    "    print(\"There are\" + str(duplicates) + \"in the dataset\")\n",
    "# print(\"Duplicate values: \" + str(duplicates))"
   ]
  },
  {
   "cell_type": "code",
   "execution_count": 84,
   "metadata": {},
   "outputs": [
    {
     "name": "stdout",
     "output_type": "stream",
     "text": [
      "['year', 'condition', 'odometer', 'sellingprice']\n",
      "['brand', 'model', 'trim', 'body', 'transmission', 'color', 'saledate']\n"
     ]
    }
   ],
   "source": [
    "#After all the chagnes to the dataset, updating the numerical and categorical column variables\n",
    "num_update = ['year', 'condition', 'odometer', 'sellingprice']\n",
    "cat_update = ['brand', 'model', 'trim', 'body', 'transmission', 'color', 'saledate']\n",
    "\n",
    "print(num_update)\n",
    "print(cat_update)"
   ]
  },
  {
   "cell_type": "code",
   "execution_count": 85,
   "metadata": {},
   "outputs": [
    {
     "name": "stdout",
     "output_type": "stream",
     "text": [
      "Data types in this dataset are:\n",
      "year              int64\n",
      "brand            object\n",
      "model            object\n",
      "trim             object\n",
      "body             object\n",
      "transmission     object\n",
      "vin              object\n",
      "state            object\n",
      "condition       float64\n",
      "odometer        float64\n",
      "color            object\n",
      "interior         object\n",
      "seller           object\n",
      "mmr               int64\n",
      "sellingprice      int64\n",
      "saledate         object\n",
      "dtype: object\n"
     ]
    }
   ],
   "source": [
    "#Checking data types for every column\n",
    "print(\"Data types in this dataset are:\")\n",
    "print(car_df.dtypes)"
   ]
  },
  {
   "cell_type": "markdown",
   "metadata": {},
   "source": [
    "__Adding top 20 columns for all categorical columns__"
   ]
  },
  {
   "cell_type": "code",
   "execution_count": 86,
   "metadata": {},
   "outputs": [],
   "source": [
    "#Making a function to put the column in the top 20, if not it will be put into the others category\n",
    "def top_20_categorical(df, column_name):\n",
    "    #Determine the top 20 most frequent values in the specified column\n",
    "    top_20_values = df[column_name].value_counts().head(20).index.tolist()\n",
    "    \n",
    "    #Define a function to categorise values based on top 20 or 'Others'\n",
    "    def categorise(value):\n",
    "        if value in top_20_values:  #Check if the value is in the top 20\n",
    "            return value  #Keep the original value if it's in the top 20\n",
    "        else:\n",
    "            return 'Others'  #Assign 'Others' if the value is not in the top 20\n",
    "    \n",
    "    #Create a new column by categorising values based on the defined function\n",
    "    df[f'top_20_{column_name}'] = df[column_name].apply(categorise)"
   ]
  },
  {
   "cell_type": "markdown",
   "metadata": {},
   "source": [
    "__Brand column__"
   ]
  },
  {
   "cell_type": "code",
   "execution_count": 87,
   "metadata": {},
   "outputs": [
    {
     "name": "stdout",
     "output_type": "stream",
     "text": [
      "['Kia' 'BMW' 'Volvo' 'Nissan' 'Chevrolet' 'Audi' 'Ford' 'Hyundai' 'Buick'\n",
      " 'Cadillac' 'Acura' 'Lexus' 'Infiniti' 'Jeep' 'Mercedes-Benz' 'Mitsubishi'\n",
      " 'Mazda' 'MINI' 'Land Rover' 'Lincoln' 'lincoln' 'Jaguar' 'Volkswagen'\n",
      " 'Toyota' 'Subaru' 'Scion' 'Porsche' 'bmw' 'Dodge' 'FIAT' 'Chrysler'\n",
      " 'ford' 'Ferrari' 'Honda' 'GMC' 'mitsubishi' 'Ram' 'smart' 'chevrolet'\n",
      " 'Bentley' 'chrysler' 'pontiac' 'Pontiac' 'Saturn' 'Maserati' 'Mercury'\n",
      " 'HUMMER' 'landrover' 'cadillac' 'land rover' 'mercedes' 'mazda' 'toyota'\n",
      " 'lexus' 'gmc truck' 'honda' 'nissan' 'porsche' 'Saab' 'Suzuki' 'dodge'\n",
      " 'subaru' 'Oldsmobile' 'oldsmobile' 'hyundai' 'jeep' 'Isuzu' 'dodge tk'\n",
      " 'Geo' 'acura' 'volkswagen' 'suzuki' 'kia' 'audi' 'Rolls-Royce' 'gmc'\n",
      " 'maserati' 'mazda tk' 'mercury' 'buick' 'hyundai tk' 'mercedes-b' 'vw'\n",
      " 'Daewoo' 'chev truck' 'ford tk' 'plymouth' 'Plymouth' 'ford truck'\n",
      " 'Tesla' 'airstream' 'dot' 'Aston Martin' 'Fisker' 'Lamborghini' 'Lotus']\n",
      "96\n"
     ]
    }
   ],
   "source": [
    "print(car_df['brand'].unique())\n",
    "print(len(car_df['brand'].unique()))"
   ]
  },
  {
   "cell_type": "code",
   "execution_count": 88,
   "metadata": {},
   "outputs": [],
   "source": [
    "top_20_categorical(car_df, 'brand')"
   ]
  },
  {
   "cell_type": "markdown",
   "metadata": {},
   "source": [
    "__Body column__"
   ]
  },
  {
   "cell_type": "code",
   "execution_count": 89,
   "metadata": {},
   "outputs": [
    {
     "name": "stdout",
     "output_type": "stream",
     "text": [
      "['suv' 'sedan' 'convertible' 'coupe' 'wagon' 'hatchback' 'crew cab'\n",
      " 'g coupe' 'g sedan' 'elantra coupe' 'genesis coupe' 'minivan' 'van'\n",
      " 'double cab' 'crewmax cab' 'access cab' 'king cab' 'supercrew'\n",
      " 'cts coupe' 'extended cab' 'e-series van' 'supercab' 'regular cab'\n",
      " 'g convertible' 'koup' 'quad cab' 'cts-v coupe' 'g37 convertible'\n",
      " 'club cab' 'xtracab' 'q60 convertible' 'cts wagon' 'g37 coupe' 'mega cab'\n",
      " 'cab plus 4' 'q60 coupe' 'cab plus' 'beetle convertible'\n",
      " 'tsx sport wagon' 'promaster cargo van' 'granturismo convertible'\n",
      " 'cts-v wagon' 'ram van' 'transit van' 'regular-cab']\n",
      "45\n"
     ]
    }
   ],
   "source": [
    "car_df['body'] = car_df['body'].str.lower()\n",
    "print(car_df['body'].unique())\n",
    "print(len(car_df['body'].unique()))"
   ]
  },
  {
   "cell_type": "code",
   "execution_count": 90,
   "metadata": {},
   "outputs": [
    {
     "name": "stdout",
     "output_type": "stream",
     "text": [
      "558811\n"
     ]
    }
   ],
   "source": [
    "print(car_df['body'].count())"
   ]
  },
  {
   "cell_type": "code",
   "execution_count": 91,
   "metadata": {},
   "outputs": [],
   "source": [
    "top_20_categorical(car_df, 'body')"
   ]
  },
  {
   "cell_type": "code",
   "execution_count": 92,
   "metadata": {},
   "outputs": [
    {
     "data": {
      "text/html": [
       "<div>\n",
       "<style scoped>\n",
       "    .dataframe tbody tr th:only-of-type {\n",
       "        vertical-align: middle;\n",
       "    }\n",
       "\n",
       "    .dataframe tbody tr th {\n",
       "        vertical-align: top;\n",
       "    }\n",
       "\n",
       "    .dataframe thead th {\n",
       "        text-align: right;\n",
       "    }\n",
       "</style>\n",
       "<table border=\"1\" class=\"dataframe\">\n",
       "  <thead>\n",
       "    <tr style=\"text-align: right;\">\n",
       "      <th></th>\n",
       "      <th>year</th>\n",
       "      <th>brand</th>\n",
       "      <th>model</th>\n",
       "      <th>trim</th>\n",
       "      <th>body</th>\n",
       "      <th>transmission</th>\n",
       "      <th>vin</th>\n",
       "      <th>state</th>\n",
       "      <th>condition</th>\n",
       "      <th>odometer</th>\n",
       "      <th>color</th>\n",
       "      <th>interior</th>\n",
       "      <th>seller</th>\n",
       "      <th>mmr</th>\n",
       "      <th>sellingprice</th>\n",
       "      <th>saledate</th>\n",
       "      <th>top_20_brand</th>\n",
       "      <th>top_20_body</th>\n",
       "    </tr>\n",
       "  </thead>\n",
       "  <tbody>\n",
       "    <tr>\n",
       "      <th>0</th>\n",
       "      <td>2015</td>\n",
       "      <td>Kia</td>\n",
       "      <td>Sorento</td>\n",
       "      <td>LX</td>\n",
       "      <td>suv</td>\n",
       "      <td>automatic</td>\n",
       "      <td>5xyktca69fg566472</td>\n",
       "      <td>ca</td>\n",
       "      <td>5.0</td>\n",
       "      <td>16639.0</td>\n",
       "      <td>white</td>\n",
       "      <td>black</td>\n",
       "      <td>kia motors america, inc</td>\n",
       "      <td>20500</td>\n",
       "      <td>21500</td>\n",
       "      <td>Tue Dec 16 2014 12:30:00 GMT-0800 (PST)</td>\n",
       "      <td>Kia</td>\n",
       "      <td>suv</td>\n",
       "    </tr>\n",
       "    <tr>\n",
       "      <th>1</th>\n",
       "      <td>2015</td>\n",
       "      <td>Kia</td>\n",
       "      <td>Sorento</td>\n",
       "      <td>LX</td>\n",
       "      <td>suv</td>\n",
       "      <td>automatic</td>\n",
       "      <td>5xyktca69fg561319</td>\n",
       "      <td>ca</td>\n",
       "      <td>5.0</td>\n",
       "      <td>9393.0</td>\n",
       "      <td>white</td>\n",
       "      <td>beige</td>\n",
       "      <td>kia motors america, inc</td>\n",
       "      <td>20800</td>\n",
       "      <td>21500</td>\n",
       "      <td>Tue Dec 16 2014 12:30:00 GMT-0800 (PST)</td>\n",
       "      <td>Kia</td>\n",
       "      <td>suv</td>\n",
       "    </tr>\n",
       "    <tr>\n",
       "      <th>2</th>\n",
       "      <td>2014</td>\n",
       "      <td>BMW</td>\n",
       "      <td>3 Series</td>\n",
       "      <td>328i SULEV</td>\n",
       "      <td>sedan</td>\n",
       "      <td>automatic</td>\n",
       "      <td>wba3c1c51ek116351</td>\n",
       "      <td>ca</td>\n",
       "      <td>4.5</td>\n",
       "      <td>1331.0</td>\n",
       "      <td>gray</td>\n",
       "      <td>black</td>\n",
       "      <td>financial services remarketing (lease)</td>\n",
       "      <td>31900</td>\n",
       "      <td>30000</td>\n",
       "      <td>Thu Jan 15 2015 04:30:00 GMT-0800 (PST)</td>\n",
       "      <td>BMW</td>\n",
       "      <td>sedan</td>\n",
       "    </tr>\n",
       "    <tr>\n",
       "      <th>3</th>\n",
       "      <td>2015</td>\n",
       "      <td>Volvo</td>\n",
       "      <td>S60</td>\n",
       "      <td>T5</td>\n",
       "      <td>sedan</td>\n",
       "      <td>automatic</td>\n",
       "      <td>yv1612tb4f1310987</td>\n",
       "      <td>ca</td>\n",
       "      <td>4.1</td>\n",
       "      <td>14282.0</td>\n",
       "      <td>white</td>\n",
       "      <td>black</td>\n",
       "      <td>volvo na rep/world omni</td>\n",
       "      <td>27500</td>\n",
       "      <td>27750</td>\n",
       "      <td>Thu Jan 29 2015 04:30:00 GMT-0800 (PST)</td>\n",
       "      <td>Others</td>\n",
       "      <td>sedan</td>\n",
       "    </tr>\n",
       "    <tr>\n",
       "      <th>4</th>\n",
       "      <td>2014</td>\n",
       "      <td>BMW</td>\n",
       "      <td>6 Series Gran Coupe</td>\n",
       "      <td>650i</td>\n",
       "      <td>sedan</td>\n",
       "      <td>automatic</td>\n",
       "      <td>wba6b2c57ed129731</td>\n",
       "      <td>ca</td>\n",
       "      <td>4.3</td>\n",
       "      <td>2641.0</td>\n",
       "      <td>gray</td>\n",
       "      <td>black</td>\n",
       "      <td>financial services remarketing (lease)</td>\n",
       "      <td>66000</td>\n",
       "      <td>67000</td>\n",
       "      <td>Thu Dec 18 2014 12:30:00 GMT-0800 (PST)</td>\n",
       "      <td>BMW</td>\n",
       "      <td>sedan</td>\n",
       "    </tr>\n",
       "  </tbody>\n",
       "</table>\n",
       "</div>"
      ],
      "text/plain": [
       "   year  brand                model        trim   body transmission  \\\n",
       "0  2015    Kia              Sorento          LX    suv    automatic   \n",
       "1  2015    Kia              Sorento          LX    suv    automatic   \n",
       "2  2014    BMW             3 Series  328i SULEV  sedan    automatic   \n",
       "3  2015  Volvo                  S60          T5  sedan    automatic   \n",
       "4  2014    BMW  6 Series Gran Coupe        650i  sedan    automatic   \n",
       "\n",
       "                 vin state  condition  odometer  color interior  \\\n",
       "0  5xyktca69fg566472    ca        5.0   16639.0  white    black   \n",
       "1  5xyktca69fg561319    ca        5.0    9393.0  white    beige   \n",
       "2  wba3c1c51ek116351    ca        4.5    1331.0   gray    black   \n",
       "3  yv1612tb4f1310987    ca        4.1   14282.0  white    black   \n",
       "4  wba6b2c57ed129731    ca        4.3    2641.0   gray    black   \n",
       "\n",
       "                                   seller    mmr  sellingprice  \\\n",
       "0                 kia motors america, inc  20500         21500   \n",
       "1                 kia motors america, inc  20800         21500   \n",
       "2  financial services remarketing (lease)  31900         30000   \n",
       "3                 volvo na rep/world omni  27500         27750   \n",
       "4  financial services remarketing (lease)  66000         67000   \n",
       "\n",
       "                                  saledate top_20_brand top_20_body  \n",
       "0  Tue Dec 16 2014 12:30:00 GMT-0800 (PST)          Kia         suv  \n",
       "1  Tue Dec 16 2014 12:30:00 GMT-0800 (PST)          Kia         suv  \n",
       "2  Thu Jan 15 2015 04:30:00 GMT-0800 (PST)          BMW       sedan  \n",
       "3  Thu Jan 29 2015 04:30:00 GMT-0800 (PST)       Others       sedan  \n",
       "4  Thu Dec 18 2014 12:30:00 GMT-0800 (PST)          BMW       sedan  "
      ]
     },
     "execution_count": 92,
     "metadata": {},
     "output_type": "execute_result"
    }
   ],
   "source": [
    "car_df.head()"
   ]
  },
  {
   "cell_type": "markdown",
   "metadata": {},
   "source": [
    "## <font color='red'>**1. EDA**</font>"
   ]
  },
  {
   "cell_type": "code",
   "execution_count": 93,
   "metadata": {},
   "outputs": [
    {
     "name": "stdout",
     "output_type": "stream",
     "text": [
      "Basic statistics for numerical features:\n",
      "                year       odometer            mmr   sellingprice\n",
      "count  558811.000000  558811.000000  558811.000000  558811.000000\n",
      "mean     2010.038696   68320.493065   13769.324646   13611.262461\n",
      "std         3.966812   53393.668190    9679.874607    9749.656919\n",
      "min      1982.000000       1.000000      25.000000       1.000000\n",
      "25%      2007.000000   28378.000000    7100.000000    6900.000000\n",
      "50%      2012.000000   52256.000000   12250.000000   12100.000000\n",
      "75%      2013.000000   99104.500000   18300.000000   18200.000000\n",
      "max      2015.000000  999999.000000  182000.000000  230000.000000\n"
     ]
    }
   ],
   "source": [
    "# Selecting numerical columns for basic statistics\n",
    "numerical_features = ['year', 'odometer', 'mmr', 'sellingprice']\n",
    "\n",
    "# Calculating basic statistics using describe()\n",
    "basic_stats = car_df[numerical_features].describe()\n",
    "\n",
    "# Displaying basic statistics\n",
    "print(\"Basic statistics for numerical features:\")\n",
    "print(basic_stats)"
   ]
  },
  {
   "cell_type": "code",
   "execution_count": 94,
   "metadata": {},
   "outputs": [
    {
     "data": {
      "image/png": "[encoded data removed]",
      "text/plain": [
       "<Figure size 1000x800 with 2 Axes>"
      ]
     },
     "metadata": {},
     "output_type": "display_data"
    }
   ],
   "source": [
    "#Selecting numerical columns\n",
    "numerical_columns = ['year', 'condition', 'odometer', 'mmr', 'sellingprice']\n",
    "\n",
    "#Creating a correlation matrix\n",
    "numerical_corr = car_df[numerical_columns].corr()\n",
    "\n",
    "#Visualising the correlation matrix using a heatmap\n",
    "plt.figure(figsize=(10, 8))\n",
    "sns.heatmap(numerical_corr, annot=True, cmap='coolwarm', fmt='.2f')\n",
    "plt.title('Correlation Matrix for Numerical Columns')\n",
    "plt.show()"
   ]
  },
  {
   "cell_type": "code",
   "execution_count": 95,
   "metadata": {},
   "outputs": [
    {
     "data": {
      "text/plain": [
       "sellingprice    1.000000\n",
       "mmr             0.983634\n",
       "year            0.586488\n",
       "condition       0.532972\n",
       "odometer       -0.582282\n",
       "Name: sellingprice, dtype: float64"
      ]
     },
     "execution_count": 95,
     "metadata": {},
     "output_type": "execute_result"
    }
   ],
   "source": [
    "numerical_corr[\"sellingprice\"].sort_values(ascending=False)"
   ]
  },
  {
   "cell_type": "code",
   "execution_count": 96,
   "metadata": {},
   "outputs": [
    {
     "name": "stdout",
     "output_type": "stream",
     "text": [
      "Pearson correlation of numerical variables with 'sellingprice':\n",
      "sellingprice    1.000000\n",
      "mmr             0.983634\n",
      "year            0.586488\n",
      "condition       0.532972\n",
      "odometer       -0.582282\n",
      "Name: sellingprice, dtype: float64\n",
      "\n",
      "Spearman correlation of numerical variables with 'sellingprice':\n",
      "sellingprice    1.000000\n",
      "mmr             0.979468\n",
      "year            0.679326\n",
      "condition       0.611508\n",
      "odometer       -0.704410\n",
      "Name: sellingprice, dtype: float64\n"
     ]
    }
   ],
   "source": [
    "# Selecting numerical columns of interest\n",
    "numerical_columns = ['mmr', 'year', 'condition', 'odometer', 'sellingprice']\n",
    "\n",
    "# Calculating Pearson correlation\n",
    "pearson_corr = car_df[numerical_columns].corr(method='pearson')['sellingprice'].sort_values(ascending=False)\n",
    "\n",
    "# Calculating Spearman correlation\n",
    "spearman_corr = car_df[numerical_columns].corr(method='spearman')['sellingprice'].sort_values(ascending=False)\n",
    "\n",
    "print(\"Pearson correlation of numerical variables with 'sellingprice':\")\n",
    "print(pearson_corr)\n",
    "\n",
    "print(\"\\nSpearman correlation of numerical variables with 'sellingprice':\")\n",
    "print(spearman_corr)"
   ]
  },
  {
   "cell_type": "markdown",
   "metadata": {},
   "source": [
    "The correlation coefficients (Pearson and Spearman) between the numerical variables and the 'sellingprice' provide insights into the relationships between these variables:\n",
    "\n",
    "1. Pearson Correlation:\n",
    "    - The 'sellingprice' has a very strong positive correlation with 'mmr' (0.984), suggesting a high linear relationship between the maximum retail price ('mmr') and the selling price.\n",
    "    - A moderately positive correlation exists between 'sellingprice' and 'year' (0.586) and 'condition' (0.539). This indicates that newer years and better conditions tend to be associated with higher selling prices, but the relationship is not as strong as with 'mmr'.\n",
    "    - 'Sellingprice' has a moderately negative correlation with 'odometer' (-0.582), implying that as the odometer reading increases (indicating higher mileage), the selling price tends to decrease.\n",
    "\n",
    "2. Spearman Correlation:\n",
    "    - The Spearman correlation coefficients show similar trends to the Pearson correlation, but they consider monotonic relationships rather than just linear ones.\n",
    "    - 'mmr' demonstrates a very strong positive monotonic relationship with 'sellingprice' (0.979).\n",
    "    - 'Year', 'condition', and 'odometer' also show relatively strong positive and negative monotonic relationships with 'sellingprice', similar to Pearson correlations but considering non-linear associations.\n",
    "\n",
    "Conclusions:\n",
    "- Both Pearson and Spearman correlations indicate that 'mmr' has the strongest association with 'sellingprice', suggesting that the maximum retail price is highly influential in determining the selling price of cars.\n",
    "- 'Year' and 'condition' have moderate positive associations, indicating that newer vehicles in better condition tend to have higher selling prices.\n",
    "- Conversely, 'odometer' (indicating higher mileage) has a moderate negative association, meaning that increased mileage tends to decrease the selling price.\n",
    "\n",
    "Correlation does not imply causation, and other factors not considered here might influence the selling price of cars. These correlation coefficients provide valuable insights into the relationships between these variables but do not establish causative relationships."
   ]
  },
  {
   "cell_type": "code",
   "execution_count": 97,
   "metadata": {},
   "outputs": [
    {
     "data": {
      "image/png": "[encoded data removed]",
      "text/plain": [
       "<Figure size 2500x600 with 1 Axes>"
      ]
     },
     "metadata": {},
     "output_type": "display_data"
    }
   ],
   "source": [
    "#Selecting a categorical column ('brand') to visualise its relationship with 'sellingprice'\n",
    "categorical_column = 'brand'\n",
    "\n",
    "#Creating a box plot to show 'sellingprice' distribution across different categories of 'brand'\n",
    "plt.figure(figsize=(25, 6))\n",
    "sns.boxplot(x=categorical_column, y='sellingprice', data=car_df)\n",
    "plt.title(f'{categorical_column.capitalize()} vs Selling Price')\n",
    "plt.xlabel(categorical_column.capitalize())\n",
    "plt.ylabel('Selling Price')\n",
    "plt.xticks(rotation=45)\n",
    "plt.show()"
   ]
  },
  {
   "cell_type": "code",
   "execution_count": 98,
   "metadata": {},
   "outputs": [
    {
     "data": {
      "image/png": "[encoded data removed]",
      "text/plain": [
       "<Figure size 1200x800 with 6 Axes>"
      ]
     },
     "metadata": {},
     "output_type": "display_data"
    }
   ],
   "source": [
    "#Comparing different features to the price\n",
    "categrical_columns=['brand', 'body', 'transmission', 'state', 'color', 'interior']\n",
    "plt.figure(figsize=(12,8))\n",
    "for feature in categrical_columns:\n",
    "    plt.subplot(3, 3, categrical_columns.index(feature) + 1)\n",
    "    sns.barplot(data=car_df, x=feature, y='sellingprice')\n",
    "    plt.title(f'{feature} vs. Price')\n",
    "plt.tight_layout()\n",
    "plt.show()"
   ]
  },
  {
   "cell_type": "code",
   "execution_count": 99,
   "metadata": {},
   "outputs": [
    {
     "data": {
      "image/png": "[encoded data removed]",
      "text/plain": [
       "<Figure size 1000x1200 with 2 Axes>"
      ]
     },
     "metadata": {},
     "output_type": "display_data"
    }
   ],
   "source": [
    "#Checking the top 10 and bottom 10 cars that are auctioned\n",
    "top_10_brands = car_df['brand'].value_counts().nlargest(10)\n",
    "bottom_10_brands = car_df['brand'].value_counts().nsmallest(10)\n",
    "\n",
    "#Plotting both top 10 and bottom 10 brands in one figure\n",
    "fig, axes = plt.subplots(nrows=2, ncols=1, figsize=(10, 12))\n",
    "\n",
    "#Plotting the top 10 brands\n",
    "axes[0].bar(top_10_brands.index, top_10_brands, color='darkblue')\n",
    "axes[0].set_title('Top 10 Car Brands')\n",
    "axes[0].set_xlabel('Brands')\n",
    "axes[0].set_ylabel('Frequency')\n",
    "axes[0].tick_params(axis='x', rotation=45)\n",
    "\n",
    "#Plotting the bottom 10 brands\n",
    "axes[1].bar(bottom_10_brands.index, bottom_10_brands, color='darkred')\n",
    "axes[1].set_title('Bottom 10 Car Brands')\n",
    "axes[1].set_xlabel('Brands')\n",
    "axes[1].set_ylabel('Frequency')\n",
    "axes[1].tick_params(axis='x', rotation=45)\n",
    "\n",
    "plt.tight_layout()\n",
    "plt.show()"
   ]
  },
  {
   "cell_type": "code",
   "execution_count": 100,
   "metadata": {},
   "outputs": [
    {
     "data": {
      "application/vnd.plotly.v1+json": {
       "config": {
        "plotlyServerURL": "https://plot.ly"
       },
       "data": [
        {
         "domain": {
          "x": [
           0,
           1
          ],
          "y": [
           0,
           1
          ]
         },
         "hovertemplate": "body=%{label}<br>percent=%{value}<extra></extra>",
         "labels": [
          "sedan",
          "suv",
          "hatchback",
          "minivan",
          "coupe",
          "crew cab",
          "wagon",
          "convertible",
          "supercrew",
          "g sedan",
          "Other"
         ],
         "legendgroup": "",
         "name": "",
         "showlegend": true,
         "type": "pie",
         "values": [
          0.45549926540458224,
          0.25741082405321297,
          0.04695147375409575,
          0.04568449797874415,
          0.031767449101753546,
          0.029337289351855995,
          0.028863068193002644,
          0.018746946642066817,
          0.016164678218574795,
          0.013272823906472851,
          0.056301683395638236
         ]
        }
       ],
       "layout": {
        "height": 500,
        "legend": {
         "tracegroupgap": 0
        },
        "template": {
         "data": {
          "bar": [
           {
            "error_x": {
             "color": "#2a3f5f"
            },
            "error_y": {
             "color": "#2a3f5f"
            },
            "marker": {
             "line": {
              "color": "#E5ECF6",
              "width": 0.5
             },
             "pattern": {
              "fillmode": "overlay",
              "size": 10,
              "solidity": 0.2
             }
            },
            "type": "bar"
           }
          ],
          "barpolar": [
           {
            "marker": {
             "line": {
              "color": "#E5ECF6",
              "width": 0.5
             },
             "pattern": {
              "fillmode": "overlay",
              "size": 10,
              "solidity": 0.2
             }
            },
            "type": "barpolar"
           }
          ],
          "carpet": [
           {
            "aaxis": {
             "endlinecolor": "#2a3f5f",
             "gridcolor": "white",
             "linecolor": "white",
             "minorgridcolor": "white",
             "startlinecolor": "#2a3f5f"
            },
            "baxis": {
             "endlinecolor": "#2a3f5f",
             "gridcolor": "white",
             "linecolor": "white",
             "minorgridcolor": "white",
             "startlinecolor": "#2a3f5f"
            },
            "type": "carpet"
           }
          ],
          "choropleth": [
           {
            "colorbar": {
             "outlinewidth": 0,
             "ticks": ""
            },
            "type": "choropleth"
           }
          ],
          "contour": [
           {
            "colorbar": {
             "outlinewidth": 0,
             "ticks": ""
            },
            "colorscale": [
             [
              0,
              "#0d0887"
             ],
             [
              0.1111111111111111,
              "#46039f"
             ],
             [
              0.2222222222222222,
              "#7201a8"
             ],
             [
              0.3333333333333333,
              "#9c179e"
             ],
             [
              0.4444444444444444,
              "#bd3786"
             ],
             [
              0.5555555555555556,
              "#d8576b"
             ],
             [
              0.6666666666666666,
              "#ed7953"
             ],
             [
              0.7777777777777778,
              "#fb9f3a"
             ],
             [
              0.8888888888888888,
              "#fdca26"
             ],
             [
              1,
              "#f0f921"
             ]
            ],
            "type": "contour"
           }
          ],
          "contourcarpet": [
           {
            "colorbar": {
             "outlinewidth": 0,
             "ticks": ""
            },
            "type": "contourcarpet"
           }
          ],
          "heatmap": [
           {
            "colorbar": {
             "outlinewidth": 0,
             "ticks": ""
            },
            "colorscale": [
             [
              0,
              "#0d0887"
             ],
             [
              0.1111111111111111,
              "#46039f"
             ],
             [
              0.2222222222222222,
              "#7201a8"
             ],
             [
              0.3333333333333333,
              "#9c179e"
             ],
             [
              0.4444444444444444,
              "#bd3786"
             ],
             [
              0.5555555555555556,
              "#d8576b"
             ],
             [
              0.6666666666666666,
              "#ed7953"
             ],
             [
              0.7777777777777778,
              "#fb9f3a"
             ],
             [
              0.8888888888888888,
              "#fdca26"
             ],
             [
              1,
              "#f0f921"
             ]
            ],
            "type": "heatmap"
           }
          ],
          "heatmapgl": [
           {
            "colorbar": {
             "outlinewidth": 0,
             "ticks": ""
            },
            "colorscale": [
             [
              0,
              "#0d0887"
             ],
             [
              0.1111111111111111,
              "#46039f"
             ],
             [
              0.2222222222222222,
              "#7201a8"
             ],
             [
              0.3333333333333333,
              "#9c179e"
             ],
             [
              0.4444444444444444,
              "#bd3786"
             ],
             [
              0.5555555555555556,
              "#d8576b"
             ],
             [
              0.6666666666666666,
              "#ed7953"
             ],
             [
              0.7777777777777778,
              "#fb9f3a"
             ],
             [
              0.8888888888888888,
              "#fdca26"
             ],
             [
              1,
              "#f0f921"
             ]
            ],
            "type": "heatmapgl"
           }
          ],
          "histogram": [
           {
            "marker": {
             "pattern": {
              "fillmode": "overlay",
              "size": 10,
              "solidity": 0.2
             }
            },
            "type": "histogram"
           }
          ],
          "histogram2d": [
           {
            "colorbar": {
             "outlinewidth": 0,
             "ticks": ""
            },
            "colorscale": [
             [
              0,
              "#0d0887"
             ],
             [
              0.1111111111111111,
              "#46039f"
             ],
             [
              0.2222222222222222,
              "#7201a8"
             ],
             [
              0.3333333333333333,
              "#9c179e"
             ],
             [
              0.4444444444444444,
              "#bd3786"
             ],
             [
              0.5555555555555556,
              "#d8576b"
             ],
             [
              0.6666666666666666,
              "#ed7953"
             ],
             [
              0.7777777777777778,
              "#fb9f3a"
             ],
             [
              0.8888888888888888,
              "#fdca26"
             ],
             [
              1,
              "#f0f921"
             ]
            ],
            "type": "histogram2d"
           }
          ],
          "histogram2dcontour": [
           {
            "colorbar": {
             "outlinewidth": 0,
             "ticks": ""
            },
            "colorscale": [
             [
              0,
              "#0d0887"
             ],
             [
              0.1111111111111111,
              "#46039f"
             ],
             [
              0.2222222222222222,
              "#7201a8"
             ],
             [
              0.3333333333333333,
              "#9c179e"
             ],
             [
              0.4444444444444444,
              "#bd3786"
             ],
             [
              0.5555555555555556,
              "#d8576b"
             ],
             [
              0.6666666666666666,
              "#ed7953"
             ],
             [
              0.7777777777777778,
              "#fb9f3a"
             ],
             [
              0.8888888888888888,
              "#fdca26"
             ],
             [
              1,
              "#f0f921"
             ]
            ],
            "type": "histogram2dcontour"
           }
          ],
          "mesh3d": [
           {
            "colorbar": {
             "outlinewidth": 0,
             "ticks": ""
            },
            "type": "mesh3d"
           }
          ],
          "parcoords": [
           {
            "line": {
             "colorbar": {
              "outlinewidth": 0,
              "ticks": ""
             }
            },
            "type": "parcoords"
           }
          ],
          "pie": [
           {
            "automargin": true,
            "type": "pie"
           }
          ],
          "scatter": [
           {
            "fillpattern": {
             "fillmode": "overlay",
             "size": 10,
             "solidity": 0.2
            },
            "type": "scatter"
           }
          ],
          "scatter3d": [
           {
            "line": {
             "colorbar": {
              "outlinewidth": 0,
              "ticks": ""
             }
            },
            "marker": {
             "colorbar": {
              "outlinewidth": 0,
              "ticks": ""
             }
            },
            "type": "scatter3d"
           }
          ],
          "scattercarpet": [
           {
            "marker": {
             "colorbar": {
              "outlinewidth": 0,
              "ticks": ""
             }
            },
            "type": "scattercarpet"
           }
          ],
          "scattergeo": [
           {
            "marker": {
             "colorbar": {
              "outlinewidth": 0,
              "ticks": ""
             }
            },
            "type": "scattergeo"
           }
          ],
          "scattergl": [
           {
            "marker": {
             "colorbar": {
              "outlinewidth": 0,
              "ticks": ""
             }
            },
            "type": "scattergl"
           }
          ],
          "scattermapbox": [
           {
            "marker": {
             "colorbar": {
              "outlinewidth": 0,
              "ticks": ""
             }
            },
            "type": "scattermapbox"
           }
          ],
          "scatterpolar": [
           {
            "marker": {
             "colorbar": {
              "outlinewidth": 0,
              "ticks": ""
             }
            },
            "type": "scatterpolar"
           }
          ],
          "scatterpolargl": [
           {
            "marker": {
             "colorbar": {
              "outlinewidth": 0,
              "ticks": ""
             }
            },
            "type": "scatterpolargl"
           }
          ],
          "scatterternary": [
           {
            "marker": {
             "colorbar": {
              "outlinewidth": 0,
              "ticks": ""
             }
            },
            "type": "scatterternary"
           }
          ],
          "surface": [
           {
            "colorbar": {
             "outlinewidth": 0,
             "ticks": ""
            },
            "colorscale": [
             [
              0,
              "#0d0887"
             ],
             [
              0.1111111111111111,
              "#46039f"
             ],
             [
              0.2222222222222222,
              "#7201a8"
             ],
             [
              0.3333333333333333,
              "#9c179e"
             ],
             [
              0.4444444444444444,
              "#bd3786"
             ],
             [
              0.5555555555555556,
              "#d8576b"
             ],
             [
              0.6666666666666666,
              "#ed7953"
             ],
             [
              0.7777777777777778,
              "#fb9f3a"
             ],
             [
              0.8888888888888888,
              "#fdca26"
             ],
             [
              1,
              "#f0f921"
             ]
            ],
            "type": "surface"
           }
          ],
          "table": [
           {
            "cells": {
             "fill": {
              "color": "#EBF0F8"
             },
             "line": {
              "color": "white"
             }
            },
            "header": {
             "fill": {
              "color": "#C8D4E3"
             },
             "line": {
              "color": "white"
             }
            },
            "type": "table"
           }
          ]
         },
         "layout": {
          "annotationdefaults": {
           "arrowcolor": "#2a3f5f",
           "arrowhead": 0,
           "arrowwidth": 1
          },
          "autotypenumbers": "strict",
          "coloraxis": {
           "colorbar": {
            "outlinewidth": 0,
            "ticks": ""
           }
          },
          "colorscale": {
           "diverging": [
            [
             0,
             "#8e0152"
            ],
            [
             0.1,
             "#c51b7d"
            ],
            [
             0.2,
             "#de77ae"
            ],
            [
             0.3,
             "#f1b6da"
            ],
            [
             0.4,
             "#fde0ef"
            ],
            [
             0.5,
             "#f7f7f7"
            ],
            [
             0.6,
             "#e6f5d0"
            ],
            [
             0.7,
             "#b8e186"
            ],
            [
             0.8,
             "#7fbc41"
            ],
            [
             0.9,
             "#4d9221"
            ],
            [
             1,
             "#276419"
            ]
           ],
           "sequential": [
            [
             0,
             "#0d0887"
            ],
            [
             0.1111111111111111,
             "#46039f"
            ],
            [
             0.2222222222222222,
             "#7201a8"
            ],
            [
             0.3333333333333333,
             "#9c179e"
            ],
            [
             0.4444444444444444,
             "#bd3786"
            ],
            [
             0.5555555555555556,
             "#d8576b"
            ],
            [
             0.6666666666666666,
             "#ed7953"
            ],
            [
             0.7777777777777778,
             "#fb9f3a"
            ],
            [
             0.8888888888888888,
             "#fdca26"
            ],
            [
             1,
             "#f0f921"
            ]
           ],
           "sequentialminus": [
            [
             0,
             "#0d0887"
            ],
            [
             0.1111111111111111,
             "#46039f"
            ],
            [
             0.2222222222222222,
             "#7201a8"
            ],
            [
             0.3333333333333333,
             "#9c179e"
            ],
            [
             0.4444444444444444,
             "#bd3786"
            ],
            [
             0.5555555555555556,
             "#d8576b"
            ],
            [
             0.6666666666666666,
             "#ed7953"
            ],
            [
             0.7777777777777778,
             "#fb9f3a"
            ],
            [
             0.8888888888888888,
             "#fdca26"
            ],
            [
             1,
             "#f0f921"
            ]
           ]
          },
          "colorway": [
           "#636efa",
           "#EF553B",
           "#00cc96",
           "#ab63fa",
           "#FFA15A",
           "#19d3f3",
           "#FF6692",
           "#B6E880",
           "#FF97FF",
           "#FECB52"
          ],
          "font": {
           "color": "#2a3f5f"
          },
          "geo": {
           "bgcolor": "white",
           "lakecolor": "white",
           "landcolor": "#E5ECF6",
           "showlakes": true,
           "showland": true,
           "subunitcolor": "white"
          },
          "hoverlabel": {
           "align": "left"
          },
          "hovermode": "closest",
          "mapbox": {
           "style": "light"
          },
          "paper_bgcolor": "white",
          "plot_bgcolor": "#E5ECF6",
          "polar": {
           "angularaxis": {
            "gridcolor": "white",
            "linecolor": "white",
            "ticks": ""
           },
           "bgcolor": "#E5ECF6",
           "radialaxis": {
            "gridcolor": "white",
            "linecolor": "white",
            "ticks": ""
           }
          },
          "scene": {
           "xaxis": {
            "backgroundcolor": "#E5ECF6",
            "gridcolor": "white",
            "gridwidth": 2,
            "linecolor": "white",
            "showbackground": true,
            "ticks": "",
            "zerolinecolor": "white"
           },
           "yaxis": {
            "backgroundcolor": "#E5ECF6",
            "gridcolor": "white",
            "gridwidth": 2,
            "linecolor": "white",
            "showbackground": true,
            "ticks": "",
            "zerolinecolor": "white"
           },
           "zaxis": {
            "backgroundcolor": "#E5ECF6",
            "gridcolor": "white",
            "gridwidth": 2,
            "linecolor": "white",
            "showbackground": true,
            "ticks": "",
            "zerolinecolor": "white"
           }
          },
          "shapedefaults": {
           "line": {
            "color": "#2a3f5f"
           }
          },
          "ternary": {
           "aaxis": {
            "gridcolor": "white",
            "linecolor": "white",
            "ticks": ""
           },
           "baxis": {
            "gridcolor": "white",
            "linecolor": "white",
            "ticks": ""
           },
           "bgcolor": "#E5ECF6",
           "caxis": {
            "gridcolor": "white",
            "linecolor": "white",
            "ticks": ""
           }
          },
          "title": {
           "x": 0.05
          },
          "xaxis": {
           "automargin": true,
           "gridcolor": "white",
           "linecolor": "white",
           "ticks": "",
           "title": {
            "standoff": 15
           },
           "zerolinecolor": "white",
           "zerolinewidth": 2
          },
          "yaxis": {
           "automargin": true,
           "gridcolor": "white",
           "linecolor": "white",
           "ticks": "",
           "title": {
            "standoff": 15
           },
           "zerolinecolor": "white",
           "zerolinewidth": 2
          }
         }
        },
        "title": {
         "text": "Top 10 Body Types and Others"
        },
        "width": 600
       }
      }
     },
     "metadata": {},
     "output_type": "display_data"
    }
   ],
   "source": [
    "#Count the occurrences of each body type\n",
    "body_counts = car_df['body'].value_counts()\n",
    "\n",
    "#Get the top 10 body types\n",
    "top_10_bodies = body_counts.head(10)\n",
    "\n",
    "#Sum the counts of the body types not in the top 10\n",
    "other_count = body_counts[10:].sum()\n",
    "\n",
    "#Create a DataFrame with the top 10 bodies\n",
    "top_bodies_df = pd.DataFrame({\n",
    "    'body': top_10_bodies.index,\n",
    "    'percent': top_10_bodies.values / len(car_df)\n",
    "})\n",
    "\n",
    "#Calculate 'Other' category and create its DataFrame\n",
    "other_df = pd.DataFrame({'body': ['Other'], 'percent': [other_count / len(car_df)]})\n",
    "\n",
    "#Concatenate top 10 bodies DataFrame and 'Other' DataFrame\n",
    "combined_df = pd.concat([top_bodies_df, other_df], ignore_index=True)\n",
    "\n",
    "#Create the pie chart using Plotly\n",
    "fig = px.pie(\n",
    "    combined_df,\n",
    "    names='body',\n",
    "    values='percent',\n",
    "    title='Top 10 Body Types and Others',\n",
    "    width=600,\n",
    "    height=500\n",
    ")\n",
    "\n",
    "fig.show()"
   ]
  },
  {
   "cell_type": "code",
   "execution_count": 101,
   "metadata": {},
   "outputs": [
    {
     "data": {
      "image/png": "[encoded data removed]",
      "text/plain": [
       "<Figure size 1200x600 with 2 Axes>"
      ]
     },
     "metadata": {},
     "output_type": "display_data"
    }
   ],
   "source": [
    "# Grouping by 'brand' and getting count of cars sold\n",
    "cars_count = car_df['brand'].value_counts()\n",
    "\n",
    "# Selecting top 10 car brands based on max selling price\n",
    "top_car_brands = cars_count.head(10)\n",
    "\n",
    "# Plotting a bar chart showing max selling price for top 10 car brands\n",
    "plt.figure(figsize=(12, 6))\n",
    "\n",
    "# Subplot for the bar chart\n",
    "plt.subplot(1, 2, 1)\n",
    "sns.barplot(x=top_car_brands.values, y=top_car_brands.index, palette='viridis')\n",
    "plt.title('Top 10 Car Models by Max Price')\n",
    "plt.xlabel('Max Price')\n",
    "plt.ylabel('Car Model')\n",
    "\n",
    "# Subplot for the table showing count of cars sold\n",
    "plt.subplot(1, 2, 2)\n",
    "plt.table(cellText=top_car_brands.values.reshape(-1, 1), \n",
    "          rowLabels=top_car_brands.index, \n",
    "          colLabels=['Count of Cars Sold'], \n",
    "          loc='center')\n",
    "plt.axis('off')  # Hide axis for the table\n",
    "\n",
    "plt.tight_layout()\n",
    "plt.show()"
   ]
  },
  {
   "cell_type": "code",
   "execution_count": 102,
   "metadata": {},
   "outputs": [
    {
     "name": "stdout",
     "output_type": "stream",
     "text": [
      "                sum_sq        df            F  PR(>F)\n",
      "C(brand)  1.073033e+13      95.0  1488.808523     0.0\n",
      "Residual  4.238781e+13  558715.0          NaN     NaN\n"
     ]
    }
   ],
   "source": [
    "# Performing ANOVA for 'brand' and 'sellingprice'\n",
    "model = ols('sellingprice ~ C(brand)', data=car_df).fit()\n",
    "anova_table = sm.stats.anova_lm(model, typ=2)\n",
    "print(anova_table)"
   ]
  },
  {
   "cell_type": "markdown",
   "metadata": {},
   "source": [
    "The ANOVA test results show a strong relationship between the vehicle brands and their selling prices. The p-value of nearly zero indicates a significant difference in selling prices across different brands. In essence, the brand of a vehicle significantly influences its selling price in the market."
   ]
  },
  {
   "cell_type": "code",
   "execution_count": 103,
   "metadata": {},
   "outputs": [
    {
     "name": "stdout",
     "output_type": "stream",
     "text": [
      "                sum_sq        df            F  PR(>F)\n",
      "C(body)   5.657062e+12      44.0  1513.668092     0.0\n",
      "Residual  4.746108e+13  558766.0          NaN     NaN\n"
     ]
    }
   ],
   "source": [
    "# Performing ANOVA for 'brand' and 'sellingprice'\n",
    "model = ols('sellingprice ~ C(body)', data=car_df).fit()\n",
    "anova_table = sm.stats.anova_lm(model, typ=2)\n",
    "print(anova_table)"
   ]
  },
  {
   "cell_type": "code",
   "execution_count": 104,
   "metadata": {},
   "outputs": [
    {
     "name": "stdout",
     "output_type": "stream",
     "text": [
      "                       sum_sq        df            F         PR(>F)\n",
      "C(transmission)  1.043127e+11       1.0  1099.541115  7.139046e-241\n",
      "Residual         5.301382e+13  558809.0          NaN            NaN\n"
     ]
    }
   ],
   "source": [
    "# Performing ANOVA for 'brand' and 'sellingprice'\n",
    "model = ols('sellingprice ~ C(transmission)', data=car_df).fit()\n",
    "anova_table = sm.stats.anova_lm(model, typ=2)\n",
    "print(anova_table)"
   ]
  },
  {
   "cell_type": "code",
   "execution_count": 105,
   "metadata": {},
   "outputs": [
    {
     "name": "stdout",
     "output_type": "stream",
     "text": [
      "                sum_sq        df           F  PR(>F)\n",
      "C(state)  2.696877e+12      37.0  807.757634     0.0\n",
      "Residual  5.042126e+13  558773.0         NaN     NaN\n"
     ]
    }
   ],
   "source": [
    "# Performing ANOVA for 'brand' and 'sellingprice'\n",
    "model = ols('sellingprice ~ C(state)', data=car_df).fit()\n",
    "anova_table = sm.stats.anova_lm(model, typ=2)\n",
    "print(anova_table)"
   ]
  },
  {
   "cell_type": "code",
   "execution_count": 106,
   "metadata": {},
   "outputs": [
    {
     "name": "stdout",
     "output_type": "stream",
     "text": [
      "                sum_sq        df            F  PR(>F)\n",
      "C(color)  2.428159e+12      19.0  1408.804494     0.0\n",
      "Residual  5.068998e+13  558791.0          NaN     NaN\n"
     ]
    }
   ],
   "source": [
    "# Performing ANOVA for 'brand' and 'sellingprice'\n",
    "model = ols('sellingprice ~ C(color)', data=car_df).fit()\n",
    "anova_table = sm.stats.anova_lm(model, typ=2)\n",
    "print(anova_table)"
   ]
  },
  {
   "cell_type": "code",
   "execution_count": 107,
   "metadata": {},
   "outputs": [
    {
     "name": "stdout",
     "output_type": "stream",
     "text": [
      "                   sum_sq        df            F  PR(>F)\n",
      "C(interior)  3.189168e+12      16.0  2230.778921     0.0\n",
      "Residual     4.992897e+13  558794.0          NaN     NaN\n"
     ]
    }
   ],
   "source": [
    "# Performing ANOVA for 'brand' and 'sellingprice'\n",
    "model = ols('sellingprice ~ C(interior)', data=car_df).fit()\n",
    "anova_table = sm.stats.anova_lm(model, typ=2)\n",
    "print(anova_table)"
   ]
  }
 ],
 "metadata": {
  "kernelspec": {
   "display_name": "base",
   "language": "python",
   "name": "python3"
  },
  "language_info": {
   "codemirror_mode": {
    "name": "ipython",
    "version": 3
   },
   "file_extension": ".py",
   "mimetype": "text/x-python",
   "name": "python",
   "nbconvert_exporter": "python",
   "pygments_lexer": "ipython3",
   "version": "3.11.4"
  }
 },
 "nbformat": 4,
 "nbformat_minor": 2
}
